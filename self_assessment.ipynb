{
 "cells": [
  {
   "cell_type": "markdown",
   "id": "494a8b10",
   "metadata": {},
   "source": [
    "# Self-assessment\n",
    "### 194.123 Programming in Python\n",
    "**The questions below provide a quick overview of the material covered in the course. If there are more than a few questions that you are unsure about, we recommend that you take this course as a prerequisite to [188.995 Data-oriented Programming Paradigms](https://tiss.tuwien.ac.at/course/educationDetails.xhtml?dswid=2344&dsrid=881&courseNr=188995&semester=2022W)**"
   ]
  },
  {
   "cell_type": "markdown",
   "id": "ef14703e",
   "metadata": {},
   "source": [
    "### What is the difference between these import methods? Why is the last one not recommended?"
   ]
  },
  {
   "cell_type": "code",
   "execution_count": null,
   "id": "8fab73e9",
   "metadata": {
    "scrolled": true
   },
   "outputs": [],
   "source": [
    "import foo\n",
    "from foo import bar\n",
    "from foo import *"
   ]
  },
  {
   "cell_type": "markdown",
   "id": "a5f74956",
   "metadata": {},
   "source": [
    "### What is the output?"
   ]
  },
  {
   "cell_type": "code",
   "execution_count": null,
   "id": "9b6f728e",
   "metadata": {},
   "outputs": [],
   "source": [
    "def add_numbers(param1, param2=2):\n",
    "    return param1 + param2\n",
    "\n",
    "print(add_numbers(1, 3))\n",
    "print(add_numbers(10))"
   ]
  },
  {
   "cell_type": "markdown",
   "id": "a29b32b0",
   "metadata": {},
   "source": [
    "### Why does this fail and how would you fix it?"
   ]
  },
  {
   "cell_type": "code",
   "execution_count": null,
   "id": "81473025",
   "metadata": {},
   "outputs": [],
   "source": [
    "\"I am \" + 25 + \" years old.\""
   ]
  },
  {
   "cell_type": "markdown",
   "id": "0b2d214a",
   "metadata": {},
   "source": [
    "### What do these string methods do?"
   ]
  },
  {
   "cell_type": "code",
   "execution_count": null,
   "id": "85c2db97",
   "metadata": {},
   "outputs": [],
   "source": [
    "s = \"AbCD  \\n\"\n",
    "s.strip()\n",
    "s.split()\n",
    "s.startswith(\"abc\")\n",
    "s.lower().startswith(\"abc\")\n",
    "\"CD\" in s"
   ]
  },
  {
   "cell_type": "markdown",
   "id": "7c6c0c70",
   "metadata": {},
   "source": [
    "### What is the difference between lists and tuples? Why does the following fail for tuples?"
   ]
  },
  {
   "cell_type": "code",
   "execution_count": null,
   "id": "186970a3",
   "metadata": {},
   "outputs": [],
   "source": [
    "l = [1, 2, 3]\n",
    "l[1] = 10\n",
    "l"
   ]
  },
  {
   "cell_type": "code",
   "execution_count": null,
   "id": "62e7b01e",
   "metadata": {},
   "outputs": [],
   "source": [
    "t = (1, 2, 3)\n",
    "t[1] = 10"
   ]
  },
  {
   "cell_type": "markdown",
   "id": "d26d02b5",
   "metadata": {},
   "source": [
    "### What is the size of this dictionary?"
   ]
  },
  {
   "cell_type": "code",
   "execution_count": null,
   "id": "5819c70f",
   "metadata": {},
   "outputs": [],
   "source": [
    "d = {}\n",
    "d[\"a\"] = 1\n",
    "len(d)"
   ]
  },
  {
   "cell_type": "code",
   "execution_count": null,
   "id": "ccd9aff0",
   "metadata": {},
   "outputs": [],
   "source": [
    "d[\"b\"] = 2\n",
    "d[\"a\"] = 3\n",
    "len(d)"
   ]
  },
  {
   "cell_type": "markdown",
   "id": "ed972041",
   "metadata": {},
   "source": [
    "### What are type hints and what do they check for in this example? Are the function calls correct?"
   ]
  },
  {
   "cell_type": "code",
   "execution_count": null,
   "id": "517014ee",
   "metadata": {},
   "outputs": [],
   "source": [
    "def get_sum_string_length(str1: str, str2: str) -> int:\n",
    "    return len(str1) + len(str2)\n",
    "\n",
    "\n",
    "get_sum_string_length(\"abc\", \"defg\")\n",
    "get_sum_string_length(\"abc\", [1, 2, 3])"
   ]
  },
  {
   "cell_type": "markdown",
   "id": "4320de8c",
   "metadata": {},
   "source": [
    "### Are both of these class definitions correct?"
   ]
  },
  {
   "cell_type": "code",
   "execution_count": null,
   "id": "90bf8d08",
   "metadata": {},
   "outputs": [],
   "source": [
    "class A:\n",
    "    pass\n",
    "\n",
    "class B:\n",
    "    def __init__(self):\n",
    "        pass"
   ]
  },
  {
   "cell_type": "markdown",
   "id": "19cfd1ca",
   "metadata": {},
   "source": [
    "### What will this snippet print out?"
   ]
  },
  {
   "cell_type": "code",
   "execution_count": null,
   "id": "88ebdd8b",
   "metadata": {},
   "outputs": [],
   "source": [
    "class Fruit:\n",
    "    def __init__(self):\n",
    "        print(\"This is a fruit\")\n",
    "\n",
    "class Apple(Fruit):\n",
    "    pass\n",
    "\n",
    "apple = Apple()"
   ]
  },
  {
   "cell_type": "markdown",
   "id": "b7b34229",
   "metadata": {},
   "source": [
    "### Why is this code incorrect? How would you fix it?"
   ]
  },
  {
   "cell_type": "code",
   "execution_count": null,
   "id": "e5c16148",
   "metadata": {},
   "outputs": [],
   "source": [
    "class A:\n",
    "    @staticmethod\n",
    "    def method(a):\n",
    "        self.a = a"
   ]
  },
  {
   "cell_type": "markdown",
   "id": "2b20013f",
   "metadata": {},
   "source": [
    "### What will this snippet return?"
   ]
  },
  {
   "cell_type": "code",
   "execution_count": null,
   "id": "b18cf8f3",
   "metadata": {},
   "outputs": [],
   "source": [
    "class A:\n",
    "    def __init__(self):\n",
    "        self.value = 42\n",
    "    \n",
    "    def method(self):\n",
    "        return self.value\n",
    "\n",
    "class B(A):\n",
    "    def method(self):\n",
    "        return self.value * 10\n",
    "\n",
    "b = B()\n",
    "b.method()"
   ]
  },
  {
   "cell_type": "markdown",
   "id": "22e4fc52",
   "metadata": {},
   "source": [
    "### What will the following snippet return?"
   ]
  },
  {
   "cell_type": "code",
   "execution_count": null,
   "id": "dff8c46c",
   "metadata": {},
   "outputs": [],
   "source": [
    "class A:\n",
    "    def __init__(self):\n",
    "        self.attr1 = 12\n",
    "        \n",
    "getattr(A(), 'attr1')"
   ]
  },
  {
   "cell_type": "markdown",
   "id": "29f824dc",
   "metadata": {},
   "source": [
    "### What are the elements (in order) of the following list?\n",
    "\n",
    "Hint: think of flattening a matrix."
   ]
  },
  {
   "cell_type": "code",
   "execution_count": null,
   "id": "f8d0556b",
   "metadata": {},
   "outputs": [],
   "source": [
    "l1 = [[0, 1], [2, 3]]\n",
    "\n",
    "l2 = [element for l in l1 for element in l]"
   ]
  },
  {
   "cell_type": "markdown",
   "id": "c2e1ce56",
   "metadata": {},
   "source": [
    "### What will the following snippet print out?"
   ]
  },
  {
   "cell_type": "code",
   "execution_count": null,
   "id": "99dfa008",
   "metadata": {},
   "outputs": [],
   "source": [
    "def my_generator(limit: int):\n",
    "    for i in range(limit):\n",
    "        yield i\n",
    "\n",
    "gen_obj = my_generator(10)\n",
    "for element in gen_obj:\n",
    "    print(element)"
   ]
  },
  {
   "cell_type": "markdown",
   "id": "ff3497ee",
   "metadata": {},
   "source": [
    "### What does the `map` function do in this intance? What will the output be?"
   ]
  },
  {
   "cell_type": "code",
   "execution_count": null,
   "id": "32465560",
   "metadata": {},
   "outputs": [],
   "source": [
    "from typing import Any\n",
    "\n",
    "def print_with_type(obj: Any):\n",
    "    print(f\"The value of the object is: {obj}\")\n",
    "    print(f\"The type of the object is: {type(obj).__name__}\\n\")\n",
    "\n",
    "mixed_type_list = [[0, 1, 2], (3, 4, 5), \"apples\", {\"apple\": \"fruit\"}]\n",
    "\n",
    "map_obj = map(print_with_type, mixed_type_list)\n",
    "for m in map_obj:\n",
    "    pass"
   ]
  },
  {
   "cell_type": "markdown",
   "id": "badc426d",
   "metadata": {},
   "source": [
    "### How many elements will be printed in the following snippet?"
   ]
  },
  {
   "cell_type": "code",
   "execution_count": null,
   "id": "f96f91a7",
   "metadata": {},
   "outputs": [],
   "source": [
    "l1 = [i for i in range(10)]\n",
    "l2 = [i for i in range(100, 2000)]\n",
    "\n",
    "for e1, e2 in zip(l1, l2):\n",
    "    print(e1, e2)"
   ]
  },
  {
   "cell_type": "markdown",
   "id": "b2dba463",
   "metadata": {},
   "source": [
    "### Why is this code incorrect?"
   ]
  },
  {
   "cell_type": "code",
   "execution_count": null,
   "id": "2a2fa47a",
   "metadata": {},
   "outputs": [],
   "source": [
    "with open(\"file.txt\", \"w\") as my_file:\n",
    "    my_file.write(\"This is a file.\\n\")\n",
    "\n",
    "my_file.write(\"Oh no!\")"
   ]
  }
 ],
 "metadata": {
  "kernelspec": {
   "display_name": "Python 3 (ipykernel)",
   "language": "python",
   "name": "python3"
  },
  "language_info": {
   "codemirror_mode": {
    "name": "ipython",
    "version": 3
   },
   "file_extension": ".py",
   "mimetype": "text/x-python",
   "name": "python",
   "nbconvert_exporter": "python",
   "pygments_lexer": "ipython3",
   "version": "3.7.9"
  },
  "toc": {
   "base_numbering": 1,
   "nav_menu": {},
   "number_sections": true,
   "sideBar": true,
   "skip_h1_title": false,
   "title_cell": "Table of Contents",
   "title_sidebar": "Contents",
   "toc_cell": false,
   "toc_position": {},
   "toc_section_display": true,
   "toc_window_display": false
  },
  "vscode": {
   "interpreter": {
    "hash": "31f2aee4e71d21fbe5cf8b01ff0e069b9275f58929596ceb00d14d90e3e16cd6"
   }
  }
 },
 "nbformat": 4,
 "nbformat_minor": 5
}
