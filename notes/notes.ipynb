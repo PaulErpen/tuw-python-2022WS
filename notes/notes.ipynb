{
 "cells": [
  {
   "cell_type": "code",
   "execution_count": 1,
   "metadata": {},
   "outputs": [
    {
     "name": "stdout",
     "output_type": "stream",
     "text": [
      "12\n"
     ]
    }
   ],
   "source": [
    "myvar = 12\n",
    "print(myvar)"
   ]
  },
  {
   "cell_type": "code",
   "execution_count": 2,
   "metadata": {},
   "outputs": [
    {
     "ename": "NameError",
     "evalue": "name 'myvar' is not defined",
     "output_type": "error",
     "traceback": [
      "\u001b[0;31m---------------------------------------------------------------------------\u001b[0m",
      "\u001b[0;31mNameError\u001b[0m                                 Traceback (most recent call last)",
      "\u001b[1;32m/Users/paul/Personal/Uni/Semester 3/DOPP/tuw-python-2022WS/notes/notes.ipynb Cell 2\u001b[0m in \u001b[0;36m<cell line: 2>\u001b[0;34m()\u001b[0m\n\u001b[1;32m      <a href='vscode-notebook-cell:/Users/paul/Personal/Uni/Semester%203/DOPP/tuw-python-2022WS/notes/notes.ipynb#W1sZmlsZQ%3D%3D?line=0'>1</a>\u001b[0m \u001b[39mdel\u001b[39;00m myvar\n\u001b[0;32m----> <a href='vscode-notebook-cell:/Users/paul/Personal/Uni/Semester%203/DOPP/tuw-python-2022WS/notes/notes.ipynb#W1sZmlsZQ%3D%3D?line=1'>2</a>\u001b[0m \u001b[39mprint\u001b[39m(myvar)\n",
      "\u001b[0;31mNameError\u001b[0m: name 'myvar' is not defined"
     ]
    }
   ],
   "source": [
    "del myvar\n",
    "print(myvar)"
   ]
  },
  {
   "cell_type": "code",
   "execution_count": 4,
   "metadata": {},
   "outputs": [],
   "source": [
    "from copy import copy "
   ]
  },
  {
   "cell_type": "code",
   "execution_count": 7,
   "metadata": {},
   "outputs": [
    {
     "data": {
      "text/plain": [
       "(False, True)"
      ]
     },
     "execution_count": 7,
     "metadata": {},
     "output_type": "execute_result"
    }
   ],
   "source": [
    "my_list = [1, 2, 3, 4, 5, 6, 7]\n",
    "cloned_list = copy(my_list)\n",
    "my_list is cloned_list, my_list == cloned_list"
   ]
  },
  {
   "cell_type": "code",
   "execution_count": 8,
   "metadata": {},
   "outputs": [
    {
     "data": {
      "text/plain": [
       "(False, True)"
      ]
     },
     "execution_count": 8,
     "metadata": {},
     "output_type": "execute_result"
    }
   ],
   "source": [
    "deep_list = [[1, 2, 3, 4], [1, 2, 3, 5]]\n",
    "cloned_deep_list = copy(deep_list)\n",
    "deep_list is cloned_deep_list, deep_list == cloned_deep_list"
   ]
  },
  {
   "cell_type": "code",
   "execution_count": 9,
   "metadata": {},
   "outputs": [
    {
     "data": {
      "text/plain": [
       "(True, True)"
      ]
     },
     "execution_count": 9,
     "metadata": {},
     "output_type": "execute_result"
    }
   ],
   "source": [
    "deep_list[0] is cloned_deep_list[0], deep_list[0] == cloned_deep_list[0]"
   ]
  },
  {
   "cell_type": "code",
   "execution_count": 10,
   "metadata": {},
   "outputs": [
    {
     "data": {
      "text/plain": [
       "(False, True)"
      ]
     },
     "execution_count": 10,
     "metadata": {},
     "output_type": "execute_result"
    }
   ],
   "source": [
    "from copy import deepcopy\n",
    "\n",
    "deep_list = [[1, 2, 3, 4], [1, 2, 3, 5]]\n",
    "cloned_deep_list = deepcopy(deep_list)\n",
    "deep_list[0] is cloned_deep_list[0], deep_list[0] == cloned_deep_list[0]"
   ]
  },
  {
   "cell_type": "markdown",
   "metadata": {},
   "source": [
    "# Class instanciation"
   ]
  },
  {
   "cell_type": "code",
   "execution_count": 2,
   "metadata": {},
   "outputs": [
    {
     "name": "stdout",
     "output_type": "stream",
     "text": [
      "Hello\n"
     ]
    }
   ],
   "source": [
    "class BaseClass:\n",
    "\tsome_prop: str\n",
    "\n",
    "\tdef __init__(self) -> None:\n",
    "\t\tself.some_prop = \"Hello\"\n",
    "\n",
    "my_instance = BaseClass()\n",
    "print(my_instance.some_prop)"
   ]
  },
  {
   "cell_type": "code",
   "execution_count": 6,
   "metadata": {},
   "outputs": [
    {
     "name": "stdout",
     "output_type": "stream",
     "text": [
      "Hello\n"
     ]
    }
   ],
   "source": [
    "class InheritedClass(BaseClass):\n",
    "\tsome_other_prop: str\n",
    "\n",
    "\tdef __init__(self) -> None:\n",
    "\t\tsuper().__init__()\n",
    "\t\tself.some_other_prop = \"Bye\"\n",
    "\n",
    "my_other_instance = InheritedClass()\n",
    "print(my_other_instance.some_prop)"
   ]
  },
  {
   "cell_type": "markdown",
   "metadata": {},
   "source": [
    "As you see the prpoperties of a class are actually only present when they are specifically set. If you define them, that does not mean that they are None/Null by default, but they still simply don't exist."
   ]
  },
  {
   "cell_type": "markdown",
   "metadata": {},
   "source": [
    "# Decorators"
   ]
  },
  {
   "cell_type": "code",
   "execution_count": 14,
   "metadata": {},
   "outputs": [],
   "source": [
    "from types import FunctionType\n",
    "\n",
    "\n",
    "def my_wrapper(func: FunctionType):\n",
    "\tdef wrapped():\n",
    "\t\tprint(\"Hello amigo\")\n",
    "\t\tfunc()\n",
    "\t\tprint(\"Bye Amigo\")\n",
    "\t\n",
    "\treturn wrapped"
   ]
  },
  {
   "cell_type": "code",
   "execution_count": 15,
   "metadata": {},
   "outputs": [],
   "source": [
    "@my_wrapper\n",
    "def have_conversation():\n",
    "\tprint(\"Whats is your occupation?\")"
   ]
  },
  {
   "cell_type": "code",
   "execution_count": 16,
   "metadata": {},
   "outputs": [
    {
     "name": "stdout",
     "output_type": "stream",
     "text": [
      "Hello amigo\n",
      "Whats is your occupation?\n",
      "Bye Amigo\n"
     ]
    }
   ],
   "source": [
    "have_conversation()"
   ]
  },
  {
   "cell_type": "code",
   "execution_count": 22,
   "metadata": {},
   "outputs": [],
   "source": [
    "from functools import wraps\n",
    "\n",
    "\n",
    "class ClassDecorator():\n",
    "\tdef __init__(self, my_func: FunctionType) -> None:\n",
    "\t\tself.my_func = my_func\n",
    "\t\twraps(my_func)(self)\n",
    "\t\n",
    "\tdef __call__(self, *args, **kwds):\n",
    "\t\tprint(\"MyClass Decorator call\")\n",
    "\t\tres = self.my_func(*args, **kwds)\n",
    "\t\tprint(\"MyDecorator call finished\")\n",
    "\t\treturn res"
   ]
  },
  {
   "cell_type": "code",
   "execution_count": 23,
   "metadata": {},
   "outputs": [],
   "source": [
    "@ClassDecorator\n",
    "def another_func():\n",
    "\tprint(\"Hello another func!\")"
   ]
  },
  {
   "cell_type": "code",
   "execution_count": 24,
   "metadata": {},
   "outputs": [
    {
     "name": "stdout",
     "output_type": "stream",
     "text": [
      "MyClass Decorator call\n",
      "Hello another func!\n",
      "MyDecorator call finished\n"
     ]
    }
   ],
   "source": [
    "another_func()"
   ]
  },
  {
   "cell_type": "markdown",
   "metadata": {},
   "source": [
    "# List comprehension"
   ]
  },
  {
   "cell_type": "code",
   "execution_count": 25,
   "metadata": {},
   "outputs": [
    {
     "name": "stdout",
     "output_type": "stream",
     "text": [
      "[0, 4, 16, 36, 64]\n"
     ]
    }
   ],
   "source": [
    "print([n**2 for n in range(10) if n % 2 == 0])"
   ]
  },
  {
   "cell_type": "code",
   "execution_count": 28,
   "metadata": {},
   "outputs": [
    {
     "name": "stdout",
     "output_type": "stream",
     "text": [
      "[(1, 1), (1, 2), (1, 3), (2, 1), (2, 2), (2, 3), (3, 1), (3, 2), (3, 3)]\n"
     ]
    }
   ],
   "source": [
    "# nested list comprehension\n",
    "print([(l1, l2) for l1 in range(1, 4) for l2 in range(1, 4)])"
   ]
  },
  {
   "cell_type": "code",
   "execution_count": null,
   "metadata": {},
   "outputs": [],
   "source": []
  },
  {
   "cell_type": "code",
   "execution_count": null,
   "metadata": {},
   "outputs": [],
   "source": []
  }
 ],
 "metadata": {
  "kernelspec": {
   "display_name": "Python 3.9.13 ('basic_snitch')",
   "language": "python",
   "name": "python3"
  },
  "language_info": {
   "codemirror_mode": {
    "name": "ipython",
    "version": 3
   },
   "file_extension": ".py",
   "mimetype": "text/x-python",
   "name": "python",
   "nbconvert_exporter": "python",
   "pygments_lexer": "ipython3",
   "version": "3.9.13"
  },
  "orig_nbformat": 4,
  "vscode": {
   "interpreter": {
    "hash": "335aa04a082510059ff152627b9e6459986e7887c3c827292df3bef3ad20b214"
   }
  }
 },
 "nbformat": 4,
 "nbformat_minor": 2
}
