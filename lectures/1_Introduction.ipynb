{
 "cells": [
  {
   "cell_type": "markdown",
   "id": "e719183c",
   "metadata": {
    "slideshow": {
     "slide_type": "slide"
    }
   },
   "source": [
    "# Programming in Python - Introduction to Python\n",
    "\n",
    "__September 26, 2022__\n",
    "\n",
    "__Judit Ács__\n",
    "\n",
    "acs.judit@sztaki.hu"
   ]
  },
  {
   "cell_type": "markdown",
   "id": "05352c5f",
   "metadata": {
    "slideshow": {
     "slide_type": "slide"
    }
   },
   "source": [
    "## Goal\n",
    "\n",
    "- intermediate level Python starting from a basic programming background\n",
    "- will cover some advanced concepts\n",
    "- ability to read third party source code\n",
    "- lots of practice"
   ]
  },
  {
   "cell_type": "markdown",
   "id": "f9b57b60",
   "metadata": {
    "slideshow": {
     "slide_type": "subslide"
    }
   },
   "source": [
    "## Prerequisites\n",
    "\n",
    "- basic knowledge in at least one object oriented programming language\n",
    "- must know: variables, types, functions, basic I/O handling\n",
    "- good to know: objects, classes, attributes, function arguments"
   ]
  },
  {
   "cell_type": "markdown",
   "id": "51d00ae4",
   "metadata": {
    "slideshow": {
     "slide_type": "subslide"
    }
   },
   "source": [
    "## Links to course material\n",
    "\n",
    "Official Github repository:\n",
    "https://github.com/tuw-python/tuw-python-2022WS\n",
    "\n",
    "- Please consult the Syllabus before asking questions\n",
    "- Public Slack channels should be used"
   ]
  },
  {
   "cell_type": "markdown",
   "id": "2d477ba7",
   "metadata": {},
   "source": [
    "## Format of the course\n",
    "\n",
    "1. Jupyter\n",
    "2. Standalone Python modules (in other words a single .py file)\n",
    "3. Small packages\n",
    "\n",
    "We provide skeletons that you have to modify.\n",
    "\n",
    "You may use Google Colab in place of the Jupyter notebooks but the assignments must be submitted via Github Classroom. You also need to develop the modules and packages on your local machine."
   ]
  },
  {
   "cell_type": "markdown",
   "id": "be77f64d",
   "metadata": {
    "slideshow": {
     "slide_type": "slide"
    }
   },
   "source": [
    "# Jupyter\n",
    "\n",
    "- Jupyter - formally known as IPython Notebook is a web application that allows you to create and share documents with live code, equations, visualizations etc.\n",
    "- Jupyter notebooks are JSON files with the extension `.ipynb`\n",
    "- Can be converted to HTML, PDF, LateX etc.\n",
    "- Can render images, tables, graphs, LateX equations\n",
    "- Large number of extensions called 'nbextensions'\n",
    "- Extensions used in this lecture:\n",
    "  - Table of Contents (`main/toc2`)\n",
    "  - `jupyter-vim-binding`, a keyboard binding emulating the VIM editor\n",
    "- Content is organized into cells\n",
    "- Can be turned into a live slideshow using the RISE extension"
   ]
  },
  {
   "cell_type": "markdown",
   "id": "6bc3893b",
   "metadata": {
    "slideshow": {
     "slide_type": "slide"
    }
   },
   "source": [
    "## Cell types\n",
    "\n",
    "1. code cell: Python/R/Lua/etc. code\n",
    "2. markdown cell: formatted text using Markdown\n",
    "3. raw cell: raw text (not used here)"
   ]
  },
  {
   "cell_type": "markdown",
   "id": "ae716a41",
   "metadata": {
    "slideshow": {
     "slide_type": "subslide"
    }
   },
   "source": [
    "## Code cell"
   ]
  },
  {
   "cell_type": "code",
   "execution_count": 1,
   "id": "14c308c1",
   "metadata": {},
   "outputs": [
    {
     "name": "stdout",
     "output_type": "stream",
     "text": [
      "Hello world\n"
     ]
    }
   ],
   "source": [
    "print(\"Hello world\")"
   ]
  },
  {
   "cell_type": "markdown",
   "id": "4ac6a66c",
   "metadata": {
    "slideshow": {
     "slide_type": "subslide"
    }
   },
   "source": [
    "The last command's output is displayed"
   ]
  },
  {
   "cell_type": "code",
   "execution_count": 2,
   "id": "f557c786",
   "metadata": {
    "scrolled": true
   },
   "outputs": [
    {
     "data": {
      "text/plain": [
       "7"
      ]
     },
     "execution_count": 2,
     "metadata": {},
     "output_type": "execute_result"
    }
   ],
   "source": [
    "2 + 3\n",
    "3 + 4"
   ]
  },
  {
   "cell_type": "markdown",
   "id": "cb91358b",
   "metadata": {
    "slideshow": {
     "slide_type": "subslide"
    }
   },
   "source": [
    "This can be a tuple of multiple values"
   ]
  },
  {
   "cell_type": "code",
   "execution_count": 3,
   "id": "1111bfce",
   "metadata": {},
   "outputs": [
    {
     "data": {
      "text/plain": [
       "(5, 'hello world')"
      ]
     },
     "execution_count": 3,
     "metadata": {},
     "output_type": "execute_result"
    }
   ],
   "source": [
    "2 + 3, \"hello \" + \"world\""
   ]
  },
  {
   "cell_type": "markdown",
   "id": "6adca640",
   "metadata": {
    "slideshow": {
     "slide_type": "subslide"
    }
   },
   "source": [
    "## Markdown cell\n",
    "\n",
    "**This is in bold**\n",
    "\n",
    "*This is in italics*\n",
    "\n",
    "| This | is |\n",
    "| --- | --- |\n",
    "| a | table |\n",
    "\n",
    "and this is a pretty LateX equation:\n",
    "\n",
    "$$\n",
    "\\mathbf{E}\\cdot\\mathrm{d}\\mathbf{S} = \\frac{1}{\\varepsilon_0} \\iiint_\\Omega \\rho \\,\\mathrm{d}V\n",
    "$$"
   ]
  },
  {
   "cell_type": "markdown",
   "id": "8ee920a5",
   "metadata": {
    "slideshow": {
     "slide_type": "slide"
    }
   },
   "source": [
    "## Using Jupyter\n",
    "\n",
    "### Command mode and edit mode\n",
    "\n",
    "Jupyter has two modes: command mode and edit mode\n",
    "\n",
    "1. Command mode: perform non-edit operations on selected cells (can select more than one cell)\n",
    "  - Selected cells are marked blue\n",
    "2. Edit mode: edit a single cell\n",
    "  - The cell being edited is marked green"
   ]
  },
  {
   "cell_type": "markdown",
   "id": "b35f7cc5",
   "metadata": {
    "slideshow": {
     "slide_type": "subslide"
    }
   },
   "source": [
    "### Switching between modes\n",
    "\n",
    "1. Esc: Edit mode -> Command mode\n",
    "2. Enter or double click: Command mode -> Edit mode"
   ]
  },
  {
   "cell_type": "markdown",
   "id": "f095fdc8",
   "metadata": {
    "slideshow": {
     "slide_type": "slide"
    }
   },
   "source": [
    "### Running cells\n",
    "\n",
    "1. Ctrl + Enter: run cell\n",
    "2. Shift + Enter: run cell and select next cell\n",
    "3. Alt + Enter: run cell and insert new cell below\n",
    "\n",
    "Remembering these shorthands can save you a lot of time."
   ]
  },
  {
   "cell_type": "markdown",
   "id": "2c2dc871",
   "metadata": {},
   "source": [
    "## Handling user input\n",
    "\n",
    "Jupyter has a widget for the built-in `input` function. This __halts__ the execution until some input is provided. Note the * in place of the execution counter:"
   ]
  },
  {
   "cell_type": "code",
   "execution_count": 4,
   "id": "ef88fc8e",
   "metadata": {
    "scrolled": true
   },
   "outputs": [
    {
     "name": "stdout",
     "output_type": "stream",
     "text": [
      "Please input something: 42\n"
     ]
    },
    {
     "data": {
      "text/plain": [
       "'42'"
      ]
     },
     "execution_count": 4,
     "metadata": {},
     "output_type": "execute_result"
    }
   ],
   "source": [
    "input(\"Please input something: \")"
   ]
  },
  {
   "cell_type": "markdown",
   "id": "499009eb",
   "metadata": {
    "slideshow": {
     "slide_type": "slide"
    }
   },
   "source": [
    "## Cell magic\n",
    "\n",
    "Special commands can modify a single cell's behavior, for example"
   ]
  },
  {
   "cell_type": "code",
   "execution_count": 5,
   "id": "b721759e",
   "metadata": {},
   "outputs": [
    {
     "name": "stdout",
     "output_type": "stream",
     "text": [
      "CPU times: user 51.2 ms, sys: 0 ns, total: 51.2 ms\n",
      "Wall time: 49.3 ms\n"
     ]
    }
   ],
   "source": [
    "%%time\n",
    "\n",
    "for x in range(1000000):\n",
    "    pass"
   ]
  },
  {
   "cell_type": "code",
   "execution_count": 6,
   "id": "8f394a8f",
   "metadata": {},
   "outputs": [
    {
     "name": "stdout",
     "output_type": "stream",
     "text": [
      "9.58 ns ± 1.93 ns per loop (mean ± std. dev. of 7 runs, 100,000,000 loops each)\n"
     ]
    }
   ],
   "source": [
    "%%timeit\n",
    "\n",
    "x = 2"
   ]
  },
  {
   "cell_type": "code",
   "execution_count": 7,
   "id": "4c70ea8f",
   "metadata": {},
   "outputs": [
    {
     "name": "stdout",
     "output_type": "stream",
     "text": [
      "9.27 ns ± 0.635 ns per loop (mean ± std. dev. of 7 runs, 100,000,000 loops each)\n"
     ]
    }
   ],
   "source": [
    "%%timeit\n",
    "\n",
    "x = 2"
   ]
  },
  {
   "cell_type": "markdown",
   "id": "642e8a24",
   "metadata": {},
   "source": [
    "Let's see a longer execution"
   ]
  },
  {
   "cell_type": "code",
   "execution_count": 8,
   "id": "39e422e9",
   "metadata": {
    "slideshow": {
     "slide_type": "subslide"
    }
   },
   "outputs": [
    {
     "name": "stdout",
     "output_type": "stream",
     "text": [
      "12.2 ns ± 0.818 ns per loop (mean ± std. dev. of 7 runs, 100,000,000 loops each)\n"
     ]
    }
   ],
   "source": [
    "%%timeit\n",
    "\n",
    "x = 2\n",
    "x = 4"
   ]
  },
  {
   "cell_type": "markdown",
   "id": "7bcd1ed6",
   "metadata": {
    "slideshow": {
     "slide_type": "subslide"
    }
   },
   "source": [
    "For a complete list of magic commands:"
   ]
  },
  {
   "cell_type": "code",
   "execution_count": 9,
   "id": "ee08b9fc",
   "metadata": {},
   "outputs": [
    {
     "data": {
      "application/json": {
       "cell": {
        "!": "OSMagics",
        "HTML": "Other",
        "SVG": "Other",
        "bash": "Other",
        "capture": "ExecutionMagics",
        "debug": "ExecutionMagics",
        "file": "Other",
        "html": "DisplayMagics",
        "javascript": "DisplayMagics",
        "js": "DisplayMagics",
        "latex": "DisplayMagics",
        "markdown": "DisplayMagics",
        "perl": "Other",
        "prun": "ExecutionMagics",
        "pypy": "Other",
        "python": "Other",
        "python2": "Other",
        "python3": "Other",
        "ruby": "Other",
        "script": "ScriptMagics",
        "sh": "Other",
        "svg": "DisplayMagics",
        "sx": "OSMagics",
        "system": "OSMagics",
        "time": "ExecutionMagics",
        "timeit": "ExecutionMagics",
        "writefile": "OSMagics"
       },
       "line": {
        "alias": "OSMagics",
        "alias_magic": "BasicMagics",
        "autoawait": "AsyncMagics",
        "autocall": "AutoMagics",
        "automagic": "AutoMagics",
        "autosave": "KernelMagics",
        "bookmark": "OSMagics",
        "cat": "Other",
        "cd": "OSMagics",
        "clear": "KernelMagics",
        "colors": "BasicMagics",
        "conda": "PackagingMagics",
        "config": "ConfigMagics",
        "connect_info": "KernelMagics",
        "cp": "Other",
        "debug": "ExecutionMagics",
        "dhist": "OSMagics",
        "dirs": "OSMagics",
        "doctest_mode": "BasicMagics",
        "ed": "Other",
        "edit": "KernelMagics",
        "env": "OSMagics",
        "gui": "BasicMagics",
        "hist": "Other",
        "history": "HistoryMagics",
        "killbgscripts": "ScriptMagics",
        "ldir": "Other",
        "less": "KernelMagics",
        "lf": "Other",
        "lk": "Other",
        "ll": "Other",
        "load": "CodeMagics",
        "load_ext": "ExtensionMagics",
        "loadpy": "CodeMagics",
        "logoff": "LoggingMagics",
        "logon": "LoggingMagics",
        "logstart": "LoggingMagics",
        "logstate": "LoggingMagics",
        "logstop": "LoggingMagics",
        "ls": "Other",
        "lsmagic": "BasicMagics",
        "lx": "Other",
        "macro": "ExecutionMagics",
        "magic": "BasicMagics",
        "man": "KernelMagics",
        "matplotlib": "PylabMagics",
        "mkdir": "Other",
        "more": "KernelMagics",
        "mv": "Other",
        "notebook": "BasicMagics",
        "page": "BasicMagics",
        "pastebin": "CodeMagics",
        "pdb": "ExecutionMagics",
        "pdef": "NamespaceMagics",
        "pdoc": "NamespaceMagics",
        "pfile": "NamespaceMagics",
        "pinfo": "NamespaceMagics",
        "pinfo2": "NamespaceMagics",
        "pip": "PackagingMagics",
        "popd": "OSMagics",
        "pprint": "BasicMagics",
        "precision": "BasicMagics",
        "prun": "ExecutionMagics",
        "psearch": "NamespaceMagics",
        "psource": "NamespaceMagics",
        "pushd": "OSMagics",
        "pwd": "OSMagics",
        "pycat": "OSMagics",
        "pylab": "PylabMagics",
        "qtconsole": "KernelMagics",
        "quickref": "BasicMagics",
        "recall": "HistoryMagics",
        "rehashx": "OSMagics",
        "reload_ext": "ExtensionMagics",
        "rep": "Other",
        "rerun": "HistoryMagics",
        "reset": "NamespaceMagics",
        "reset_selective": "NamespaceMagics",
        "rm": "Other",
        "rmdir": "Other",
        "run": "ExecutionMagics",
        "save": "CodeMagics",
        "sc": "OSMagics",
        "set_env": "OSMagics",
        "store": "StoreMagics",
        "sx": "OSMagics",
        "system": "OSMagics",
        "tb": "ExecutionMagics",
        "time": "ExecutionMagics",
        "timeit": "ExecutionMagics",
        "unalias": "OSMagics",
        "unload_ext": "ExtensionMagics",
        "who": "NamespaceMagics",
        "who_ls": "NamespaceMagics",
        "whos": "NamespaceMagics",
        "xdel": "NamespaceMagics",
        "xmode": "BasicMagics"
       }
      },
      "text/plain": [
       "Available line magics:\n",
       "%alias  %alias_magic  %autoawait  %autocall  %automagic  %autosave  %bookmark  %cat  %cd  %clear  %colors  %conda  %config  %connect_info  %cp  %debug  %dhist  %dirs  %doctest_mode  %ed  %edit  %env  %gui  %hist  %history  %killbgscripts  %ldir  %less  %lf  %lk  %ll  %load  %load_ext  %loadpy  %logoff  %logon  %logstart  %logstate  %logstop  %ls  %lsmagic  %lx  %macro  %magic  %man  %matplotlib  %mkdir  %more  %mv  %notebook  %page  %pastebin  %pdb  %pdef  %pdoc  %pfile  %pinfo  %pinfo2  %pip  %popd  %pprint  %precision  %prun  %psearch  %psource  %pushd  %pwd  %pycat  %pylab  %qtconsole  %quickref  %recall  %rehashx  %reload_ext  %rep  %rerun  %reset  %reset_selective  %rm  %rmdir  %run  %save  %sc  %set_env  %store  %sx  %system  %tb  %time  %timeit  %unalias  %unload_ext  %who  %who_ls  %whos  %xdel  %xmode\n",
       "\n",
       "Available cell magics:\n",
       "%%!  %%HTML  %%SVG  %%bash  %%capture  %%debug  %%file  %%html  %%javascript  %%js  %%latex  %%markdown  %%perl  %%prun  %%pypy  %%python  %%python2  %%python3  %%ruby  %%script  %%sh  %%svg  %%sx  %%system  %%time  %%timeit  %%writefile\n",
       "\n",
       "Automagic is ON, % prefix IS NOT needed for line magics."
      ]
     },
     "execution_count": 9,
     "metadata": {},
     "output_type": "execute_result"
    }
   ],
   "source": [
    "%lsmagic"
   ]
  },
  {
   "cell_type": "markdown",
   "id": "f4b31ffd",
   "metadata": {},
   "source": [
    "### Run shell commands"
   ]
  },
  {
   "cell_type": "code",
   "execution_count": 10,
   "id": "dbea0469",
   "metadata": {},
   "outputs": [
    {
     "name": "stdout",
     "output_type": "stream",
     "text": [
      "1_Introduction.ipynb\r\n",
      "2_Builtin_types.ipynb\r\n",
      "3_Object_Oriented_Programming.ipynb\r\n",
      "4_Decorators_list_comprehension_iteration_context_managers_functional.ipynb\r\n"
     ]
    }
   ],
   "source": [
    "! dir"
   ]
  },
  {
   "cell_type": "markdown",
   "id": "f2069c8f",
   "metadata": {},
   "source": [
    "Shell commands may fail and their failure does not affect the notebook execution:"
   ]
  },
  {
   "cell_type": "code",
   "execution_count": 11,
   "id": "dd94656e",
   "metadata": {},
   "outputs": [
    {
     "name": "stdout",
     "output_type": "stream",
     "text": [
      "zsh:1: command not found: command-that-does-not-exist\r\n"
     ]
    }
   ],
   "source": [
    "! command-that-does-not-exist"
   ]
  },
  {
   "cell_type": "markdown",
   "id": "70774974",
   "metadata": {
    "slideshow": {
     "slide_type": "slide"
    }
   },
   "source": [
    "## Under the hood\n",
    "\n",
    "- Each notebook is run by its own _Kernel_ (Python interpreter)\n",
    "  - The kernel can interrupted or restarted through the Kernel menu\n",
    "  - **Always** run `Kernel -> Restart & Run All` before submitting homework to make sure that your notebook behaves as expected\n",
    "- All cells share a single namespace. This means that a variable defined in one (executed) cell will be available in other cells:"
   ]
  },
  {
   "cell_type": "code",
   "execution_count": 12,
   "id": "ab911190",
   "metadata": {},
   "outputs": [],
   "source": [
    "my_name = 12"
   ]
  },
  {
   "cell_type": "code",
   "execution_count": 13,
   "id": "3bfd0659",
   "metadata": {},
   "outputs": [
    {
     "data": {
      "text/plain": [
       "13"
      ]
     },
     "execution_count": 13,
     "metadata": {},
     "output_type": "execute_result"
    }
   ],
   "source": [
    "my_name = my_name + 1\n",
    "my_name"
   ]
  },
  {
   "cell_type": "markdown",
   "id": "cc052042",
   "metadata": {},
   "source": [
    "Cells can be run in arbitrary order, execution count is helpful"
   ]
  },
  {
   "cell_type": "code",
   "execution_count": 14,
   "id": "71f95531",
   "metadata": {
    "slideshow": {
     "slide_type": "subslide"
    }
   },
   "outputs": [
    {
     "name": "stdout",
     "output_type": "stream",
     "text": [
      "this is run first\n"
     ]
    }
   ],
   "source": [
    "print(\"this is run first\")"
   ]
  },
  {
   "cell_type": "code",
   "execution_count": 15,
   "id": "711b9496",
   "metadata": {},
   "outputs": [
    {
     "name": "stdout",
     "output_type": "stream",
     "text": [
      "this is run afterwords. Note the execution count on the left.\n"
     ]
    }
   ],
   "source": [
    "print(\"this is run afterwords. Note the execution count on the left.\")"
   ]
  },
  {
   "cell_type": "markdown",
   "id": "4d40df46",
   "metadata": {},
   "source": [
    "**Kernel->Restart & Run All** runs the cells from top to bottom. Don't forget to use this to test your notebook before submitting it as homework. This is how the instructor is going to test it."
   ]
  },
  {
   "cell_type": "markdown",
   "id": "961d2d8a",
   "metadata": {
    "slideshow": {
     "slide_type": "slide"
    }
   },
   "source": [
    "# The Python programming language"
   ]
  },
  {
   "cell_type": "markdown",
   "id": "80d3e31d",
   "metadata": {
    "slideshow": {
     "slide_type": "slide"
    }
   },
   "source": [
    "## History of Python\n",
    "\n",
    "\n",
    "- Python started as a hobby project of Dutch programmer, Guido van Rossum in 1989.\n",
    "- Python 1.0 in 1994\n",
    "- Python 2.0 in 2000\n",
    "  - Cycle-detecting garbage collector\n",
    "  - Unicode support\n",
    "- Python 3.0 in 2008\n",
    "  - Proposal in 2006 [PEP 3000](https://peps.python.org/pep-3000/)\n",
    "  - **Backward incompatible** with earlier versions\n",
    "- Python2 End-of-Life (EOL) date was postponed from 2015 to 2020\n",
    "  - [Sunsetting Python 2](https://www.python.org/doc/sunset-python-2/)"
   ]
  },
  {
   "cell_type": "markdown",
   "id": "0e41b70f",
   "metadata": {
    "collapsed": true,
    "slideshow": {
     "slide_type": "subslide"
    }
   },
   "source": [
    "## Guido van Rossum, <s>Benevolent Dictator for Life</s> Stepped down in 2018\n",
    " \n",
    "Guido van Rossum at OSCON 2006. by\n",
    "[Doc Searls](https://www.flickr.com/photos/docsearls/)\n",
    "licensed under [CC BY 2.0](https://creativecommons.org/licenses/by/2.0/)\n",
    " <img width=\"400\" alt=\"portfolio_view\" src=\"https://upload.wikimedia.org/wikipedia/commons/6/66/Guido_van_Rossum_OSCON_2006.jpg\">"
   ]
  },
  {
   "cell_type": "markdown",
   "id": "280a1e8f",
   "metadata": {
    "collapsed": true,
    "slideshow": {
     "slide_type": "slide"
    }
   },
   "source": [
    "## Python community and development\n",
    "\n",
    "- Python Software Foundation nonprofit organization based in Delaware, US\n",
    "- Managed through PEPs (Python Enhancement Proposal)\n",
    "    - Public discussion for example [PEP 3000 about Python 3.0](https://www.python.org/dev/peps/pep-3000/)\n",
    "- Strong community inclusion\n",
    "- Large standard library\n",
    "- Very large third-party module repository called PyPI (Python Package Index)\n",
    "- pip installer\n",
    "  - Can install modules from PyPI\n",
    "  - Can install custom modules (we will do that in the upcoming lectures)"
   ]
  },
  {
   "cell_type": "markdown",
   "id": "ba0986ee",
   "metadata": {
    "slideshow": {
     "slide_type": "slide"
    }
   },
   "source": [
    "## Python neologisms\n",
    "\n",
    "- the Python community has a number of made-up expressions\n",
    "- _Pythonic_: following Python's conventions, Python-like\n",
    "- _Pythonist_ or _Pythonista_: good Python programmer"
   ]
  },
  {
   "cell_type": "markdown",
   "id": "49b6c53b",
   "metadata": {},
   "source": [
    "## Python memes"
   ]
  },
  {
   "cell_type": "code",
   "execution_count": 16,
   "id": "ff84976d",
   "metadata": {
    "slideshow": {
     "slide_type": "subslide"
    }
   },
   "outputs": [],
   "source": [
    "import antigravity"
   ]
  },
  {
   "cell_type": "markdown",
   "id": "61cd1b90",
   "metadata": {},
   "source": [
    "# Developing in Python\n",
    "\n",
    "## Notebooks\n",
    "\n",
    "- Jupyter\n",
    "- [JupyterLab](https://jupyterlab.readthedocs.io/en/stable/): Jupyter + IDE-like features\n",
    "- [Google Colab](https://colab.research.google.com): online notebook with GPU access\n",
    "\n",
    "## IDEs\n",
    "\n",
    "- [VSCode](https://code.visualstudio.com/): free, cross-platform, Python plugin, command line support\n",
    "- [PyCharm](https://www.jetbrains.com/pycharm/): free Community edition, cross-platform\n",
    "\n",
    "## Command line tools\n",
    "\n",
    "- [VIM](https://www.vim.org/) or [neovim](https://neovim.io/) + [tmux](https://github.com/tmux/tmux/wiki): small, runs everywhere, modal editing, steep learning curve, Python plugins, very mature\n",
    "    - VSCode and PyCharm have VIM editing mode\n",
    "- [Emacs](https://www.emacswiki.org/emacs/PythonProgrammingInEmacs): another CLI editor, built-in Python support"
   ]
  },
  {
   "cell_type": "markdown",
   "id": "f08294e1",
   "metadata": {},
   "source": [
    "# PEP8, the Python style guide\n",
    "\n",
    "- widely accepted style guide for Python\n",
    "- [PEP8](https://www.python.org/dev/peps/pep-0008/) by Guido himself, 2001\n",
    "\n",
    "Specifies:\n",
    "\n",
    "- indentation\n",
    "- line length\n",
    "- module imports\n",
    "- class names, function names etc.\n",
    "\n",
    "We shall use PEP8 throughout this course. You are expected to follow it in the homeworks.\n",
    "\n",
    "We use the [Black autoformatter library](https://black.readthedocs.io/en/stable/). Black is available as a Jupyter extension as well."
   ]
  },
  {
   "cell_type": "markdown",
   "id": "e8fca68a",
   "metadata": {
    "slideshow": {
     "slide_type": "slide"
    }
   },
   "source": [
    "# General properties of Python"
   ]
  },
  {
   "cell_type": "markdown",
   "id": "7064babb",
   "metadata": {
    "slideshow": {
     "slide_type": "slide"
    }
   },
   "source": [
    "## Whitespaces\n",
    "\n",
    "Whitespace indentation instead of curly braces, no need for semicolons:"
   ]
  },
  {
   "cell_type": "code",
   "execution_count": 17,
   "id": "a0dc6c77",
   "metadata": {},
   "outputs": [
    {
     "name": "stdout",
     "output_type": "stream",
     "text": [
      "n is even\n"
     ]
    }
   ],
   "source": [
    "n = 10\n",
    "if n % 2 == 0:\n",
    "    print(\"n is even\")\n",
    "else:\n",
    "    print(\"n is odd\")"
   ]
  },
  {
   "cell_type": "markdown",
   "id": "74635cf4",
   "metadata": {
    "slideshow": {
     "slide_type": "slide"
    }
   },
   "source": [
    "## Dynamic typing\n",
    "\n",
    "Type checking is performed at run-time as opposed to compile-time (C++):"
   ]
  },
  {
   "cell_type": "code",
   "execution_count": 18,
   "id": "3cb162e6",
   "metadata": {},
   "outputs": [
    {
     "name": "stdout",
     "output_type": "stream",
     "text": [
      "<class 'int'>\n",
      "<class 'float'>\n",
      "<class 'str'>\n"
     ]
    }
   ],
   "source": [
    "n = 2\n",
    "print(type(n))\n",
    "\n",
    "n = 2.1\n",
    "print(type(n))\n",
    "\n",
    "n = \"foo\"\n",
    "print(type(n))"
   ]
  },
  {
   "cell_type": "markdown",
   "id": "98864cee",
   "metadata": {
    "slideshow": {
     "slide_type": "slide"
    }
   },
   "source": [
    "# Simple statements"
   ]
  },
  {
   "cell_type": "markdown",
   "id": "823814cd",
   "metadata": {
    "slideshow": {
     "slide_type": "slide"
    }
   },
   "source": [
    "## Conditional expressions\n",
    "\n",
    "### if, elif, else"
   ]
  },
  {
   "cell_type": "code",
   "execution_count": 19,
   "id": "49af7fac",
   "metadata": {},
   "outputs": [
    {
     "name": "stdout",
     "output_type": "stream",
     "text": [
      "0\n",
      "N is neither positive nor negative\n"
     ]
    }
   ],
   "source": [
    "n = int(input())\n",
    "# n = 12\n",
    "\n",
    "if n < 0:\n",
    "    print(\"N is negative\")\n",
    "elif n > 0:\n",
    "    print(\"N is positive\")\n",
    "else:\n",
    "    print(\"N is neither positive nor negative\")"
   ]
  },
  {
   "cell_type": "markdown",
   "id": "86919e72",
   "metadata": {
    "slideshow": {
     "slide_type": "subslide"
    }
   },
   "source": [
    "### Ternary conditional operator\n",
    "\n",
    "- one-line `if` statements\n",
    "- the order of operands is different from C's `?:` operator, the C version of abs would look like this\n",
    "\n",
    "~~~C\n",
    "int x = -2;\n",
    "int abs_x = x>=0 ? x : -x;\n",
    "~~~\n",
    "- should only be used for very short statements\n",
    "\n",
    "\n",
    "`<expr1> if <condition> else <expr2>`"
   ]
  },
  {
   "cell_type": "code",
   "execution_count": 20,
   "id": "a73c8f8a",
   "metadata": {},
   "outputs": [
    {
     "data": {
      "text/plain": [
       "2"
      ]
     },
     "execution_count": 20,
     "metadata": {},
     "output_type": "execute_result"
    }
   ],
   "source": [
    "n = -2\n",
    "abs_n = n if n >= 0 else -n\n",
    "abs_n"
   ]
  },
  {
   "cell_type": "markdown",
   "id": "d4140f6a",
   "metadata": {
    "slideshow": {
     "slide_type": "slide"
    }
   },
   "source": [
    "## Lists\n",
    "\n",
    "- lists are the most frequently used built-in containers\n",
    "- basic operations: indexing, length, append, extend\n",
    "- lists will be covered in detail next week"
   ]
  },
  {
   "cell_type": "code",
   "execution_count": 21,
   "id": "9fea44e1",
   "metadata": {},
   "outputs": [
    {
     "data": {
      "text/plain": [
       "(3, [2, 2, 'foo'])"
      ]
     },
     "execution_count": 21,
     "metadata": {},
     "output_type": "execute_result"
    }
   ],
   "source": [
    "l = []  # l = list()\n",
    "l.append(2)\n",
    "l.append(2)\n",
    "l.append(\"foo\")\n",
    "# l = [2, 2, \"foo\"]\n",
    "\n",
    "len(l), l"
   ]
  },
  {
   "cell_type": "markdown",
   "id": "10dfeb6b",
   "metadata": {
    "slideshow": {
     "slide_type": "slide"
    }
   },
   "source": [
    "## Iteration\n",
    "\n",
    "### Iterating a list"
   ]
  },
  {
   "cell_type": "code",
   "execution_count": 22,
   "id": "139884b9",
   "metadata": {},
   "outputs": [
    {
     "name": "stdout",
     "output_type": "stream",
     "text": [
      "foo\n",
      "bar\n"
     ]
    }
   ],
   "source": [
    "for e in [\"foo\", \"bar\"]:\n",
    "    print(e)"
   ]
  },
  {
   "cell_type": "markdown",
   "id": "b042758f",
   "metadata": {},
   "source": [
    "## `enumerate`: iterating with an index"
   ]
  },
  {
   "cell_type": "code",
   "execution_count": 23,
   "id": "31895b91",
   "metadata": {},
   "outputs": [
    {
     "name": "stdout",
     "output_type": "stream",
     "text": [
      "0 foo\n",
      "1 bar\n"
     ]
    }
   ],
   "source": [
    "for idx, element in enumerate([\"foo\", \"bar\"]):\n",
    "    print(idx, element)"
   ]
  },
  {
   "cell_type": "markdown",
   "id": "b83bdcaa",
   "metadata": {
    "slideshow": {
     "slide_type": "subslide"
    }
   },
   "source": [
    "## `range`: Iterating over a range of integers\n",
    "\n",
    "By default `range` starts from 0 and it is right-open, in other words, it does not include the last element."
   ]
  },
  {
   "cell_type": "code",
   "execution_count": 24,
   "id": "fcc8194a",
   "metadata": {},
   "outputs": [
    {
     "name": "stdout",
     "output_type": "stream",
     "text": [
      "0\n",
      "1\n",
      "2\n",
      "3\n",
      "4\n"
     ]
    }
   ],
   "source": [
    "for i in range(5):\n",
    "    print(i)"
   ]
  },
  {
   "cell_type": "code",
   "execution_count": 25,
   "id": "53015f02",
   "metadata": {},
   "outputs": [
    {
     "name": "stdout",
     "output_type": "stream",
     "text": [
      "Printing 5 times.\n",
      "Printing 5 times.\n",
      "Printing 5 times.\n",
      "Printing 5 times.\n",
      "Printing 5 times.\n"
     ]
    }
   ],
   "source": [
    "for _ in range(5):\n",
    "    print(\"Printing 5 times.\")"
   ]
  },
  {
   "cell_type": "markdown",
   "id": "e06587b2",
   "metadata": {
    "slideshow": {
     "slide_type": "subslide"
    }
   },
   "source": [
    "Specifying the start of the range:"
   ]
  },
  {
   "cell_type": "code",
   "execution_count": 26,
   "id": "83bc5d3c",
   "metadata": {
    "slideshow": {
     "slide_type": "-"
    }
   },
   "outputs": [
    {
     "name": "stdout",
     "output_type": "stream",
     "text": [
      "2\n",
      "3\n",
      "4\n",
      "4\n",
      "5\n",
      "6\n",
      "7\n",
      "8\n"
     ]
    }
   ],
   "source": [
    "for i in range(2, 5):\n",
    "    print(i)\n",
    "    \n",
    "start = 4\n",
    "window_size = 5\n",
    "for i in range(start, start+window_size):\n",
    "    print(i)"
   ]
  },
  {
   "cell_type": "markdown",
   "id": "3cdb9bda",
   "metadata": {
    "slideshow": {
     "slide_type": "fragment"
    }
   },
   "source": [
    "Specifying the step. Note that in this case we need to specify all three positional arguments."
   ]
  },
  {
   "cell_type": "code",
   "execution_count": 27,
   "id": "203f84e6",
   "metadata": {
    "slideshow": {
     "slide_type": "-"
    }
   },
   "outputs": [
    {
     "name": "stdout",
     "output_type": "stream",
     "text": [
      "0\n",
      "2\n",
      "4\n",
      "6\n",
      "8\n"
     ]
    }
   ],
   "source": [
    "for i in range(0, 10, 2):\n",
    "    print(i)"
   ]
  },
  {
   "cell_type": "markdown",
   "id": "bd8257d1",
   "metadata": {},
   "source": [
    "Negative values:"
   ]
  },
  {
   "cell_type": "code",
   "execution_count": 28,
   "id": "af29e905",
   "metadata": {},
   "outputs": [
    {
     "name": "stdout",
     "output_type": "stream",
     "text": [
      "-3\n",
      "-2\n",
      "-1\n"
     ]
    }
   ],
   "source": [
    "for i in range(-3, 0):\n",
    "    print(i)"
   ]
  },
  {
   "cell_type": "code",
   "execution_count": 29,
   "id": "5ff8bc6b",
   "metadata": {},
   "outputs": [],
   "source": [
    "for i in range(-3, 0, -1):\n",
    "    print(i)"
   ]
  },
  {
   "cell_type": "code",
   "execution_count": 30,
   "id": "ddb89e63",
   "metadata": {},
   "outputs": [
    {
     "name": "stdout",
     "output_type": "stream",
     "text": [
      "0\n",
      "-1\n",
      "-2\n"
     ]
    }
   ],
   "source": [
    "for i in range(0, -3, -1):\n",
    "    print(i)"
   ]
  },
  {
   "cell_type": "markdown",
   "id": "fe5094a1",
   "metadata": {},
   "source": [
    "`range` only accepts integers:"
   ]
  },
  {
   "cell_type": "code",
   "execution_count": 31,
   "id": "7b3c5c14",
   "metadata": {},
   "outputs": [],
   "source": [
    "# range(0, 1, 0.1)  # raises TypeError"
   ]
  },
  {
   "cell_type": "markdown",
   "id": "d005a8c3",
   "metadata": {},
   "source": [
    "The `numpy` module's `arange` function is more flexible"
   ]
  },
  {
   "cell_type": "code",
   "execution_count": 32,
   "id": "793d5cc1",
   "metadata": {},
   "outputs": [
    {
     "data": {
      "text/plain": [
       "array([0. , 0.1, 0.2, 0.3, 0.4, 0.5, 0.6, 0.7, 0.8, 0.9])"
      ]
     },
     "execution_count": 32,
     "metadata": {},
     "output_type": "execute_result"
    }
   ],
   "source": [
    "import numpy as np\n",
    "\n",
    "np.arange(0, 1, 0.1)"
   ]
  },
  {
   "cell_type": "markdown",
   "id": "ac67a050",
   "metadata": {
    "slideshow": {
     "slide_type": "slide"
    }
   },
   "source": [
    "## `break` and `continue`\n",
    "\n",
    "`break`: allows early exit from a loop"
   ]
  },
  {
   "cell_type": "code",
   "execution_count": 33,
   "id": "181156b2",
   "metadata": {
    "slideshow": {
     "slide_type": "subslide"
    }
   },
   "outputs": [
    {
     "name": "stdout",
     "output_type": "stream",
     "text": [
      "0\n",
      "1\n",
      "2\n",
      "3\n",
      "4\n"
     ]
    }
   ],
   "source": [
    "for i in range(10):\n",
    "    if i > 4:\n",
    "        break\n",
    "    print(i)"
   ]
  },
  {
   "cell_type": "markdown",
   "id": "3196a419",
   "metadata": {},
   "source": [
    "`continue`: allows early jump to next iteration"
   ]
  },
  {
   "cell_type": "code",
   "execution_count": 34,
   "id": "eabcef9b",
   "metadata": {},
   "outputs": [
    {
     "name": "stdout",
     "output_type": "stream",
     "text": [
      "1\n",
      "3\n",
      "5\n",
      "7\n",
      "9\n"
     ]
    }
   ],
   "source": [
    "for i in range(10):\n",
    "    if i % 2 == 0:\n",
    "        continue\n",
    "    print(i)"
   ]
  },
  {
   "cell_type": "markdown",
   "id": "7840d8a2",
   "metadata": {},
   "source": [
    "## `else`\n",
    "\n",
    "__`else`__ can be used with `for` but this largely unknown so we do not recommend using it:"
   ]
  },
  {
   "cell_type": "code",
   "execution_count": 35,
   "id": "1c54715f",
   "metadata": {},
   "outputs": [
    {
     "name": "stdout",
     "output_type": "stream",
     "text": [
      "Found no even numbers.\n"
     ]
    }
   ],
   "source": [
    "numbers = [3, -1, 5, 3, 7]\n",
    "\n",
    "for n in numbers:\n",
    "    if n % 2 == 0:\n",
    "        print(\"Breaking out of the iteration.\")\n",
    "        break\n",
    "else:\n",
    "    print(\"Found no even numbers.\")"
   ]
  },
  {
   "cell_type": "markdown",
   "id": "11e35e3e",
   "metadata": {
    "slideshow": {
     "slide_type": "slide"
    }
   },
   "source": [
    "## while"
   ]
  },
  {
   "cell_type": "code",
   "execution_count": 36,
   "id": "131b2f65",
   "metadata": {},
   "outputs": [
    {
     "name": "stdout",
     "output_type": "stream",
     "text": [
      "0\n",
      "1\n",
      "2\n",
      "3\n",
      "4\n"
     ]
    },
    {
     "data": {
      "text/plain": [
       "5"
      ]
     },
     "execution_count": 36,
     "metadata": {},
     "output_type": "execute_result"
    }
   ],
   "source": [
    "i = 0\n",
    "while i < 5:\n",
    "    print(i)\n",
    "    i += 1\n",
    "i"
   ]
  },
  {
   "cell_type": "markdown",
   "id": "8288229a",
   "metadata": {},
   "source": [
    "There is no `do...while` loop in Python."
   ]
  },
  {
   "cell_type": "markdown",
   "id": "9998b3e2",
   "metadata": {
    "slideshow": {
     "slide_type": "slide"
    }
   },
   "source": [
    "# Functions"
   ]
  },
  {
   "cell_type": "markdown",
   "id": "86f7d595",
   "metadata": {
    "slideshow": {
     "slide_type": "slide"
    }
   },
   "source": [
    "Functions can be defined using the `def` keyword:"
   ]
  },
  {
   "cell_type": "code",
   "execution_count": 37,
   "id": "e2aa0f68",
   "metadata": {},
   "outputs": [
    {
     "name": "stdout",
     "output_type": "stream",
     "text": [
      "this is a function\n"
     ]
    }
   ],
   "source": [
    "def foo():\n",
    "    print(\"this is a function\")\n",
    "\n",
    "\n",
    "foo()"
   ]
  },
  {
   "cell_type": "markdown",
   "id": "5ada6f11",
   "metadata": {
    "slideshow": {
     "slide_type": "subslide"
    }
   },
   "source": [
    "## Function arguments\n",
    "\n",
    "1. positional\n",
    "2. named or keyword arguments\n"
   ]
  },
  {
   "cell_type": "code",
   "execution_count": 38,
   "id": "92216f86",
   "metadata": {},
   "outputs": [
    {
     "name": "stdout",
     "output_type": "stream",
     "text": [
      "arg1  1\n",
      "arg2  asdfs\n",
      "arg3  2\n"
     ]
    }
   ],
   "source": [
    "def foo(arg1, arg2, arg3):\n",
    "    print(\"arg1 \", arg1)\n",
    "    print(\"arg2 \", arg2)\n",
    "    print(\"arg3 \", arg3)\n",
    "\n",
    "\n",
    "#foo(1, 2, \"asdfs\")\n",
    "#foo(1, arg3=\"asdfs\", arg2=2)\n",
    "foo(1, \"asdfs\", 2)"
   ]
  },
  {
   "cell_type": "markdown",
   "id": "4f99073e",
   "metadata": {},
   "source": [
    "Keyword arguments must follow positional arguments:"
   ]
  },
  {
   "cell_type": "code",
   "execution_count": 39,
   "id": "70ffaee3",
   "metadata": {},
   "outputs": [],
   "source": [
    "# foo(1, arg3=\"asdfs\", 2)  # raises SyntaxError"
   ]
  },
  {
   "cell_type": "markdown",
   "id": "52fb0c94",
   "metadata": {
    "slideshow": {
     "slide_type": "subslide"
    }
   },
   "source": [
    "## Default arguments\n",
    "\n",
    "- arguments can have default values\n",
    "- default arguments must follow non-default arguments"
   ]
  },
  {
   "cell_type": "code",
   "execution_count": 40,
   "id": "0189d10b",
   "metadata": {
    "scrolled": true
   },
   "outputs": [
    {
     "name": "stdout",
     "output_type": "stream",
     "text": [
      "arg1  1\n",
      "arg2  2\n",
      "arg3  3\n"
     ]
    }
   ],
   "source": [
    "# def foo(arg1, arg2=2, arg3):  # raises SyntaxError\n",
    "def foo(arg1, arg2, arg3=3):\n",
    "    print(\"arg1 \", arg1)\n",
    "    print(\"arg2 \", arg2)\n",
    "    print(\"arg3 \", arg3)\n",
    "\n",
    "\n",
    "foo(1, 2)"
   ]
  },
  {
   "cell_type": "markdown",
   "id": "e0ee86e2",
   "metadata": {},
   "source": [
    "Default arguments need not be specified when calling the function"
   ]
  },
  {
   "cell_type": "code",
   "execution_count": 41,
   "id": "63988ff1",
   "metadata": {},
   "outputs": [
    {
     "name": "stdout",
     "output_type": "stream",
     "text": [
      "arg1  1\n",
      "arg2  2\n",
      "arg3  3\n"
     ]
    }
   ],
   "source": [
    "foo(1, 2)"
   ]
  },
  {
   "cell_type": "markdown",
   "id": "cdc091af",
   "metadata": {},
   "source": [
    "They can be specified in any order:"
   ]
  },
  {
   "cell_type": "code",
   "execution_count": 42,
   "id": "a1109ddc",
   "metadata": {},
   "outputs": [
    {
     "name": "stdout",
     "output_type": "stream",
     "text": [
      "arg1  1\n",
      "arg2  222\n",
      "arg3  33\n"
     ]
    }
   ],
   "source": [
    "foo(arg1=1, arg3=33, arg2=222)"
   ]
  },
  {
   "cell_type": "markdown",
   "id": "796c0eb2",
   "metadata": {
    "slideshow": {
     "slide_type": "subslide"
    }
   },
   "source": [
    "If more than one value has default arguments, either can be skipped:"
   ]
  },
  {
   "cell_type": "code",
   "execution_count": 43,
   "id": "c67bdc84",
   "metadata": {},
   "outputs": [
    {
     "name": "stdout",
     "output_type": "stream",
     "text": [
      "arg1  11\n",
      "arg2  2\n",
      "arg3  3\n",
      "\n",
      "arg1  11\n",
      "arg2  33\n",
      "arg3  3\n",
      "\n",
      "arg1  11\n",
      "arg2  2\n",
      "arg3  33\n"
     ]
    }
   ],
   "source": [
    "def foo(arg1, arg2=2, arg3=3):\n",
    "    print(\"arg1 \", arg1)\n",
    "    print(\"arg2 \", arg2)\n",
    "    print(\"arg3 \", arg3)\n",
    "\n",
    "foo(11)\n",
    "print()\n",
    "foo(11, 33)\n",
    "print(\"\")\n",
    "foo(11, arg3=33)"
   ]
  },
  {
   "cell_type": "markdown",
   "id": "b28b0a48",
   "metadata": {
    "slideshow": {
     "slide_type": "subslide"
    }
   },
   "source": [
    "This mechanism allows having a very large number of arguments.\n",
    "Many libraries have functions with dozens of arguments."
   ]
  },
  {
   "cell_type": "markdown",
   "id": "dcfd8fae",
   "metadata": {
    "slideshow": {
     "slide_type": "fragment"
    }
   },
   "source": [
    "The popular data analysis library `pandas` has functions with dozens of arguments, for example:\n",
    "\n",
    "~~~python\n",
    "pandas.read_csv(filepath_or_buffer, sep=',', delimiter=None, header='infer', names=None, index_col=None, usecols=None, squeeze=False, prefix=None, mangle_dupe_cols=True, dtype=None, engine=None, converters=None, true_values=None, false_values=None, skipinitialspace=False, skiprows=None, skipfooter=0, nrows=None, na_values=None, keep_default_na=True, na_filter=True, verbose=False, skip_blank_lines=True, parse_dates=False, infer_datetime_format=False, keep_date_col=False, date_parser=None, dayfirst=False, cache_dates=True, iterator=False, chunksize=None, compression='infer', thousands=None, decimal='.', lineterminator=None, quotechar='\"', quoting=0, doublequote=True, escapechar=None, comment=None, encoding=None, dialect=None, error_bad_lines=True, warn_bad_lines=True, delim_whitespace=False, low_memory=True, memory_map=False, float_precision=None)\n",
    " ~~~"
   ]
  },
  {
   "cell_type": "markdown",
   "id": "1d5b6b3d",
   "metadata": {
    "slideshow": {
     "slide_type": "slide"
    }
   },
   "source": [
    "## The return statement\n",
    "\n",
    "- functions may return more than one value\n",
    "  - a tuple of the values is returned\n",
    "- without an explicit return statement `None` is returned\n",
    "- an empty return statement returns `None`"
   ]
  },
  {
   "cell_type": "code",
   "execution_count": 44,
   "id": "6fbb2fab",
   "metadata": {},
   "outputs": [
    {
     "name": "stdout",
     "output_type": "stream",
     "text": [
      "negative\n",
      "('positive', 3) <class 'tuple'>\n",
      "None\n"
     ]
    }
   ],
   "source": [
    "def foo(n):\n",
    "    if n < 0:\n",
    "        return \"negative\"\n",
    "    if 0 <= n < 10:\n",
    "        return \"positive\", n\n",
    "    # return None\n",
    "    # return\n",
    "\n",
    "\n",
    "print(foo(-2))\n",
    "print(foo(3), type(foo(3)))\n",
    "print(foo(12))"
   ]
  },
  {
   "cell_type": "markdown",
   "id": "57a5215d",
   "metadata": {},
   "source": [
    "# Some useful resources\n",
    "\n",
    "The [official documentation](https://docs.python.org/3/contents.html) is excellent. Make sure you select the correct Python version on the top of the page.\n",
    "\n",
    "[Python Conferences (PyCons)](https://pycon.org/)\n",
    "- recorded presentations\n",
    "- from beginner to advanced level\n",
    "- tutorials\n",
    "- search videos on https://pyvideo.org/\n",
    "\n",
    "Youtube channels:\n",
    "- https://www.youtube.com/c/mCodingWithJamesMurphy\n",
    "- https://www.youtube.com/c/ArjanCodes\n",
    "\n",
    "Subreddit:\n",
    "- https://www.reddit.com/r/Python/ (1M subscribers)\n",
    "- https://www.reddit.com/r/learnpython/ (600k subscribers)\n",
    "- https://www.reddit.com/r/MachineLearning/ (2.5M subscribers)"
   ]
  },
  {
   "cell_type": "code",
   "execution_count": 45,
   "id": "e1034875",
   "metadata": {},
   "outputs": [
    {
     "name": "stdout",
     "output_type": "stream",
     "text": [
      "The Zen of Python, by Tim Peters\n",
      "\n",
      "Beautiful is better than ugly.\n",
      "Explicit is better than implicit.\n",
      "Simple is better than complex.\n",
      "Complex is better than complicated.\n",
      "Flat is better than nested.\n",
      "Sparse is better than dense.\n",
      "Readability counts.\n",
      "Special cases aren't special enough to break the rules.\n",
      "Although practicality beats purity.\n",
      "Errors should never pass silently.\n",
      "Unless explicitly silenced.\n",
      "In the face of ambiguity, refuse the temptation to guess.\n",
      "There should be one-- and preferably only one --obvious way to do it.\n",
      "Although that way may not be obvious at first unless you're Dutch.\n",
      "Now is better than never.\n",
      "Although never is often better than *right* now.\n",
      "If the implementation is hard to explain, it's a bad idea.\n",
      "If the implementation is easy to explain, it may be a good idea.\n",
      "Namespaces are one honking great idea -- let's do more of those!\n"
     ]
    }
   ],
   "source": [
    "import this"
   ]
  }
 ],
 "metadata": {
  "kernelspec": {
   "display_name": "Python 3 (ipykernel)",
   "language": "python",
   "name": "python3"
  },
  "language_info": {
   "codemirror_mode": {
    "name": "ipython",
    "version": 3
   },
   "file_extension": ".py",
   "mimetype": "text/x-python",
   "name": "python",
   "nbconvert_exporter": "python",
   "pygments_lexer": "ipython3",
   "version": "3.8.5"
  },
  "toc": {
   "base_numbering": 1,
   "nav_menu": {},
   "number_sections": true,
   "sideBar": true,
   "skip_h1_title": false,
   "title_cell": "Table of Contents",
   "title_sidebar": "Contents",
   "toc_cell": false,
   "toc_position": {
    "height": "calc(100% - 180px)",
    "left": "10px",
    "top": "150px",
    "width": "384px"
   },
   "toc_section_display": true,
   "toc_window_display": true
  }
 },
 "nbformat": 4,
 "nbformat_minor": 5
}
