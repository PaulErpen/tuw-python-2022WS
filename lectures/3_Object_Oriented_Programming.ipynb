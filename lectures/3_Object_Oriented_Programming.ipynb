{
 "cells": [
  {
   "cell_type": "markdown",
   "metadata": {},
   "source": [
    "# Object oriented programming"
   ]
  },
  {
   "cell_type": "markdown",
   "metadata": {},
   "source": [
    "Imports for the lecture"
   ]
  },
  {
   "cell_type": "code",
   "execution_count": 1,
   "metadata": {},
   "outputs": [],
   "source": [
    "from typing import List, Any, Iterable\n",
    "from dataclasses import dataclass\n",
    "import warnings"
   ]
  },
  {
   "cell_type": "markdown",
   "metadata": {},
   "source": [
    "# Definitions\n",
    "\n",
    "*Class and instance*: Classes provide a means of bundling data and functionality together. Creating a new class creates a new _type_ of object, allowing new instances of that type to be made. Each class instance can have attributes attached to it for maintaining its state. Class instances can also have methods (defined by its class) for modifying its state. (https://docs.python.org/3/tutorial/classes.html)\n",
    "\n",
    "*Constructor*: The constructor is called upon creating the new intance of a class. Python first calls the __new__() method, which is the constructor, to create the object and then calls the __init__() method to initialize the object’s attributes."
   ]
  },
  {
   "cell_type": "markdown",
   "metadata": {},
   "source": [
    "## Defining classes\n",
    "\n",
    "- `class` keyword followed by the name of the class. The Naming convention is CamelCase for classes.\n",
    "- Instance explicitly bound to the first parameter of each method. One can access the object's attributes using this parameter.\n",
    "  - Named `self` by convention, so attributes can be accessed like `self.attribute` and methods like `self.method(params)`\n",
    "- `__init__` is called after the instance is created\n",
    "  - Not exactly a constructor (that is `__new__`, which is called before `__init__` upon creation) because the instance already exists\n",
    "  - Not mandatory"
   ]
  },
  {
   "cell_type": "code",
   "execution_count": 2,
   "metadata": {},
   "outputs": [],
   "source": [
    "class ClassWithInit:\n",
    "    def __init__(self):\n",
    "        pass\n",
    "    \n",
    "class ClassWithoutInit:\n",
    "    pass"
   ]
  },
  {
   "cell_type": "markdown",
   "metadata": {},
   "source": [
    "### Attributes"
   ]
  },
  {
   "cell_type": "markdown",
   "metadata": {},
   "source": [
    "Attributes are created upon assignment which can happen anywhere not just in `__init__`"
   ]
  },
  {
   "cell_type": "code",
   "execution_count": 3,
   "metadata": {},
   "outputs": [
    {
     "name": "stdout",
     "output_type": "stream",
     "text": [
      "42\n",
      "43\n"
     ]
    }
   ],
   "source": [
    "class A:\n",
    "    def __init__(self):\n",
    "        self.attr1 = 42\n",
    "        \n",
    "    def method(self):\n",
    "        self.attr2 = 43\n",
    "        \n",
    "a = A()\n",
    "print(a.attr1)\n",
    "# print(a.attr2)  # raises AttributeError, because attr2 does not exist at this point\n",
    "a.method()\n",
    "print(a.attr2)"
   ]
  },
  {
   "cell_type": "markdown",
   "metadata": {},
   "source": [
    "Attributes can be added to instances:"
   ]
  },
  {
   "cell_type": "code",
   "execution_count": 4,
   "metadata": {},
   "outputs": [
    {
     "name": "stdout",
     "output_type": "stream",
     "text": [
      "11\n"
     ]
    }
   ],
   "source": [
    "a.attr3 = 11\n",
    "print(a.attr3)"
   ]
  },
  {
   "cell_type": "markdown",
   "metadata": {},
   "source": [
    "This will not affect other instances (`__dict__` can be used to access the namespace):"
   ]
  },
  {
   "cell_type": "code",
   "execution_count": 5,
   "metadata": {},
   "outputs": [
    {
     "data": {
      "text/plain": [
       "({'attr1': 42}, {'attr1': 42, 'attr2': 43, 'attr3': 11})"
      ]
     },
     "execution_count": 5,
     "metadata": {},
     "output_type": "execute_result"
    }
   ],
   "source": [
    "a2 = A()\n",
    "#a2.attr3  # raises AttributeError\n",
    "a2.__dict__, a.__dict__"
   ]
  },
  {
   "cell_type": "markdown",
   "metadata": {},
   "source": [
    "By default attributes can be modified outside of the class's functions (they are public)."
   ]
  },
  {
   "cell_type": "code",
   "execution_count": 6,
   "metadata": {},
   "outputs": [
    {
     "name": "stdout",
     "output_type": "stream",
     "text": [
      "2\n",
      "3\n"
     ]
    }
   ],
   "source": [
    "class B:\n",
    "    def __init__(self, num: int):\n",
    "        self.num = num\n",
    "\n",
    "b = B(2)\n",
    "print(b.num)\n",
    "b.num = 3\n",
    "print(b.num)"
   ]
  },
  {
   "cell_type": "markdown",
   "metadata": {},
   "source": [
    "#### Data hiding with name mangling\n",
    "\n",
    "- Private attributes can be defined through name mangling.\n",
    "  - Every attribute with at least two leading underscores and at most one trailing underscore is replaced with a mangled attribute.\n",
    "  - Emulates private behavior.\n",
    "  - Mangled name: `__classname_attrname`.\n",
    "- Attributes with one leading underscore should be treated as private."
   ]
  },
  {
   "cell_type": "code",
   "execution_count": 7,
   "metadata": {},
   "outputs": [
    {
     "data": {
      "text/plain": [
       "{'_A__private_attr': 43, '_private': 12}"
      ]
     },
     "execution_count": 7,
     "metadata": {},
     "output_type": "execute_result"
    }
   ],
   "source": [
    "class A:\n",
    "    def __init__(self):\n",
    "        self.__private_attr = 42\n",
    "        # This should be treated as a private variable.\n",
    "        self._private = 12\n",
    "        \n",
    "    def foo(self):\n",
    "        self.__private_attr += 1\n",
    "        \n",
    "a = A()\n",
    "a.foo()\n",
    "# a.__private_attr  # raises AttributeError\n",
    "# a._private = 13  # Considered private, but won't raise errors\n",
    "a.__dict__"
   ]
  },
  {
   "cell_type": "markdown",
   "metadata": {},
   "source": [
    "## Special attributes\n",
    "\n",
    "- Every object has a number of special attributes.\n",
    "- They follow the **double underscore or dunder** notation: `__attribute__`.\n",
    "- Most of them are automatically created.\n",
    "- Advanced OOP features are implemented using these.\n",
    "- **dunder** should be avoided when naming an attribute.\n",
    "\n",
    "\n",
    "**`__dict__`**: implements a class' (module's) namespace:"
   ]
  },
  {
   "cell_type": "code",
   "execution_count": 8,
   "metadata": {},
   "outputs": [
    {
     "data": {
      "text/plain": [
       "mappingproxy({'__module__': '__main__',\n",
       "              '__init__': <function __main__.A.__init__(self)>,\n",
       "              'foo': <function __main__.A.foo(self)>,\n",
       "              '__dict__': <attribute '__dict__' of 'A' objects>,\n",
       "              '__weakref__': <attribute '__weakref__' of 'A' objects>,\n",
       "              '__doc__': None})"
      ]
     },
     "execution_count": 8,
     "metadata": {},
     "output_type": "execute_result"
    }
   ],
   "source": [
    "A.__dict__"
   ]
  },
  {
   "cell_type": "code",
   "execution_count": 9,
   "metadata": {},
   "outputs": [
    {
     "data": {
      "text/plain": [
       "{'attr1': 42}"
      ]
     },
     "execution_count": 9,
     "metadata": {},
     "output_type": "execute_result"
    }
   ],
   "source": [
    "a2.__dict__"
   ]
  },
  {
   "cell_type": "markdown",
   "metadata": {},
   "source": [
    "## Class attributes\n",
    "\n",
    "- Class attributes are class-global attributes.\n",
    "- By default an attribute is object level."
   ]
  },
  {
   "cell_type": "code",
   "execution_count": 10,
   "metadata": {},
   "outputs": [],
   "source": [
    "class A:\n",
    "    class_attr = 42"
   ]
  },
  {
   "cell_type": "markdown",
   "metadata": {},
   "source": [
    "Accessing class attributes via instances:"
   ]
  },
  {
   "cell_type": "code",
   "execution_count": 11,
   "metadata": {},
   "outputs": [
    {
     "name": "stdout",
     "output_type": "stream",
     "text": [
      "42\n"
     ]
    }
   ],
   "source": [
    "a1 = A()\n",
    "print(a1.class_attr)"
   ]
  },
  {
   "cell_type": "markdown",
   "metadata": {},
   "source": [
    "Accessing class attributes via the class object:"
   ]
  },
  {
   "cell_type": "code",
   "execution_count": 12,
   "metadata": {},
   "outputs": [
    {
     "name": "stdout",
     "output_type": "stream",
     "text": [
      "42\n"
     ]
    }
   ],
   "source": [
    "print(A.class_attr)"
   ]
  },
  {
   "cell_type": "markdown",
   "metadata": {},
   "source": [
    "Setting the class object via the class:"
   ]
  },
  {
   "cell_type": "code",
   "execution_count": 13,
   "metadata": {},
   "outputs": [
    {
     "name": "stdout",
     "output_type": "stream",
     "text": [
      "42 42\n"
     ]
    },
    {
     "data": {
      "text/plain": [
       "(43, 43)"
      ]
     },
     "execution_count": 13,
     "metadata": {},
     "output_type": "execute_result"
    }
   ],
   "source": [
    "a1 = A()\n",
    "a2 = A()\n",
    "\n",
    "print(a1.class_attr, a2.class_attr)\n",
    "A.class_attr = 43\n",
    "a1.class_attr, a2.class_attr"
   ]
  },
  {
   "cell_type": "markdown",
   "metadata": {},
   "source": [
    "They cannot be set via an instance:"
   ]
  },
  {
   "cell_type": "code",
   "execution_count": 14,
   "metadata": {},
   "outputs": [
    {
     "name": "stdout",
     "output_type": "stream",
     "text": [
      "11\n",
      "43\n"
     ]
    }
   ],
   "source": [
    "a1 = A()\n",
    "a2 = A()\n",
    "a1.class_attr = 11\n",
    "print(a1.class_attr)\n",
    "print(a2.class_attr)"
   ]
  },
  {
   "cell_type": "markdown",
   "metadata": {},
   "source": [
    "Because this assignment creates a new attribute in the *instance's namespace*."
   ]
  },
  {
   "cell_type": "code",
   "execution_count": 15,
   "metadata": {},
   "outputs": [
    {
     "data": {
      "text/plain": [
       "{'class_attr': 11}"
      ]
     },
     "execution_count": 15,
     "metadata": {},
     "output_type": "execute_result"
    }
   ],
   "source": [
    "a1.__dict__"
   ]
  },
  {
   "cell_type": "code",
   "execution_count": 16,
   "metadata": {},
   "outputs": [
    {
     "data": {
      "text/plain": [
       "{}"
      ]
     },
     "execution_count": 16,
     "metadata": {},
     "output_type": "execute_result"
    }
   ],
   "source": [
    "a2.__dict__"
   ]
  },
  {
   "cell_type": "code",
   "execution_count": 17,
   "metadata": {},
   "outputs": [
    {
     "data": {
      "text/plain": [
       "__main__.A"
      ]
     },
     "execution_count": 17,
     "metadata": {},
     "output_type": "execute_result"
    }
   ],
   "source": [
    "a2.__class__"
   ]
  },
  {
   "cell_type": "code",
   "execution_count": 18,
   "metadata": {},
   "outputs": [
    {
     "data": {
      "text/plain": [
       "mappingproxy({'__module__': '__main__',\n",
       "              'class_attr': 43,\n",
       "              '__dict__': <attribute '__dict__' of 'A' objects>,\n",
       "              '__weakref__': <attribute '__weakref__' of 'A' objects>,\n",
       "              '__doc__': None})"
      ]
     },
     "execution_count": 18,
     "metadata": {},
     "output_type": "execute_result"
    }
   ],
   "source": [
    "# A.__dict__\n",
    "a2.__class__.__dict__"
   ]
  },
  {
   "cell_type": "markdown",
   "metadata": {},
   "source": [
    "## Methods\n",
    "\n",
    "Functions inside the class definition.\n",
    "\n",
    "They explicitly take the instance as first parameter named `self` by convention. The previously mentioned `__init__` and `__new__` are also methods of the given class."
   ]
  },
  {
   "cell_type": "code",
   "execution_count": 19,
   "metadata": {},
   "outputs": [
    {
     "name": "stdout",
     "output_type": "stream",
     "text": [
      "foo called\n",
      "bar called with parameter 42\n"
     ]
    }
   ],
   "source": [
    "class A:\n",
    "    def foo(self):\n",
    "        print(\"foo called\")\n",
    "    \n",
    "    def bar(self, param: Any):\n",
    "        print(\"bar called with parameter {}\".format(param))\n",
    "        \n",
    "a = A()\n",
    "a.foo()\n",
    "a.bar(42)"
   ]
  },
  {
   "cell_type": "markdown",
   "metadata": {},
   "source": [
    "__Calling methods__\n",
    "\n",
    "1. `instance.method(param)`\n",
    "2. `class.method(instance, param)`"
   ]
  },
  {
   "cell_type": "code",
   "execution_count": 20,
   "metadata": {},
   "outputs": [
    {
     "name": "stdout",
     "output_type": "stream",
     "text": [
      "foo called\n",
      "bar called with parameter 42\n",
      "foo called\n",
      "bar called with parameter 43\n"
     ]
    }
   ],
   "source": [
    "c = A()\n",
    "c.foo()\n",
    "c.bar(42)\n",
    "A.foo(c)\n",
    "A.bar(c, 43)"
   ]
  },
  {
   "cell_type": "markdown",
   "metadata": {},
   "source": [
    "# Class decorators\n",
    "\n",
    "Many OO features are achieved via a syntax sugar called decorators. We will talk about decorators in detail later.\n",
    "\n",
    "The most common features are:\n",
    "\n",
    "1. staticmethod,\n",
    "1. classmethod,\n",
    "1. property."
   ]
  },
  {
   "cell_type": "markdown",
   "metadata": {},
   "source": [
    "## Static method\n",
    "\n",
    "Static methods are not bound to an instance of the class. You can define it using the `@staticmethod` decorator (see next lecture for more information).\n",
    "\n",
    "You don't give the `self` parameter to these methods."
   ]
  },
  {
   "cell_type": "code",
   "execution_count": 21,
   "metadata": {},
   "outputs": [],
   "source": [
    "class B:\n",
    "    @staticmethod\n",
    "    def print_list(iterable_object: Iterable):\n",
    "        for elem in iterable_object:\n",
    "            print(elem)"
   ]
  },
  {
   "cell_type": "markdown",
   "metadata": {},
   "source": [
    "You can call this method on an instance as well as on the class."
   ]
  },
  {
   "cell_type": "code",
   "execution_count": 22,
   "metadata": {},
   "outputs": [
    {
     "name": "stdout",
     "output_type": "stream",
     "text": [
      "Intance\n",
      "\n",
      "apple\n",
      "banana\n",
      "cherry\n",
      "date\n",
      "\n",
      "Class\n",
      "\n",
      "apple\n",
      "banana\n",
      "cherry\n",
      "date\n"
     ]
    }
   ],
   "source": [
    "iterable_list = [\"apple\", \"banana\", \"cherry\", \"date\"]\n",
    "\n",
    "b = B()\n",
    "\n",
    "print(\"Intance\\n\")\n",
    "b.print_list(iterable_list)\n",
    "print(\"\\nClass\\n\")\n",
    "B.print_list(iterable_list)"
   ]
  },
  {
   "cell_type": "markdown",
   "metadata": {},
   "source": [
    "## Class method\n",
    "\n",
    "Typically used as factory methods for the class. Bound to the class instead of an instance of the class, defined using the `@classmethod` decorator.\n",
    "\n",
    "Its first argument is a class instance called `cls` by convention."
   ]
  },
  {
   "cell_type": "code",
   "execution_count": 23,
   "metadata": {},
   "outputs": [
    {
     "name": "stdout",
     "output_type": "stream",
     "text": [
      "Complex.from_str\n",
      "3.45+j2.0\n",
      "3+j4\n",
      "SuperComplex.from_str\n",
      "3.0+j0.0\n"
     ]
    },
    {
     "data": {
      "text/plain": [
       "(__main__.SuperComplex, __main__.Complex)"
      ]
     },
     "execution_count": 23,
     "metadata": {},
     "output_type": "execute_result"
    }
   ],
   "source": [
    "class Complex(object):\n",
    "    def __init__(self, real: float, imag: float):\n",
    "        self.real = real\n",
    "        self.imag = imag\n",
    "        \n",
    "    def __str__(self):\n",
    "        return f\"{self.real}+j{self.imag}\"\n",
    "    \n",
    "    @classmethod\n",
    "    def from_str(cls, complex_str: str):\n",
    "        print(f\"{cls.__name__}.from_str\")\n",
    "        real, imag = complex_str.split('+')\n",
    "        imag = imag.lstrip('ij')\n",
    "        return cls(float(real), float(imag))\n",
    "    \n",
    "class SuperComplex(Complex):\n",
    "    pass\n",
    "    \n",
    "c1 = Complex.from_str(\"3.45+j2\")\n",
    "print(c1)\n",
    "c2 = Complex(3, 4)\n",
    "print(c2)\n",
    "\n",
    "s = SuperComplex.from_str(\"3+i0\")\n",
    "print(s)\n",
    "type(s), type(c1)"
   ]
  },
  {
   "cell_type": "markdown",
   "metadata": {},
   "source": [
    "*What's the difference between static method and class method?* The classmethod has acces to the classes inner state, so it can use and modify it."
   ]
  },
  {
   "cell_type": "markdown",
   "metadata": {},
   "source": [
    "## Properties\n",
    "\n",
    "Properties are attributes with getters, setters and deleters, defined with the `@property` decorator. Property works as both a built-in function and as separate decorators. Usefull to protect attributes from invalid values."
   ]
  },
  {
   "cell_type": "code",
   "execution_count": 24,
   "metadata": {},
   "outputs": [
    {
     "name": "stdout",
     "output_type": "stream",
     "text": [
      "Name: John, age: 12\n",
      "Name: John, age: 12\n",
      "Name: John, age: 85\n",
      "Name: John, age: 85\n",
      "Del\n"
     ]
    }
   ],
   "source": [
    "class Person(object):\n",
    "    def __init__(self, name: str, age: int):\n",
    "        self.name = name\n",
    "        self.age = age\n",
    "        \n",
    "    @property\n",
    "    def age(self):\n",
    "        return self._age\n",
    "    \n",
    "    @age.setter\n",
    "    def age(self, age: int):\n",
    "        try:\n",
    "            if 0 <= age <= 150:\n",
    "                self._age = age\n",
    "        except TypeError:\n",
    "            pass\n",
    "        \n",
    "    @age.deleter\n",
    "    def age(self):\n",
    "        print(\"Del\")\n",
    "            \n",
    "    def __str__(self):\n",
    "        return f\"Name: {self.name}, age: {self.age}\"\n",
    "            \n",
    "\n",
    "p = Person(\"John\", 12)\n",
    "print(p)\n",
    "p.age = \"abc\"\n",
    "print(p)\n",
    "p.age = 85\n",
    "print(p)\n",
    "p.age = 850\n",
    "print(p)\n",
    "del p.age"
   ]
  },
  {
   "cell_type": "markdown",
   "metadata": {},
   "source": [
    "# Reflection\n",
    "\n",
    "__`getattr`__ gets an attribute by name:\n"
   ]
  },
  {
   "cell_type": "code",
   "execution_count": 25,
   "metadata": {},
   "outputs": [
    {
     "data": {
      "text/plain": [
       "12"
      ]
     },
     "execution_count": 25,
     "metadata": {},
     "output_type": "execute_result"
    }
   ],
   "source": [
    "class A:\n",
    "    def __init__(self, value: Any):\n",
    "        self.attr1 = value\n",
    "        \n",
    "getattr(A(12), 'attr1')"
   ]
  },
  {
   "cell_type": "markdown",
   "metadata": {},
   "source": [
    "Missing attributes raise `AttributeError`:"
   ]
  },
  {
   "cell_type": "code",
   "execution_count": 26,
   "metadata": {},
   "outputs": [],
   "source": [
    "# getattr(A(12), 'attr2')  # raises AttributeError"
   ]
  },
  {
   "cell_type": "markdown",
   "metadata": {},
   "source": [
    "A default can be specified:"
   ]
  },
  {
   "cell_type": "code",
   "execution_count": 27,
   "metadata": {},
   "outputs": [
    {
     "data": {
      "text/plain": [
       "'attr2_default'"
      ]
     },
     "execution_count": 27,
     "metadata": {},
     "output_type": "execute_result"
    }
   ],
   "source": [
    "getattr(A(12), 'attr2', \"attr2_default\")"
   ]
  },
  {
   "cell_type": "markdown",
   "metadata": {},
   "source": [
    "__`setattr`__ sets an attribute:"
   ]
  },
  {
   "cell_type": "code",
   "execution_count": 28,
   "metadata": {},
   "outputs": [
    {
     "name": "stdout",
     "output_type": "stream",
     "text": [
      "getattr(a, attr_name) = 15\n",
      "a.apple = 15\n"
     ]
    },
    {
     "data": {
      "text/plain": [
       "{'apple': 15}"
      ]
     },
     "execution_count": 28,
     "metadata": {},
     "output_type": "execute_result"
    }
   ],
   "source": [
    "class A:\n",
    "    pass\n",
    "\n",
    "# attr_name = input(\"Attribute name = \")\n",
    "# attr_value = input(f\"{attr_name} = \")\n",
    "attr_name = 'apple'\n",
    "attr_value = 15\n",
    "\n",
    "a = A()\n",
    "setattr(a, attr_name, attr_value)\n",
    "print(f\"{getattr(a, attr_name) = }\")\n",
    "print(f\"{a.apple = }\")\n",
    "a.__dict__"
   ]
  },
  {
   "cell_type": "markdown",
   "metadata": {},
   "source": [
    "__`delattr`__ deletes an attribute from the namespace:"
   ]
  },
  {
   "cell_type": "code",
   "execution_count": 29,
   "metadata": {},
   "outputs": [
    {
     "name": "stdout",
     "output_type": "stream",
     "text": [
      "{'attr1': 1, 'attr2': 2}\n",
      "{'attr2': 2}\n"
     ]
    }
   ],
   "source": [
    "class A:\n",
    "    def __init__(self):\n",
    "        self.attr1 = 1\n",
    "        self.attr2 = 2\n",
    "        \n",
    "a = A()\n",
    "print(a.__dict__)\n",
    "\n",
    "delattr(a, 'attr1')\n",
    "print(a.__dict__)"
   ]
  },
  {
   "cell_type": "markdown",
   "metadata": {},
   "source": [
    "__`hasattr`__ checks if an attribute is present in the parameter's namespace:"
   ]
  },
  {
   "cell_type": "code",
   "execution_count": 30,
   "metadata": {},
   "outputs": [
    {
     "data": {
      "text/plain": [
       "(False, True)"
      ]
     },
     "execution_count": 30,
     "metadata": {},
     "output_type": "execute_result"
    }
   ],
   "source": [
    "hasattr(a, 'attr1'), hasattr(a, 'attr2')"
   ]
  },
  {
   "cell_type": "markdown",
   "metadata": {},
   "source": [
    "# Data class\n",
    "\n",
    " - It is a new feature in Python 3.10\n",
    " - Contains class variables and has a default `__init__` with the attributes as the parameters\n",
    " - The syntax of these contains the `@dataclass` decorator\n",
    " \n",
    "(https://docs.python.org/3/library/dataclasses.html)"
   ]
  },
  {
   "cell_type": "code",
   "execution_count": 31,
   "metadata": {},
   "outputs": [
    {
     "data": {
      "text/plain": [
       "0.5"
      ]
     },
     "execution_count": 31,
     "metadata": {},
     "output_type": "execute_result"
    }
   ],
   "source": [
    "@dataclass\n",
    "class A:\n",
    "    name: str\n",
    "    values: List[float]\n",
    "\n",
    "    def add_values(self) -> float:\n",
    "        return sum(self.values)\n",
    "\n",
    "\n",
    "# a = A() # Will raise TypeError, as the default init requires name and values passed to is\n",
    "a = A(\"dataclass\", [0.2, 0.3])\n",
    "a.add_values()"
   ]
  },
  {
   "cell_type": "markdown",
   "metadata": {},
   "source": [
    "You can define if a dataclass implements certain functions by default. For full list see the documentation linked above.\n",
    "Some examples are below"
   ]
  },
  {
   "cell_type": "markdown",
   "metadata": {},
   "source": [
    "Init"
   ]
  },
  {
   "cell_type": "code",
   "execution_count": 32,
   "metadata": {},
   "outputs": [
    {
     "name": "stdout",
     "output_type": "stream",
     "text": [
      "apple\n"
     ]
    }
   ],
   "source": [
    "@dataclass(init=True) # the default\n",
    "class A:\n",
    "    name: str\n",
    "\n",
    "@dataclass(init=False)\n",
    "class B:\n",
    "    name: str\n",
    "\n",
    "a = A(\"apple\")\n",
    "print(a.name)\n",
    "b = B()\n",
    "# print(b.name) # Will raise AttributeError, because B has no 'name' attribute\n",
    "# b = B(\"banana\") # Will raise TypeError, because the default init does not take arguments"
   ]
  },
  {
   "cell_type": "markdown",
   "metadata": {},
   "source": [
    "Repr: whether to generate a default, nicely formatted string representation of the instance"
   ]
  },
  {
   "cell_type": "code",
   "execution_count": 33,
   "metadata": {},
   "outputs": [
    {
     "name": "stdout",
     "output_type": "stream",
     "text": [
      "A(name='apple')\n",
      "<__main__.B object at 0x7fc688440190>\n"
     ]
    }
   ],
   "source": [
    "@dataclass(repr=True) # the default\n",
    "class A:\n",
    "    name: str\n",
    "\n",
    "@dataclass(repr=False)\n",
    "class B:\n",
    "    name: str\n",
    "\n",
    "a = A(\"apple\")\n",
    "print(a)\n",
    "b = B(\"banana\")\n",
    "print(b)"
   ]
  },
  {
   "cell_type": "markdown",
   "metadata": {},
   "source": [
    "Eq: whether to define a default equal comparator function based on the tuple of the attributes"
   ]
  },
  {
   "cell_type": "code",
   "execution_count": 34,
   "metadata": {},
   "outputs": [
    {
     "name": "stdout",
     "output_type": "stream",
     "text": [
      "True\n",
      "False\n"
     ]
    }
   ],
   "source": [
    "@dataclass(eq=True) # the default\n",
    "class A:\n",
    "    name: str\n",
    "    isinteresing: bool\n",
    "\n",
    "\n",
    "@dataclass(eq=False)\n",
    "class B:\n",
    "    name: str\n",
    "    isinteresing: bool\n",
    "\n",
    "a = A(\"apple\", True)\n",
    "b = B(\"banana\", True)\n",
    "\n",
    "c = A(\"apple\", True)\n",
    "d = B(\"banana\", True)\n",
    "print(a == c)\n",
    "print(b == d)"
   ]
  },
  {
   "cell_type": "markdown",
   "metadata": {},
   "source": [
    "# Inheritance\n",
    "\n",
    "Python supports inheritance and multiple inheritance."
   ]
  },
  {
   "cell_type": "code",
   "execution_count": 35,
   "metadata": {},
   "outputs": [
    {
     "name": "stdout",
     "output_type": "stream",
     "text": [
      "False\n",
      "True\n",
      "True\n",
      "False\n"
     ]
    }
   ],
   "source": [
    "class A:\n",
    "    pass\n",
    "\n",
    "class B(A):\n",
    "    pass\n",
    "\n",
    "a = A()\n",
    "b = B()\n",
    "print(isinstance(a, B))\n",
    "print(isinstance(b, A))\n",
    "print(issubclass(B, A))\n",
    "print(issubclass(A, B))"
   ]
  },
  {
   "cell_type": "code",
   "execution_count": 36,
   "metadata": {},
   "outputs": [
    {
     "data": {
      "text/plain": [
       "(True, False)"
      ]
     },
     "execution_count": 36,
     "metadata": {},
     "output_type": "execute_result"
    }
   ],
   "source": [
    "isinstance(3, int), isinstance(3, float)"
   ]
  },
  {
   "cell_type": "markdown",
   "metadata": {},
   "source": [
    "Python 3 implicitly subclasses `object`:"
   ]
  },
  {
   "cell_type": "code",
   "execution_count": 37,
   "metadata": {},
   "outputs": [
    {
     "name": "stdout",
     "output_type": "stream",
     "text": [
      "True\n",
      "True\n"
     ]
    }
   ],
   "source": [
    "class A: pass\n",
    "class B(object): pass\n",
    "\n",
    "print(issubclass(A, object))\n",
    "print(issubclass(B, object))"
   ]
  },
  {
   "cell_type": "markdown",
   "metadata": {},
   "source": [
    "__Method inheritance__\n",
    "\n",
    "Methods are inherited and overridden in the usual way:"
   ]
  },
  {
   "cell_type": "code",
   "execution_count": 38,
   "metadata": {},
   "outputs": [
    {
     "name": "stdout",
     "output_type": "stream",
     "text": [
      "B.foo was called\n",
      "A.bar was called\n"
     ]
    }
   ],
   "source": [
    "class A(object):\n",
    "    def foo(self):\n",
    "        print(\"A.foo was called\")\n",
    "        \n",
    "    def bar(self):\n",
    "        print(\"A.bar was called\")\n",
    "        \n",
    "class B(A):\n",
    "    def foo(self):\n",
    "        print(\"B.foo was called\")\n",
    "        \n",
    "b = B()\n",
    "b.foo()\n",
    "b.bar()"
   ]
  },
  {
   "cell_type": "markdown",
   "metadata": {},
   "source": [
    "Since data attributes can be created anywhere, they are only inherited if the code in the base class' method is called."
   ]
  },
  {
   "cell_type": "code",
   "execution_count": 39,
   "metadata": {},
   "outputs": [
    {
     "name": "stdout",
     "output_type": "stream",
     "text": [
      "{}\n",
      "{}\n",
      "{'value': 42}\n"
     ]
    }
   ],
   "source": [
    "class A(object):\n",
    "    \n",
    "    def foo(self):\n",
    "        self.value = 42\n",
    "        \n",
    "class B(A):\n",
    "    pass\n",
    "\n",
    "b = B()\n",
    "print(b.__dict__)\n",
    "a = A()\n",
    "print(a.__dict__)\n",
    "a.foo()\n",
    "print(a.__dict__)"
   ]
  },
  {
   "cell_type": "markdown",
   "metadata": {},
   "source": [
    "__Calling the base class's `init`__\n",
    "\n",
    "Since `__init__` is not a constructor, the base class' init is not called automatically, if the subclass overrides it"
   ]
  },
  {
   "cell_type": "code",
   "execution_count": 40,
   "metadata": {},
   "outputs": [
    {
     "name": "stdout",
     "output_type": "stream",
     "text": [
      "B.__init__ called\n",
      "Creating c\n",
      "A.__init__ called\n"
     ]
    }
   ],
   "source": [
    "class A(object):\n",
    "    def __init__(self):\n",
    "        print(\"A.__init__ called\")\n",
    "        \n",
    "class B(A):\n",
    "    def __init__(self):\n",
    "        print(\"B.__init__ called\")\n",
    "        \n",
    "class C(A):\n",
    "    pass\n",
    "        \n",
    "b = B()\n",
    "print(\"Creating c\")\n",
    "c = C()"
   ]
  },
  {
   "cell_type": "markdown",
   "metadata": {},
   "source": [
    "The base class's methods can be called in at least two ways:\n",
    "1. Explicitely via the class name\n",
    "1. Using the **super** function"
   ]
  },
  {
   "cell_type": "code",
   "execution_count": 41,
   "metadata": {},
   "outputs": [
    {
     "name": "stdout",
     "output_type": "stream",
     "text": [
      "Instantiating B\n",
      "A.__init__ called\n",
      "B.__init__ called\n",
      "\n",
      "Instantiating C\n",
      "A.__init__ called\n",
      "C.__init__ called\n"
     ]
    }
   ],
   "source": [
    "class A(object):\n",
    "    def __init__(self):\n",
    "        print(\"A.__init__ called\")\n",
    "        \n",
    "class B(A):\n",
    "    def __init__(self):\n",
    "        A.__init__(self)\n",
    "        print(\"B.__init__ called\")\n",
    "        \n",
    "class C(A):\n",
    "    def __init__(self):\n",
    "        super().__init__()\n",
    "        print(\"C.__init__ called\")\n",
    "        \n",
    "print(\"Instantiating B\")\n",
    "b = B()\n",
    "print(\"\\nInstantiating C\")\n",
    "c = C()"
   ]
  },
  {
   "cell_type": "markdown",
   "metadata": {},
   "source": [
    "A complete example:"
   ]
  },
  {
   "cell_type": "code",
   "execution_count": 42,
   "metadata": {},
   "outputs": [
    {
     "name": "stdout",
     "output_type": "stream",
     "text": [
      "John Smith, age 33, position: manager, salary: 450000\n",
      "John Smith, age 33\n"
     ]
    }
   ],
   "source": [
    "class Person(object):\n",
    "    \n",
    "    def __init__(self, name: str, age: int):\n",
    "        self.name = name\n",
    "        self.age = age\n",
    "        \n",
    "    def __str__(self):\n",
    "        return f\"{self.name}, age {self.age}\"\n",
    "        \n",
    "class Employee(Person):\n",
    "    \n",
    "    def __init__(self, name: str, age: int, position: str, salary: int):\n",
    "        self.position = position\n",
    "        self.salary = salary\n",
    "        super().__init__(name, age)\n",
    "        \n",
    "    def __str__(self):\n",
    "        return f\"{super().__str__()}, position: {self.position}, salary: {self.salary}\"\n",
    "    \n",
    "    \n",
    "e = Employee(\"John Smith\", 33, \"manager\", 450000)\n",
    "print(e)\n",
    "print(Person(e.name, e.age))"
   ]
  },
  {
   "cell_type": "markdown",
   "metadata": {},
   "source": [
    "## Duck typing and interfaces\n",
    "\n",
    "- No built-in mechanism for interfacing.\n",
    "- The Abstract Base Classes (`abc`) module implements interface-like features.\n",
    "- Not used extensively in Python in favor of duck typing.\n",
    "\n",
    "\"In computer programming, duck typing is an application of the duck test in type safety. It requires that type checking be deferred to runtime, and is implemented by means of dynamic typing or reflection.\" -- [Wikipedia](https://en.wikipedia.org/wiki/Duck_typing)\n",
    "\n",
    "\"If it looks like a duck, swims like a duck, and quacks like a duck, then it probably is a duck.\" -- [Wikipedia](https://en.wikipedia.org/wiki/Duck_test)\n",
    "\n",
    "Allows polymorphism without abstract base classes."
   ]
  },
  {
   "cell_type": "code",
   "execution_count": 43,
   "metadata": {},
   "outputs": [
    {
     "name": "stdout",
     "output_type": "stream",
     "text": [
      "Meow\n",
      "Woof\n"
     ]
    }
   ],
   "source": [
    "class Cat(object):\n",
    "    \n",
    "    def make_sound(self):\n",
    "        self.meow()\n",
    "        \n",
    "    def meow(self):\n",
    "        print(\"Meow\")\n",
    "        \n",
    "        \n",
    "class Dog(object):\n",
    "    \n",
    "    def make_sound(self):\n",
    "        self.bark()\n",
    "        \n",
    "    def bark(self):\n",
    "        print(\"Woof\")\n",
    "        \n",
    "\n",
    "animals = [Cat(), Dog()]\n",
    "for animal in animals:\n",
    "    # animal must have a make_sound method\n",
    "    animal.make_sound()"
   ]
  },
  {
   "cell_type": "markdown",
   "metadata": {},
   "source": [
    "__`NotImplementedError`__"
   ]
  },
  {
   "cell_type": "code",
   "execution_count": 44,
   "metadata": {},
   "outputs": [
    {
     "name": "stdout",
     "output_type": "stream",
     "text": [
      "Woof\n"
     ]
    }
   ],
   "source": [
    "class Animal(object):\n",
    "    def make_sound(self):\n",
    "        raise NotImplementedError(\"Animal subclass must implement make_sound.\")\n",
    "        \n",
    "class Dog(Animal):\n",
    "    def make_sound(self):\n",
    "        print(\"Woof\")\n",
    "        \n",
    "class Fox(Animal):\n",
    "    pass\n",
    "        \n",
    "dog = Dog()\n",
    "\n",
    "# Fox can be instantiated\n",
    "fox = Fox()\n",
    "\n",
    "dog.make_sound()\n",
    "# fox.make_sound() # This raises a NotImplementedError, because this method is not overriden in Fox"
   ]
  },
  {
   "cell_type": "markdown",
   "metadata": {},
   "source": [
    "__abc module__\n",
    "\n",
    "More options in the [Abstract Base Classes module](https://docs.python.org/3/library/abc.html)."
   ]
  },
  {
   "cell_type": "markdown",
   "metadata": {},
   "source": [
    "# Magic methods\n",
    "\n",
    "Mechanism that allows implementing advanced OO features.\n",
    "\n",
    "**dunder** methods."
   ]
  },
  {
   "cell_type": "markdown",
   "metadata": {},
   "source": [
    "`__str__` __method__\n",
    "\n",
    "Returns the string representation of the object:"
   ]
  },
  {
   "cell_type": "code",
   "execution_count": 45,
   "metadata": {},
   "outputs": [
    {
     "name": "stdout",
     "output_type": "stream",
     "text": [
      "My id is 140490244439536 and my parameter is 345.\n"
     ]
    }
   ],
   "source": [
    "class A(object):\n",
    "    def __init__(self, value: float=42):\n",
    "        self.param = value\n",
    "        \n",
    "    def __str__(self):\n",
    "        return f\"My id is {id(self)} and my parameter is {self.param}.\"\n",
    "    \n",
    "print(A(345))"
   ]
  },
  {
   "cell_type": "markdown",
   "metadata": {},
   "source": [
    "## Operator overloading\n",
    "\n",
    "- Operators are mapped to magic functions.\n",
    "- Defining these functions defines/overrides operators.\n",
    "- Comprehensive list of operator functions are [here](https://docs.python.org/3/library/operator.html).\n",
    "- Many built-in functions are included as well:\n",
    "  - `__len__`: defines the behavior of `len(obj)`\n",
    "  - `__abs__`: defines the behavior of `abs(obj)`\n",
    "- Dataclass can generate some of these automatically"
   ]
  },
  {
   "cell_type": "code",
   "execution_count": 46,
   "metadata": {},
   "outputs": [
    {
     "name": "stdout",
     "output_type": "stream",
     "text": [
      "c1 == c1 = True\n",
      "c1 > c2 = False\n",
      "abs(c2) = 1.4142135623730951\n",
      "c1 + c2 + c2 = 2.0+j2.0\n"
     ]
    }
   ],
   "source": [
    "class Complex(object):\n",
    "    def __init__(self, real: float=0.0, imag: float=0.0):\n",
    "        self.real = real\n",
    "        self.imag = imag\n",
    "        \n",
    "    def __abs__(self):\n",
    "        return (self.real**2 + self.imag**2) ** 0.5\n",
    "    \n",
    "    def __eq__(self, other: Complex):  # right hand side\n",
    "        return self.real == other.real and self.imag == other.imag\n",
    "    \n",
    "    def __gt__(self, other: Complex | int | float):\n",
    "        return abs(self) > abs(other)\n",
    "    \n",
    "    def __add__(self, other: Complex):\n",
    "        return Complex(self.real+other.real, self.imag+other.imag)\n",
    "    \n",
    "    def __repr__(self):\n",
    "        return f\"{self.real}+j{self.imag}\"\n",
    "    \n",
    "c1 = Complex()\n",
    "c2 = Complex(1, 1)\n",
    "print(f\"{c1 == c1 = }\")\n",
    "print(f\"{c1 > c2 = }\")\n",
    "print(f\"{abs(c2) = }\")\n",
    "print(f\"{c1 + c2 + c2 = }\")"
   ]
  },
  {
   "cell_type": "markdown",
   "metadata": {},
   "source": [
    "## Assignment operator, shallow copy and deep copy\n",
    "\n",
    "\n",
    "There are 3 types of assignment and copying:\n",
    "\n",
    "1. the assignment operator (=) creates a new reference to the same object,\n",
    "1. `copy` performs shallow copy,\n",
    "1. `deepcopy` recursively deepcopies everything.\n",
    "\n",
    "\n",
    "__Assignment operator__:\n",
    "- It **cannot** be overridden.\n",
    "- It performs name binding instead of copying.\n",
    "- Tightly bound to the garbage collector.\n",
    "\n",
    "The difference between shallow and deep copy is only relevant for compound objects (objects that contain other objects)."
   ]
  },
  {
   "cell_type": "code",
   "execution_count": 47,
   "metadata": {},
   "outputs": [
    {
     "name": "stdout",
     "output_type": "stream",
     "text": [
      "(l1 is l2) = True\n",
      "(l1[0] is l2[0]) = True\n"
     ]
    }
   ],
   "source": [
    "l1 = [[1, 2], [3, 4, 5]]\n",
    "l2 = l1\n",
    "print(f\"{(l1 is l2) = }\")\n",
    "print(f\"{(l1[0] is l2[0]) = }\")"
   ]
  },
  {
   "cell_type": "code",
   "execution_count": 48,
   "metadata": {},
   "outputs": [
    {
     "data": {
      "text/plain": [
       "[[10, 2], [3, 4, 5]]"
      ]
     },
     "execution_count": 48,
     "metadata": {},
     "output_type": "execute_result"
    }
   ],
   "source": [
    "l1[0][0] = 10\n",
    "l2"
   ]
  },
  {
   "cell_type": "markdown",
   "metadata": {},
   "source": [
    "__Shallow copy__"
   ]
  },
  {
   "cell_type": "code",
   "execution_count": 49,
   "metadata": {},
   "outputs": [
    {
     "name": "stdout",
     "output_type": "stream",
     "text": [
      "(l1 is l2) = False\n",
      "(l1[0] is l2[0]) = True\n"
     ]
    },
    {
     "data": {
      "text/plain": [
       "[[10, 2], [3, 4, 5]]"
      ]
     },
     "execution_count": 49,
     "metadata": {},
     "output_type": "execute_result"
    }
   ],
   "source": [
    "from copy import copy\n",
    "\n",
    "l1 = [[1, 2], [3, 4, 5]]\n",
    "l2 = copy(l1)\n",
    "\n",
    "print(f\"{(l1 is l2) = }\")\n",
    "print(f\"{(l1[0] is l2[0]) = }\")\n",
    "l1[0][0] = 10\n",
    "l2"
   ]
  },
  {
   "cell_type": "code",
   "execution_count": 50,
   "metadata": {},
   "outputs": [
    {
     "name": "stdout",
     "output_type": "stream",
     "text": [
      "(l1 is l2) = False\n",
      "(l1[0] is l2[0]) = True\n"
     ]
    }
   ],
   "source": [
    "l1 = [[1, 2], [3, 4, 5]]\n",
    "l2 = copy(l1)\n",
    "print(f\"{(l1 is l2) = }\")\n",
    "print(f\"{(l1[0] is l2[0]) = }\")"
   ]
  },
  {
   "cell_type": "code",
   "execution_count": 51,
   "metadata": {},
   "outputs": [
    {
     "data": {
      "text/plain": [
       "True"
      ]
     },
     "execution_count": 51,
     "metadata": {},
     "output_type": "execute_result"
    }
   ],
   "source": [
    "l1 == l2"
   ]
  },
  {
   "cell_type": "code",
   "execution_count": 52,
   "metadata": {},
   "outputs": [
    {
     "data": {
      "text/plain": [
       "[[11, 2], [3, 4, 5]]"
      ]
     },
     "execution_count": 52,
     "metadata": {},
     "output_type": "execute_result"
    }
   ],
   "source": [
    "l1 = [[1, 2], [3, 4, 5]]\n",
    "l2 = copy(l1)\n",
    "l2[0][0] = 11\n",
    "l1"
   ]
  },
  {
   "cell_type": "code",
   "execution_count": 53,
   "metadata": {},
   "outputs": [
    {
     "name": "stdout",
     "output_type": "stream",
     "text": [
      "l1 = [[7, 8, 9], [3, 4, 5]]\n",
      "l2 = [[1, 2], [3, 4, 5]]\n",
      "(l1[0] is l2[0]) = False\n",
      "(l1[1] is l2[1]) = True\n"
     ]
    }
   ],
   "source": [
    "l1 = [[1, 2], [3, 4, 5]]\n",
    "l2 = copy(l1)\n",
    "l1[0] = [7, 8, 9]\n",
    "print(f\"{l1 = }\")\n",
    "print(f\"{l2 = }\")\n",
    "print(f\"{(l1[0] is l2[0]) = }\")\n",
    "print(f\"{(l1[1] is l2[1]) = }\")"
   ]
  },
  {
   "cell_type": "markdown",
   "metadata": {},
   "source": [
    "__Deep copy__"
   ]
  },
  {
   "cell_type": "code",
   "execution_count": 54,
   "metadata": {},
   "outputs": [
    {
     "name": "stdout",
     "output_type": "stream",
     "text": [
      "(l1 is l2) = False\n",
      "(l1[0] is l2[0]) = False\n"
     ]
    }
   ],
   "source": [
    "from copy import deepcopy\n",
    "\n",
    "l1 = [[1, 2], [3, 4, 5]]\n",
    "l2 = deepcopy(l1)\n",
    "print(f\"{(l1 is l2) = }\")\n",
    "print(f\"{(l1[0] is l2[0]) = }\")"
   ]
  },
  {
   "cell_type": "code",
   "execution_count": 55,
   "metadata": {},
   "outputs": [
    {
     "data": {
      "text/plain": [
       "[[1, 2], [3, 4, 5]]"
      ]
     },
     "execution_count": 55,
     "metadata": {},
     "output_type": "execute_result"
    }
   ],
   "source": [
    "l1[0][0] = 10\n",
    "l2"
   ]
  },
  {
   "cell_type": "markdown",
   "metadata": {},
   "source": [
    "Both can be defined via magic methods\n",
    "\n",
    "*note that these implementations do not check for infinite loops*"
   ]
  },
  {
   "cell_type": "code",
   "execution_count": 56,
   "metadata": {},
   "outputs": [
    {
     "name": "stdout",
     "output_type": "stream",
     "text": [
      "ListOfLists copy called\n",
      "[[12, 2], [3, 4, 5]]\n",
      "ListOfLists deepcopy called\n"
     ]
    }
   ],
   "source": [
    "from copy import copy, deepcopy\n",
    "\n",
    "class ListOfLists(object):\n",
    "    def __init__(self, lists):\n",
    "        self.lists = lists\n",
    "        self.list_lengths = [len(l) for l in self.lists]\n",
    "        \n",
    "    def __copy__(self):\n",
    "        print(\"ListOfLists copy called\")\n",
    "        return ListOfLists(copy(self.lists))\n",
    "        \n",
    "    def __deepcopy__(self, memo):\n",
    "        print(\"ListOfLists deepcopy called\")\n",
    "        return ListOfLists(deepcopy(self.lists))\n",
    "        \n",
    "l1 = ListOfLists([[1, 2], [3, 4, 5]])\n",
    "l2 = copy(l1)\n",
    "l1.lists[0][0] = 12\n",
    "print(l2.lists)\n",
    "l3 = deepcopy(l1)"
   ]
  },
  {
   "cell_type": "markdown",
   "metadata": {},
   "source": [
    "However, these are very far from complete implementations. We need to take care of preventing infinite loops and support for pickling (serialization module)."
   ]
  },
  {
   "cell_type": "markdown",
   "metadata": {},
   "source": [
    "## Object creation and destruction: the `__new__` and the `__del__` method\n",
    "\n",
    "The `__new__` method is called to create a new instance of a class. `__new__` is a static method that takes the class object as a first parameter.\n",
    "\n",
    "Typical implementations create a new instance of the class by invoking the superclass’s `__new__()` method using `super(currentclass, cls).__new__(cls[, ...])` with appropriate arguments and then modifying the newly-created instance as necessary before returning it.\n",
    "\n",
    "`__new__` has to return an instance of `cls`, on which `__init__` is called.\n",
    "\n",
    "The `__del__` method is called when an object is about to be destroyed.\n",
    "Although technically a destructor, it is handled by the garbage collector.\n",
    "It is not guaranteed that `__del__()` methods are called for objects that still exist when the interpreter exits."
   ]
  },
  {
   "cell_type": "code",
   "execution_count": 57,
   "metadata": {},
   "outputs": [
    {
     "name": "stdout",
     "output_type": "stream",
     "text": [
      "A.__new__ called\n",
      "A.__init__ called\n",
      "a created\n",
      "A.__del__ called\n",
      "parent class does not have a __del__ method\n"
     ]
    }
   ],
   "source": [
    "class A(object):\n",
    "    \n",
    "    @classmethod\n",
    "    def __new__(cls, *args, **kwargs):\n",
    "        instance = super().__new__(cls)\n",
    "        print(\"A.__new__ called\")\n",
    "        return instance\n",
    "    \n",
    "    def __init__(self):\n",
    "        print(\"A.__init__ called\")\n",
    "        \n",
    "    def __del__(self):\n",
    "        print(\"A.__del__ called\")\n",
    "        try:\n",
    "            super(A, self).__del__()\n",
    "        except AttributeError:\n",
    "            print(\"parent class does not have a __del__ method\")\n",
    "        \n",
    "        \n",
    "a = A()\n",
    "print(\"a created\")\n",
    "del a"
   ]
  },
  {
   "cell_type": "markdown",
   "metadata": {},
   "source": [
    "## Object introspection\n",
    "\n",
    "- Python has full object introspection.\n",
    "- **`dir`** lists every attribute of an object"
   ]
  },
  {
   "cell_type": "code",
   "execution_count": 58,
   "metadata": {},
   "outputs": [
    {
     "data": {
      "text/plain": [
       "'__class__, __delattr__, __dict__, __dir__, __doc__, __eq__, __format__, __ge__, __getattribute__, __gt__, __hash__, __init__, __init_subclass__, __le__, __lt__, __module__, __ne__, __new__, __reduce__, __reduce_ex__, __repr__, __setattr__, __sizeof__, __str__, __subclasshook__, __weakref__, foo, var'"
      ]
     },
     "execution_count": 58,
     "metadata": {},
     "output_type": "execute_result"
    }
   ],
   "source": [
    "class A(object):\n",
    "    var = 12\n",
    "    def __init__(self, value: Any):\n",
    "        self.value = value\n",
    "        \n",
    "    def foo(self):\n",
    "        print(\"bar\")\n",
    "  \n",
    "\", \".join(dir(A))"
   ]
  },
  {
   "cell_type": "markdown",
   "metadata": {},
   "source": [
    "Class `A` does not have a value attribute, since it is bounded to an instance. However, it does have the class global var attribute."
   ]
  },
  {
   "cell_type": "markdown",
   "metadata": {},
   "source": [
    "An instance of A has both:"
   ]
  },
  {
   "cell_type": "code",
   "execution_count": 59,
   "metadata": {},
   "outputs": [
    {
     "data": {
      "text/plain": [
       "'__class__, __delattr__, __dict__, __dir__, __doc__, __eq__, __format__, __ge__, __getattribute__, __gt__, __hash__, __init__, __init_subclass__, __le__, __lt__, __module__, __ne__, __new__, __reduce__, __reduce_ex__, __repr__, __setattr__, __sizeof__, __str__, __subclasshook__, __weakref__, foo, value, var'"
      ]
     },
     "execution_count": 59,
     "metadata": {},
     "output_type": "execute_result"
    }
   ],
   "source": [
    "\", \".join(dir(A(12)))"
   ]
  },
  {
   "cell_type": "markdown",
   "metadata": {},
   "source": [
    "`__code__`\n",
    "\n",
    "Every object has a `__code__` attribute, which contains everything needed to call the function."
   ]
  },
  {
   "cell_type": "code",
   "execution_count": 60,
   "metadata": {},
   "outputs": [
    {
     "name": "stdout",
     "output_type": "stream",
     "text": [
      "<code object evaluate at 0x7fc6948eb5d0, file \"/tmp/ipykernel_820565/506748482.py\", line 1>\n"
     ]
    },
    {
     "data": {
      "text/plain": [
       "['__class__',\n",
       " '__delattr__',\n",
       " '__dir__',\n",
       " '__doc__',\n",
       " '__eq__',\n",
       " '__format__',\n",
       " '__ge__',\n",
       " '__getattribute__',\n",
       " '__gt__',\n",
       " '__hash__',\n",
       " '__init__',\n",
       " '__init_subclass__',\n",
       " '__le__',\n",
       " '__lt__',\n",
       " '__ne__',\n",
       " '__new__',\n",
       " '__reduce__',\n",
       " '__reduce_ex__',\n",
       " '__repr__',\n",
       " '__setattr__',\n",
       " '__sizeof__',\n",
       " '__str__',\n",
       " '__subclasshook__',\n",
       " 'co_argcount',\n",
       " 'co_cellvars',\n",
       " 'co_code',\n",
       " 'co_consts',\n",
       " 'co_filename',\n",
       " 'co_firstlineno',\n",
       " 'co_flags',\n",
       " 'co_freevars',\n",
       " 'co_kwonlyargcount',\n",
       " 'co_lines',\n",
       " 'co_linetable',\n",
       " 'co_lnotab',\n",
       " 'co_name',\n",
       " 'co_names',\n",
       " 'co_nlocals',\n",
       " 'co_posonlyargcount',\n",
       " 'co_stacksize',\n",
       " 'co_varnames',\n",
       " 'replace']"
      ]
     },
     "execution_count": 60,
     "metadata": {},
     "output_type": "execute_result"
    }
   ],
   "source": [
    "def evaluate(x: Any):\n",
    "    a = 12\n",
    "    b = 3\n",
    "    return a*x + b\n",
    "    \n",
    "print(evaluate.__code__)\n",
    "dir(evaluate.__code__)"
   ]
  },
  {
   "cell_type": "code",
   "execution_count": 61,
   "metadata": {},
   "outputs": [
    {
     "data": {
      "text/plain": [
       "(('x', 'a', 'b'), (), 2)"
      ]
     },
     "execution_count": 61,
     "metadata": {},
     "output_type": "execute_result"
    }
   ],
   "source": [
    "evaluate.__code__.co_varnames, evaluate.__code__.co_freevars, evaluate.__code__.co_stacksize"
   ]
  },
  {
   "cell_type": "markdown",
   "metadata": {},
   "source": [
    "The **inspect** module provides further code introspection tools, including the **getsourcelines** function, which returns the source code itself."
   ]
  },
  {
   "cell_type": "code",
   "execution_count": 62,
   "metadata": {},
   "outputs": [
    {
     "name": "stdout",
     "output_type": "stream",
     "text": [
      "def evaluate(x: Any):\n",
      "    a = 12\n",
      "    b = 3\n",
      "    return a*x + b\n",
      "\n"
     ]
    }
   ],
   "source": [
    "from inspect import getsourcelines\n",
    "\n",
    "print(\"\".join(getsourcelines(evaluate)[0]))"
   ]
  },
  {
   "cell_type": "markdown",
   "metadata": {},
   "source": [
    "# Multiple inheritance\n",
    "\n",
    "- No interface inheritance in Python.\n",
    "- Since every class subclasses `object`, the diamond problem is present.\n",
    "- Method resolution order (MRO) defines the way methods are inherited"
   ]
  },
  {
   "cell_type": "code",
   "execution_count": 63,
   "metadata": {},
   "outputs": [
    {
     "name": "stdout",
     "output_type": "stream",
     "text": [
      "Instantiating C\n",
      "C init called\n",
      "A init called\n",
      "Instantiating D\n",
      "A init called\n"
     ]
    }
   ],
   "source": [
    "class A(object):\n",
    "    def __init__(self, value):\n",
    "        print(\"A init called\")\n",
    "        self.value = value\n",
    "        \n",
    "class B(object):\n",
    "    def __init__(self):\n",
    "        print(\"B init called\")\n",
    "\n",
    "class C(A, B):\n",
    "    def __init__(self, value1, value2):\n",
    "        print(\"C init called\")\n",
    "        self.value2 = value2\n",
    "        super().__init__(value1)\n",
    "        \n",
    "class D(A, B): pass\n",
    "        \n",
    "print(\"Instantiating C\")\n",
    "c = C(1, 2)\n",
    "print(\"Instantiating D\")\n",
    "d = D(12)"
   ]
  },
  {
   "cell_type": "markdown",
   "metadata": {},
   "source": [
    "# Exception"
   ]
  },
  {
   "cell_type": "markdown",
   "metadata": {},
   "source": [
    "We have seen examplels already of different type of exceptions during the lecture.\n",
    "An exception is raised, when the code tries to do something illegal, like dividing by zero:"
   ]
  },
  {
   "cell_type": "code",
   "execution_count": 64,
   "metadata": {},
   "outputs": [],
   "source": [
    "# a = 8 / 0  # will raise ZeroDivisionError"
   ]
  },
  {
   "cell_type": "markdown",
   "metadata": {},
   "source": [
    "## Handling exceptions"
   ]
  },
  {
   "cell_type": "markdown",
   "metadata": {},
   "source": [
    "We can prevent the exception from exiting the code:"
   ]
  },
  {
   "cell_type": "code",
   "execution_count": 65,
   "metadata": {},
   "outputs": [
    {
     "name": "stdout",
     "output_type": "stream",
     "text": [
      "The code would have raised a <class 'ZeroDivisionError'>\n"
     ]
    }
   ],
   "source": [
    "try:\n",
    "    a = 8 / 0\n",
    "except ZeroDivisionError as e:\n",
    "    print(f\"The code would have raised a {type(e)}\")"
   ]
  },
  {
   "cell_type": "markdown",
   "metadata": {},
   "source": [
    "We can even define an additional code block, that will run every time after the try-except block no matter the outcome. These are called *clean-up actions*:"
   ]
  },
  {
   "cell_type": "code",
   "execution_count": 66,
   "metadata": {},
   "outputs": [
    {
     "name": "stdout",
     "output_type": "stream",
     "text": [
      "The code would have raised a <class 'ZeroDivisionError'>\n",
      "We are in finally\n"
     ]
    }
   ],
   "source": [
    "try:\n",
    "    a = 8 / 0\n",
    "except ZeroDivisionError as e:\n",
    "    print(f\"The code would have raised a {type(e)}\")\n",
    "    # raise e  # We raise the exception we just caught\n",
    "finally:\n",
    "    print(\"We are in finally\")"
   ]
  },
  {
   "cell_type": "markdown",
   "metadata": {},
   "source": [
    "The exception can be a list, a specific type, a general exception or not named at all. If we want to keep the information about the exception we can do so with a context managed variable."
   ]
  },
  {
   "cell_type": "markdown",
   "metadata": {},
   "source": [
    "List of exceptions, if the code might raise multiple type of exceptions:"
   ]
  },
  {
   "cell_type": "code",
   "execution_count": 67,
   "metadata": {},
   "outputs": [
    {
     "name": "stdout",
     "output_type": "stream",
     "text": [
      "The code would have raised a <class 'IndexError'>\n"
     ]
    }
   ],
   "source": [
    "try:\n",
    "    l = [0, 1, 2]\n",
    "    a = l[10] / l[0]\n",
    "except (IndexError, ZeroDivisionError) as e:\n",
    "    print(f\"The code would have raised a {type(e)}\")"
   ]
  },
  {
   "cell_type": "markdown",
   "metadata": {},
   "source": [
    "General:"
   ]
  },
  {
   "cell_type": "code",
   "execution_count": 68,
   "metadata": {},
   "outputs": [
    {
     "name": "stdout",
     "output_type": "stream",
     "text": [
      "The code would have raised a <class 'ZeroDivisionError'>\n"
     ]
    }
   ],
   "source": [
    "try:\n",
    "    a = 8 / 0\n",
    "except Exception as e:\n",
    "    print(f\"The code would have raised a {type(e)}\")"
   ]
  },
  {
   "cell_type": "markdown",
   "metadata": {},
   "source": [
    "Without any named exception class"
   ]
  },
  {
   "cell_type": "code",
   "execution_count": 69,
   "metadata": {},
   "outputs": [
    {
     "name": "stdout",
     "output_type": "stream",
     "text": [
      "The code would have raised an exception\n"
     ]
    }
   ],
   "source": [
    "try:\n",
    "    a = 8 / 0\n",
    "except:\n",
    "    print(f\"The code would have raised an exception\")"
   ]
  },
  {
   "cell_type": "markdown",
   "metadata": {},
   "source": [
    "## Raise"
   ]
  },
  {
   "cell_type": "markdown",
   "metadata": {},
   "source": [
    "We can also raise exceptions by using the `raise` keyword and creating an exception instance."
   ]
  },
  {
   "cell_type": "code",
   "execution_count": 70,
   "metadata": {},
   "outputs": [
    {
     "name": "stdout",
     "output_type": "stream",
     "text": [
      "We caught the ValueError!\n"
     ]
    }
   ],
   "source": [
    "try:\n",
    "    raise ValueError()\n",
    "except ValueError:\n",
    "    print(\"We caught the ValueError!\")"
   ]
  },
  {
   "cell_type": "markdown",
   "metadata": {},
   "source": [
    "We can also pass attributes to the exception to provide a custom error message."
   ]
  },
  {
   "cell_type": "code",
   "execution_count": 71,
   "metadata": {},
   "outputs": [
    {
     "name": "stdout",
     "output_type": "stream",
     "text": [
      "The error message is: The a value is 12\n"
     ]
    }
   ],
   "source": [
    "try:\n",
    "    a = 12\n",
    "    raise ValueError(f\"The a value is {a}\")\n",
    "except ValueError as e:\n",
    "    print(f\"The error message is: {e}\")"
   ]
  },
  {
   "cell_type": "markdown",
   "metadata": {},
   "source": [
    "We can chain exceptions as well, when catching an exception raises an other."
   ]
  },
  {
   "cell_type": "code",
   "execution_count": 72,
   "metadata": {},
   "outputs": [
    {
     "data": {
      "text/plain": [
       "'\\ntry:\\n    raise ValueError(\"This is the value error\")\\nexcept ValueError:\\n    raise AttributeError(\"This is an AttributeError\")\\n'"
      ]
     },
     "execution_count": 72,
     "metadata": {},
     "output_type": "execute_result"
    }
   ],
   "source": [
    "\"\"\"\n",
    "try:\n",
    "    raise ValueError(\"This is the value error\")\n",
    "except ValueError:\n",
    "    raise AttributeError(\"This is an AttributeError\")\n",
    "\"\"\""
   ]
  },
  {
   "cell_type": "markdown",
   "metadata": {},
   "source": [
    "## Assert"
   ]
  },
  {
   "cell_type": "markdown",
   "metadata": {},
   "source": [
    "Asserts are short tests, that raise `AssertionError` if the specified condition is false."
   ]
  },
  {
   "cell_type": "code",
   "execution_count": 73,
   "metadata": {},
   "outputs": [],
   "source": [
    "a = 43\n",
    "b = 42\n",
    "\n",
    "assert a > b"
   ]
  },
  {
   "cell_type": "markdown",
   "metadata": {},
   "source": [
    "We can also add an error message to the assertion"
   ]
  },
  {
   "cell_type": "code",
   "execution_count": 74,
   "metadata": {},
   "outputs": [],
   "source": [
    "# assert a == b, \"This is the assertion message\"  # Will raise AssertionError"
   ]
  },
  {
   "cell_type": "markdown",
   "metadata": {},
   "source": [
    "## Warnings"
   ]
  },
  {
   "cell_type": "markdown",
   "metadata": {},
   "source": [
    "Warnings are special exceptions, that won't stop the running of the code, but will print a message to stderr. You need the warnings module for this, as raising the warning will create an error."
   ]
  },
  {
   "cell_type": "code",
   "execution_count": 75,
   "metadata": {},
   "outputs": [
    {
     "name": "stdout",
     "output_type": "stream",
     "text": [
      "We can still reach this code\n"
     ]
    },
    {
     "name": "stderr",
     "output_type": "stream",
     "text": [
      "/tmp/ipykernel_820565/2122194017.py:1: RuntimeWarning: This is just a warning, no worries\n",
      "  warnings.warn(RuntimeWarning(\"This is just a warning, no worries\"))\n"
     ]
    }
   ],
   "source": [
    "warnings.warn(RuntimeWarning(\"This is just a warning, no worries\"))\n",
    "# warnings.warn(\"This is just a warning, no worries\", RuntimeWarning)  # same as above, just different syntax\n",
    "print(\"We can still reach this code\")"
   ]
  },
  {
   "cell_type": "markdown",
   "metadata": {},
   "source": [
    "We don't need to create a Warning instance to write a warning. In this case the type of the warning will be `UserWarning`"
   ]
  },
  {
   "cell_type": "code",
   "execution_count": 76,
   "metadata": {},
   "outputs": [
    {
     "name": "stderr",
     "output_type": "stream",
     "text": [
      "/tmp/ipykernel_820565/3796036779.py:1: UserWarning: Warning message\n",
      "  warnings.warn(\"Warning message\")\n"
     ]
    }
   ],
   "source": [
    "warnings.warn(\"Warning message\")"
   ]
  },
  {
   "cell_type": "markdown",
   "metadata": {},
   "source": [
    "You cannot use warning for an error."
   ]
  },
  {
   "cell_type": "code",
   "execution_count": 77,
   "metadata": {},
   "outputs": [],
   "source": [
    "# warnings.warn(\"This is an error, I am warning you\", ValueError)  # will raise TypeError"
   ]
  },
  {
   "cell_type": "markdown",
   "metadata": {},
   "source": [
    "## Writing your own exception"
   ]
  },
  {
   "cell_type": "markdown",
   "metadata": {},
   "source": [
    "Typically an exception is a subclass of the Exception. All exceptions are derived from BaseException."
   ]
  },
  {
   "cell_type": "code",
   "execution_count": 78,
   "metadata": {},
   "outputs": [],
   "source": [
    "class MyException(Exception):\n",
    "    pass\n",
    "\n",
    "# raise MyException(\"Works the same as the builtin\")"
   ]
  },
  {
   "cell_type": "markdown",
   "metadata": {},
   "source": [
    "For Warnings use Warning as the super class."
   ]
  },
  {
   "cell_type": "code",
   "execution_count": 79,
   "metadata": {},
   "outputs": [
    {
     "name": "stderr",
     "output_type": "stream",
     "text": [
      "/tmp/ipykernel_820565/2695896824.py:4: MyWarning: This is my warning\n",
      "  warnings.warn(\"This is my warning\", MyWarning)\n"
     ]
    }
   ],
   "source": [
    "class MyWarning(Warning):\n",
    "    pass\n",
    "\n",
    "warnings.warn(\"This is my warning\", MyWarning)"
   ]
  },
  {
   "cell_type": "markdown",
   "metadata": {},
   "source": [
    "# See also\n",
    "\n",
    "* [Classes (official documentation)](https://docs.python.org/3/tutorial/classes.html)\n",
    "* [Data model (official documentation)](https://docs.python.org/3/reference/datamodel.html)\n",
    "* [Data class (official documentation)](https://docs.python.org/3/library/dataclasses.html)\n",
    "* [Errors and exceptions (official documentation)](https://docs.python.org/3/tutorial/errors.html)"
   ]
  }
 ],
 "metadata": {
  "kernelspec": {
   "display_name": "Python 3",
   "language": "python",
   "name": "python3"
  },
  "language_info": {
   "codemirror_mode": {
    "name": "ipython",
    "version": 3
   },
   "file_extension": ".py",
   "mimetype": "text/x-python",
   "name": "python",
   "nbconvert_exporter": "python",
   "pygments_lexer": "ipython3",
   "version": "3.8.10"
  },
  "orig_nbformat": 4,
  "vscode": {
   "interpreter": {
    "hash": "31f2aee4e71d21fbe5cf8b01ff0e069b9275f58929596ceb00d14d90e3e16cd6"
   }
  }
 },
 "nbformat": 4,
 "nbformat_minor": 2
}
