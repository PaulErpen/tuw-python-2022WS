{
 "cells": [
  {
   "cell_type": "markdown",
   "id": "fcb48f1c",
   "metadata": {
    "slideshow": {
     "slide_type": "slide"
    }
   },
   "source": [
    "# Programming in Python - Built-in types\n",
    "\n",
    "__September 27, 2022__\n",
    "\n",
    "__Judit Ács__\n",
    "\n",
    "acs.judit@sztaki.hu"
   ]
  },
  {
   "cell_type": "markdown",
   "id": "61eb7b32",
   "metadata": {
    "slideshow": {
     "slide_type": "slide"
    }
   },
   "source": [
    "# Type system\n",
    "\n",
    "__Dynamic__:\n",
    "- No need to declare variables\n",
    "- The `=` operator binds a reference to any arbitrary object"
   ]
  },
  {
   "cell_type": "code",
   "execution_count": null,
   "id": "a3853dc3",
   "metadata": {},
   "outputs": [],
   "source": [
    "i = 2\n",
    "type(i), id(i)"
   ]
  },
  {
   "cell_type": "code",
   "execution_count": null,
   "id": "a93ceaf3",
   "metadata": {
    "slideshow": {
     "slide_type": "-"
    }
   },
   "outputs": [],
   "source": [
    "i = \"foo\"\n",
    "type(i), id(i)"
   ]
  },
  {
   "cell_type": "markdown",
   "id": "6eb31b23",
   "metadata": {
    "slideshow": {
     "slide_type": "subslide"
    }
   },
   "source": [
    "__Strongly typed__:\n",
    "- Most implicit conversions are disallowed such as between strings and numeric types:"
   ]
  },
  {
   "cell_type": "code",
   "execution_count": null,
   "id": "8133cd2b",
   "metadata": {},
   "outputs": [],
   "source": [
    "print(\"I am \" + 20 + \" years old\")  # raises TypeError"
   ]
  },
  {
   "cell_type": "markdown",
   "id": "e035e928",
   "metadata": {
    "slideshow": {
     "slide_type": "fragment"
    }
   },
   "source": [
    "We must explicitely cast it:"
   ]
  },
  {
   "cell_type": "code",
   "execution_count": null,
   "id": "8f20c638",
   "metadata": {},
   "outputs": [],
   "source": [
    "print(\"I am \" + str(20) + \" years old\")"
   ]
  },
  {
   "cell_type": "markdown",
   "id": "d37ef790",
   "metadata": {
    "slideshow": {
     "slide_type": "subslide"
    }
   },
   "source": [
    "Note that many other languages like Javascript allow implicit casting:"
   ]
  },
  {
   "cell_type": "code",
   "execution_count": null,
   "id": "dc290317",
   "metadata": {},
   "outputs": [],
   "source": [
    "%%javascript\n",
    "\n",
    "element.text(\"I am \" + 20 + \" years old\")"
   ]
  },
  {
   "cell_type": "code",
   "execution_count": null,
   "id": "58bc580f",
   "metadata": {},
   "outputs": [],
   "source": [
    "%%javascript\n",
    "\n",
    "element.text(\"1\" + 1)"
   ]
  },
  {
   "cell_type": "code",
   "execution_count": null,
   "id": "59672a4b",
   "metadata": {
    "slideshow": {
     "slide_type": "-"
    }
   },
   "outputs": [],
   "source": [
    "%%javascript\n",
    "\n",
    "element.text(1 + \"1\")"
   ]
  },
  {
   "cell_type": "markdown",
   "id": "c8a07dbb",
   "metadata": {
    "slideshow": {
     "slide_type": "subslide"
    }
   },
   "source": [
    "Conversions between numeric types are OK:"
   ]
  },
  {
   "cell_type": "code",
   "execution_count": null,
   "id": "fb5fd7e3",
   "metadata": {
    "slideshow": {
     "slide_type": "fragment"
    }
   },
   "outputs": [],
   "source": [
    "i = 2\n",
    "f = 1.2\n",
    "s = i + f\n",
    "print(type(i), type(f))\n",
    "print(type(i + f))\n",
    "print(s)"
   ]
  },
  {
   "cell_type": "markdown",
   "id": "3d06efe3",
   "metadata": {
    "slideshow": {
     "slide_type": "slide"
    }
   },
   "source": [
    "# Boolean operators and type"
   ]
  },
  {
   "cell_type": "markdown",
   "id": "411ce1b4",
   "metadata": {
    "slideshow": {
     "slide_type": "subslide"
    }
   },
   "source": [
    "Three boolean operators: `and`, `or` and `not`"
   ]
  },
  {
   "cell_type": "code",
   "execution_count": null,
   "id": "fbe2356f",
   "metadata": {
    "slideshow": {
     "slide_type": "fragment"
    }
   },
   "outputs": [],
   "source": [
    "x = 2\n",
    "\n",
    "x < 2 or x >= 2"
   ]
  },
  {
   "cell_type": "code",
   "execution_count": null,
   "id": "99cd8e13",
   "metadata": {},
   "outputs": [],
   "source": [
    "x > 0 and x < 10"
   ]
  },
  {
   "cell_type": "code",
   "execution_count": null,
   "id": "eeddd022",
   "metadata": {},
   "outputs": [],
   "source": [
    "not x < 0"
   ]
  },
  {
   "cell_type": "markdown",
   "id": "46eb58db",
   "metadata": {
    "slideshow": {
     "slide_type": "slide"
    }
   },
   "source": [
    "Two boolean values: `True` and `False` (must be capitalized)"
   ]
  },
  {
   "cell_type": "code",
   "execution_count": null,
   "id": "d54a92fc",
   "metadata": {},
   "outputs": [],
   "source": [
    "x = True\n",
    "type(x)"
   ]
  },
  {
   "cell_type": "code",
   "execution_count": null,
   "id": "60227e2b",
   "metadata": {},
   "outputs": [],
   "source": [
    "True and False"
   ]
  },
  {
   "cell_type": "code",
   "execution_count": null,
   "id": "08b3e62a",
   "metadata": {},
   "outputs": [],
   "source": [
    "True or False"
   ]
  },
  {
   "cell_type": "code",
   "execution_count": null,
   "id": "5349f718",
   "metadata": {},
   "outputs": [],
   "source": [
    "not True"
   ]
  },
  {
   "cell_type": "markdown",
   "id": "fd83548b",
   "metadata": {},
   "source": [
    "# Bitwise operators\n",
    "\n",
    "Python has 6 bitwise operators: <<, >>, |, &, ~, ^\n",
    "\n",
    "In practice, these are rarely used.\n",
    "\n",
    "Demonstrating each with the binary representation of numbers:"
   ]
  },
  {
   "cell_type": "code",
   "execution_count": null,
   "id": "490aeed0",
   "metadata": {},
   "outputs": [],
   "source": [
    "bin(0b00010 << 2)"
   ]
  },
  {
   "cell_type": "code",
   "execution_count": null,
   "id": "c87ba0c8",
   "metadata": {},
   "outputs": [],
   "source": [
    "bin(0b00010 >> 1)"
   ]
  },
  {
   "cell_type": "code",
   "execution_count": null,
   "id": "a4d40a6d",
   "metadata": {},
   "outputs": [],
   "source": [
    "bin(0b1010 | 0b1001)"
   ]
  },
  {
   "cell_type": "code",
   "execution_count": null,
   "id": "01cba16d",
   "metadata": {},
   "outputs": [],
   "source": [
    "bin(0b1010 & 0b1001)"
   ]
  },
  {
   "cell_type": "markdown",
   "id": "566f16e3",
   "metadata": {},
   "source": [
    "`~` returns the complement of x. Same as -x-1:"
   ]
  },
  {
   "cell_type": "code",
   "execution_count": null,
   "id": "29192c72",
   "metadata": {},
   "outputs": [],
   "source": [
    "x = 0b1010\n",
    "print(f\"{x = }\")\n",
    "print(f\"{bin(x) = }\")\n",
    "print(f\"{~x = }\")\n",
    "print(f\"{bin(~x) = }\")"
   ]
  },
  {
   "cell_type": "markdown",
   "id": "f34df715",
   "metadata": {
    "slideshow": {
     "slide_type": "slide"
    }
   },
   "source": [
    "# Numeric types\n",
    "\n",
    "Three numeric types: __`int`__, __`float`__ and __`complex`__ <br/>\n",
    "\n",
    "An object's type is derived from its initial value:"
   ]
  },
  {
   "cell_type": "code",
   "execution_count": null,
   "id": "212f6644",
   "metadata": {
    "slideshow": {
     "slide_type": "fragment"
    }
   },
   "outputs": [],
   "source": [
    "i = 2\n",
    "f = 1.2\n",
    "c = 1+2j\n",
    "\n",
    "type(i), type(f), type(c)"
   ]
  },
  {
   "cell_type": "markdown",
   "id": "f6c1784c",
   "metadata": {
    "slideshow": {
     "slide_type": "subslide"
    }
   },
   "source": [
    "Implicit conversion between numeric types is supported in arithmetic operations, the resulting type is the one with less data loss:"
   ]
  },
  {
   "cell_type": "code",
   "execution_count": null,
   "id": "b013cf50",
   "metadata": {},
   "outputs": [],
   "source": [
    "c2 = i + c\n",
    "print(c2, type(c2))"
   ]
  },
  {
   "cell_type": "markdown",
   "id": "4aee77cd",
   "metadata": {},
   "source": [
    "Floats can be defined using __scientific notation__:"
   ]
  },
  {
   "cell_type": "code",
   "execution_count": null,
   "id": "880d8495",
   "metadata": {},
   "outputs": [],
   "source": [
    "3e2, 3E2"
   ]
  },
  {
   "cell_type": "markdown",
   "id": "c2a50a38",
   "metadata": {},
   "source": [
    "## Underscores in numeric literals\n",
    "\n",
    "Examples from [PEP 0515](https://www.python.org/dev/peps/pep-0515/):"
   ]
  },
  {
   "cell_type": "code",
   "execution_count": null,
   "id": "3335731c",
   "metadata": {},
   "outputs": [],
   "source": [
    "# grouping decimal numbers by thousands\n",
    "amount = 10_000_000.0\n",
    "\n",
    "# grouping hexadecimal addresses by words\n",
    "addr = 0xCAFE_F00D\n",
    "\n",
    "# grouping bits into nibbles in a binary literal\n",
    "flags = 0b_0011_1111_0100_1110\n",
    "\n",
    "# same, for string conversions\n",
    "flags = int('0b_1111_0000', 2)\n",
    "\n",
    "# two or more consecutive underscores are not allowed\n",
    "# 2__4  # SyntaxError"
   ]
  },
  {
   "cell_type": "markdown",
   "id": "672c2e50",
   "metadata": {
    "slideshow": {
     "slide_type": "slide"
    }
   },
   "source": [
    "## Precision and range\n",
    "\n",
    "Integers have unlimited precision"
   ]
  },
  {
   "cell_type": "code",
   "execution_count": null,
   "id": "39efdddb",
   "metadata": {},
   "outputs": [],
   "source": [
    "type(2**63 + 1)"
   ]
  },
  {
   "cell_type": "markdown",
   "id": "86258272",
   "metadata": {},
   "source": [
    "**int-str conversions have an upper limit since Python 3.10**\n",
    "\n",
    "This is a controversial breaking change. Details [here](https://discuss.python.org/t/int-str-conversions-broken-in-latest-python-bugfix-releases/18889), video [here](https://www.youtube.com/watch?v=eTucYT2LpNU)."
   ]
  },
  {
   "cell_type": "markdown",
   "id": "cce6d39a",
   "metadata": {},
   "source": [
    "More information in `sys.int_info`:"
   ]
  },
  {
   "cell_type": "code",
   "execution_count": null,
   "id": "74e7fa5b",
   "metadata": {
    "slideshow": {
     "slide_type": "fragment"
    }
   },
   "outputs": [],
   "source": [
    "import sys\n",
    "sys.int_info"
   ]
  },
  {
   "cell_type": "markdown",
   "id": "f01afb1f",
   "metadata": {
    "slideshow": {
     "slide_type": "subslide"
    }
   },
   "source": [
    "Floats are usually implemented using C's double.<br />\n",
    "Complex numbers use two floats for their real and imaginary parts.<br/>\n",
    "Check `sys.float_info` for more information:"
   ]
  },
  {
   "cell_type": "code",
   "execution_count": null,
   "id": "85ebb67f",
   "metadata": {
    "slideshow": {
     "slide_type": "subslide"
    }
   },
   "outputs": [],
   "source": [
    "import sys\n",
    "sys.float_info"
   ]
  },
  {
   "cell_type": "markdown",
   "id": "cf671765",
   "metadata": {
    "slideshow": {
     "slide_type": "slide"
    }
   },
   "source": [
    "## Arithmetic operators\n",
    "\n",
    "Addition, subtraction and product result in a type with the least loss in information:"
   ]
  },
  {
   "cell_type": "code",
   "execution_count": null,
   "id": "10440c8d",
   "metadata": {},
   "outputs": [],
   "source": [
    "i = 2\n",
    "f = 4.2\n",
    "c = 4.1-3j\n",
    "\n",
    "s1 = i + f\n",
    "s2 = f - c\n",
    "s3 = i * c\n",
    "print(s1, type(s1))\n",
    "print(s2, type(s2))\n",
    "print(s3, type(s3))"
   ]
  },
  {
   "cell_type": "markdown",
   "id": "2171af6c",
   "metadata": {
    "slideshow": {
     "slide_type": "subslide"
    }
   },
   "source": [
    "__quotient operator__\n",
    "\n",
    "In Python3 operator/ computes the float quotient even if the operands are both integers unlike in C++ or Python2:"
   ]
  },
  {
   "cell_type": "code",
   "execution_count": null,
   "id": "c608d3a2",
   "metadata": {},
   "outputs": [],
   "source": [
    "3 / 2"
   ]
  },
  {
   "cell_type": "code",
   "execution_count": null,
   "id": "04e03d00",
   "metadata": {},
   "outputs": [],
   "source": [
    "%%python2\n",
    "\n",
    "print(3 / 2)"
   ]
  },
  {
   "cell_type": "markdown",
   "id": "7252206d",
   "metadata": {
    "slideshow": {
     "slide_type": "subslide"
    }
   },
   "source": [
    "Explicit __floor quotient operator__"
   ]
  },
  {
   "cell_type": "code",
   "execution_count": null,
   "id": "802481a0",
   "metadata": {},
   "outputs": [],
   "source": [
    "-3.0 // 2, 3 // 2"
   ]
  },
  {
   "cell_type": "markdown",
   "id": "91c8d26d",
   "metadata": {
    "slideshow": {
     "slide_type": "slide"
    }
   },
   "source": [
    "## Comparison operators"
   ]
  },
  {
   "cell_type": "code",
   "execution_count": null,
   "id": "93a12241",
   "metadata": {},
   "outputs": [],
   "source": [
    "x = 23\n",
    "x < 24, x >= 22"
   ]
  },
  {
   "cell_type": "markdown",
   "id": "4c2613e6",
   "metadata": {
    "slideshow": {
     "slide_type": "subslide"
    }
   },
   "source": [
    "Operators can be chained:"
   ]
  },
  {
   "cell_type": "code",
   "execution_count": null,
   "id": "88e28cc8",
   "metadata": {},
   "outputs": [],
   "source": [
    "23 < x < 100  # equivalent to (23 < x) and (x < 100)"
   ]
  },
  {
   "cell_type": "code",
   "execution_count": null,
   "id": "c787d7eb",
   "metadata": {},
   "outputs": [],
   "source": [
    "23 <= x < 100"
   ]
  },
  {
   "cell_type": "markdown",
   "id": "14298f29",
   "metadata": {
    "slideshow": {
     "slide_type": "slide"
    }
   },
   "source": [
    "## Other operators for numeric types\n",
    "\n",
    "__remainder__"
   ]
  },
  {
   "cell_type": "code",
   "execution_count": null,
   "id": "85e31973",
   "metadata": {},
   "outputs": [],
   "source": [
    "5 % 3"
   ]
  },
  {
   "cell_type": "markdown",
   "id": "73fd2816",
   "metadata": {
    "slideshow": {
     "slide_type": "-"
    }
   },
   "source": [
    "__power__"
   ]
  },
  {
   "cell_type": "code",
   "execution_count": null,
   "id": "cd33484f",
   "metadata": {},
   "outputs": [],
   "source": [
    "2 ** 3"
   ]
  },
  {
   "cell_type": "markdown",
   "id": "34703203",
   "metadata": {},
   "source": [
    "Using it for square root:"
   ]
  },
  {
   "cell_type": "code",
   "execution_count": null,
   "id": "eda85ec9",
   "metadata": {},
   "outputs": [],
   "source": [
    "2 ** 0.5"
   ]
  },
  {
   "cell_type": "markdown",
   "id": "ad048002",
   "metadata": {
    "slideshow": {
     "slide_type": "subslide"
    }
   },
   "source": [
    "__absolute value__"
   ]
  },
  {
   "cell_type": "code",
   "execution_count": null,
   "id": "fd3ab264",
   "metadata": {},
   "outputs": [],
   "source": [
    "abs(-2 - 1j), abs(1+1j), abs(-2)"
   ]
  },
  {
   "cell_type": "markdown",
   "id": "72e7fc32",
   "metadata": {
    "slideshow": {
     "slide_type": "-"
    }
   },
   "source": [
    "__round__"
   ]
  },
  {
   "cell_type": "code",
   "execution_count": null,
   "id": "0df525e0",
   "metadata": {},
   "outputs": [],
   "source": [
    "round(2.3456), round(2.3456, 2)"
   ]
  },
  {
   "cell_type": "markdown",
   "id": "aced1b80",
   "metadata": {
    "slideshow": {
     "slide_type": "subslide"
    }
   },
   "source": [
    "## Explicit conversions between numeric types"
   ]
  },
  {
   "cell_type": "code",
   "execution_count": null,
   "id": "c40bacbb",
   "metadata": {},
   "outputs": [],
   "source": [
    "float(2)  # 2."
   ]
  },
  {
   "cell_type": "code",
   "execution_count": null,
   "id": "45b430ee",
   "metadata": {},
   "outputs": [],
   "source": [
    "int(2.5), int(-2.5)"
   ]
  },
  {
   "cell_type": "markdown",
   "id": "5b7ac096",
   "metadata": {
    "slideshow": {
     "slide_type": "subslide"
    }
   },
   "source": [
    "## `math` and `cmath`\n",
    "\n",
    "Additional operations for real and complex numbers:"
   ]
  },
  {
   "cell_type": "code",
   "execution_count": null,
   "id": "33d05885",
   "metadata": {},
   "outputs": [],
   "source": [
    "import math\n",
    "\n",
    "math.log(16), math.log(16, 2), math.exp(2), \\\n",
    "math.exp(math.log(10))"
   ]
  },
  {
   "cell_type": "markdown",
   "id": "c5aca1bc",
   "metadata": {},
   "source": [
    "## Note on the practical application of numeric types\n",
    "\n",
    "Python's built-in numeric types are slow and ill-suited for heavy usage.\n",
    "The `numpy` module provides a better efficiency alternative for numeric operations."
   ]
  },
  {
   "cell_type": "markdown",
   "id": "02e6a971",
   "metadata": {
    "slideshow": {
     "slide_type": "slide"
    }
   },
   "source": [
    "# Mutability\n",
    "\n",
    "- Instances of mutable types can be modified in place\n",
    "- Immutable objects have the same value during their lifetime\n",
    "- Are numeric types mutable or immutable?"
   ]
  },
  {
   "cell_type": "code",
   "execution_count": null,
   "id": "f1852cbe",
   "metadata": {
    "slideshow": {
     "slide_type": "fragment"
    }
   },
   "outputs": [],
   "source": [
    "x = 2\n",
    "old_id = id(x)\n",
    "x += 1\n",
    "print(x, id(x) == old_id)"
   ]
  },
  {
   "cell_type": "markdown",
   "id": "44a74e77",
   "metadata": {
    "slideshow": {
     "slide_type": "subslide"
    }
   },
   "source": [
    "Booleans are singleton immutable objects."
   ]
  },
  {
   "cell_type": "code",
   "execution_count": null,
   "id": "85f909a1",
   "metadata": {},
   "outputs": [],
   "source": [
    "x = True\n",
    "y = False\n",
    "print(x is y)\n",
    "z = False\n",
    "print(z is y)"
   ]
  },
  {
   "cell_type": "code",
   "execution_count": null,
   "id": "9018d11b",
   "metadata": {},
   "outputs": [],
   "source": [
    "(2 == 2) is (3 == 3), (2 != 2) is (3 < 1)"
   ]
  },
  {
   "cell_type": "markdown",
   "id": "491b533a",
   "metadata": {
    "slideshow": {
     "slide_type": "subslide"
    }
   },
   "source": [
    "Lists are mutable:"
   ]
  },
  {
   "cell_type": "code",
   "execution_count": null,
   "id": "dc9d11c6",
   "metadata": {},
   "outputs": [],
   "source": [
    "l1 = [0, 1]\n",
    "old_id = id(l1)\n",
    "l1.append(2)\n",
    "old_id == id(l1)"
   ]
  },
  {
   "cell_type": "markdown",
   "id": "67845f20",
   "metadata": {
    "slideshow": {
     "slide_type": "slide"
    }
   },
   "source": [
    "## Assignments in Python\n",
    "\n",
    "Assignment differs from other imperative languages:\n",
    "\n",
    "- in C++ `i = 2` translates to _typed variable named i receives a copy of numeric value 2_\n",
    "- in Python `i = 2` translates to _name i receives a reference to object of numeric type of value 2_\n",
    "\n",
    "The built-in function `id` returns the object's id"
   ]
  },
  {
   "cell_type": "code",
   "execution_count": null,
   "id": "60d863f8",
   "metadata": {
    "slideshow": {
     "slide_type": "subslide"
    }
   },
   "outputs": [],
   "source": [
    "i = 2\n",
    "print(id(i))\n",
    "\n",
    "i = 3\n",
    "print(id(i))"
   ]
  },
  {
   "cell_type": "markdown",
   "id": "6e22511b",
   "metadata": {},
   "source": [
    "The `is` operator compares two objects' identities:"
   ]
  },
  {
   "cell_type": "code",
   "execution_count": null,
   "id": "193ff8f6",
   "metadata": {
    "slideshow": {
     "slide_type": "subslide"
    }
   },
   "outputs": [],
   "source": [
    "a = 2\n",
    "b = a\n",
    "print(a is b)  # same as print(id(a) == id(b))"
   ]
  },
  {
   "cell_type": "markdown",
   "id": "cc11e9e2",
   "metadata": {},
   "source": [
    "'Changing' the value of `b` binds it to a different object"
   ]
  },
  {
   "cell_type": "code",
   "execution_count": null,
   "id": "e92d829c",
   "metadata": {
    "slideshow": {
     "slide_type": "subslide"
    }
   },
   "outputs": [],
   "source": [
    "b = 3\n",
    "print(a is b)"
   ]
  },
  {
   "cell_type": "markdown",
   "id": "0c834f17",
   "metadata": {},
   "source": [
    "String concatenation results in a new object:"
   ]
  },
  {
   "cell_type": "code",
   "execution_count": null,
   "id": "04a86f43",
   "metadata": {
    "slideshow": {
     "slide_type": "subslide"
    }
   },
   "outputs": [],
   "source": [
    "s = \"foo\"\n",
    "old_id = id(s)\n",
    "\n",
    "s += \"bar\"\n",
    "print(old_id == id(s))"
   ]
  },
  {
   "cell_type": "markdown",
   "id": "9505b5b2",
   "metadata": {},
   "source": [
    "Numerical operations also result in new objects. We will talk about this in detail later."
   ]
  },
  {
   "cell_type": "code",
   "execution_count": null,
   "id": "b2976f7b",
   "metadata": {},
   "outputs": [],
   "source": [
    "a = 2\n",
    "b = a\n",
    "print(id(a) == id(b))\n",
    "a += 1\n",
    "print(a is b)"
   ]
  },
  {
   "cell_type": "markdown",
   "id": "289b7be5",
   "metadata": {},
   "source": [
    "Integers from -5 to 256 are preallocated since these numbers are used frequently.\n",
    "\n",
    "More information [here](https://github.com/satwikkansal/wtfPython#-is-is-not-what-it-is).\n",
    "\n",
    "More crazy stuff in [WTFPython](https://github.com/satwikkansal/wtfpython)"
   ]
  },
  {
   "cell_type": "markdown",
   "id": "21441d18",
   "metadata": {
    "slideshow": {
     "slide_type": "slide"
    }
   },
   "source": [
    "# Sequence types\n",
    "\n",
    "All sequences support the following basic operations:\n",
    "\n",
    "| operation | behaviour |\n",
    "| :----- | :----- |\n",
    "| `x in s` | \tTrue if an item of s is equal to x, else False |\n",
    "| `x not in s` | \tFalse if an item of s is equal to x, else True |\n",
    "| `s + t` | \tthe concatenation of s and t |\n",
    "| `s * n or n * s` | \tequivalent to adding s to itself n times |\n",
    "| `s[i]` | \tith item of s, origin 0 |\n",
    "| `s[i:j]` | \tslice of s from i to j |\n",
    "| `s[i:j:k]` | \tslice of s from i to j with step k |\n",
    "| `len(s)` | \tlength of s |\n",
    "| `min(s)` | \tsmallest item of s |\n",
    "| `max(s)` | \tlargest item of s |\n",
    "| `s.index(x[, i[, j]])` | \tindex of the first occurrence of x in s (at or after index i and before index j) |\n",
    "| `s.count(x)` | \ttotal number of occurrences of x in s |\n",
    "\n",
    "[Table source](https://docs.python.org/3/library/stdtypes.html#common-sequence-operations)"
   ]
  },
  {
   "cell_type": "markdown",
   "id": "bab2216c",
   "metadata": {},
   "source": [
    "Sidenote: `x not in s` is _Pythonic_, `not x in s` is not:"
   ]
  },
  {
   "cell_type": "code",
   "execution_count": null,
   "id": "b9d0eede",
   "metadata": {},
   "outputs": [],
   "source": [
    "5 not in [ 2, 3, 4]  # this is Pythonic\n",
    "not 5 in [2, 3, 4]  # this is less Pythonic"
   ]
  },
  {
   "cell_type": "markdown",
   "id": "860c800e",
   "metadata": {
    "slideshow": {
     "slide_type": "subslide"
    }
   },
   "source": [
    "## Traversing sequences\n",
    "\n",
    "All sequence types can be traversed with for loops:"
   ]
  },
  {
   "cell_type": "code",
   "execution_count": null,
   "id": "b8d097c2",
   "metadata": {},
   "outputs": [],
   "source": [
    "l = [1, -1, \"foo\", 2, \"bar\"]\n",
    "for element in l:\n",
    "    print(element)"
   ]
  },
  {
   "cell_type": "markdown",
   "id": "39c9b407",
   "metadata": {
    "slideshow": {
     "slide_type": "subslide"
    }
   },
   "source": [
    "__`enumerate`__\n",
    "\n",
    "If we need the indices too, the built-in `enumerate` function iterates over index-element pairs:"
   ]
  },
  {
   "cell_type": "code",
   "execution_count": null,
   "id": "cadd804a",
   "metadata": {},
   "outputs": [],
   "source": [
    "for i, element in enumerate(l):\n",
    "    print(i, element)"
   ]
  },
  {
   "cell_type": "markdown",
   "id": "5476f607",
   "metadata": {
    "slideshow": {
     "slide_type": "slide"
    }
   },
   "source": [
    "## `list`\n",
    "\n",
    "Mutable sequence type:"
   ]
  },
  {
   "cell_type": "code",
   "execution_count": null,
   "id": "dedb0869",
   "metadata": {},
   "outputs": [],
   "source": [
    "l = [1, 2, 2, 3]\n",
    "print(l, l[1])"
   ]
  },
  {
   "cell_type": "code",
   "execution_count": null,
   "id": "3677f04b",
   "metadata": {},
   "outputs": [],
   "source": [
    "l[4]  # raises IndexError"
   ]
  },
  {
   "cell_type": "markdown",
   "id": "e1f24103",
   "metadata": {},
   "source": [
    "Negative indexing supported:"
   ]
  },
  {
   "cell_type": "code",
   "execution_count": null,
   "id": "e9d4dd61",
   "metadata": {},
   "outputs": [],
   "source": [
    "l[-1], l[len(l)-1]"
   ]
  },
  {
   "cell_type": "markdown",
   "id": "0c34fd71",
   "metadata": {},
   "source": [
    "But it can also me out of range"
   ]
  },
  {
   "cell_type": "code",
   "execution_count": null,
   "id": "29439dbe",
   "metadata": {},
   "outputs": [],
   "source": [
    "l[-5]  # raises IndexError"
   ]
  },
  {
   "cell_type": "markdown",
   "id": "5b15ab10",
   "metadata": {},
   "source": [
    "__`append`__ adds an element to the end of the list:"
   ]
  },
  {
   "cell_type": "code",
   "execution_count": null,
   "id": "9671c64c",
   "metadata": {},
   "outputs": [],
   "source": [
    "l = [1, 2, 3]\n",
    "l.append(3)\n",
    "l"
   ]
  },
  {
   "cell_type": "code",
   "execution_count": null,
   "id": "f3f724c8",
   "metadata": {},
   "outputs": [],
   "source": [
    "for e in l:\n",
    "    print(id(e), e)"
   ]
  },
  {
   "cell_type": "markdown",
   "id": "67d1180f",
   "metadata": {},
   "source": [
    "__`insert`__ inserts an element at a specific index:"
   ]
  },
  {
   "cell_type": "code",
   "execution_count": null,
   "id": "fdf45663",
   "metadata": {},
   "outputs": [],
   "source": [
    "l = [1, 2, 3]\n",
    "l.insert(1, 5)\n",
    "l"
   ]
  },
  {
   "cell_type": "markdown",
   "id": "00db2401",
   "metadata": {},
   "source": [
    "__`extend`__"
   ]
  },
  {
   "cell_type": "code",
   "execution_count": null,
   "id": "e8410e33",
   "metadata": {},
   "outputs": [],
   "source": [
    "l = [1, 2]\n",
    "l.extend([3, 4, 5])\n",
    "len(l), l"
   ]
  },
  {
   "cell_type": "markdown",
   "id": "93d2727e",
   "metadata": {},
   "source": [
    "### Under the hood\n",
    "\n",
    "`append` is O(1), `insert` is O(n):"
   ]
  },
  {
   "cell_type": "code",
   "execution_count": null,
   "id": "036c0190",
   "metadata": {},
   "outputs": [],
   "source": [
    "l = list(range(100))"
   ]
  },
  {
   "cell_type": "code",
   "execution_count": null,
   "id": "72b49088",
   "metadata": {},
   "outputs": [],
   "source": [
    "%%timeit -n 100\n",
    "\n",
    "l.append(0)"
   ]
  },
  {
   "cell_type": "code",
   "execution_count": null,
   "id": "a7502825",
   "metadata": {},
   "outputs": [],
   "source": [
    "l = list(range(100))"
   ]
  },
  {
   "cell_type": "code",
   "execution_count": null,
   "id": "26e3d83e",
   "metadata": {},
   "outputs": [],
   "source": [
    "%%timeit -n 100\n",
    "\n",
    "l.insert(50, 0)"
   ]
  },
  {
   "cell_type": "markdown",
   "id": "fb8fd689",
   "metadata": {},
   "source": [
    "More about time complexity [here](https://wiki.python.org/moin/TimeComplexity)."
   ]
  },
  {
   "cell_type": "markdown",
   "id": "5f2fcfd5",
   "metadata": {
    "slideshow": {
     "slide_type": "subslide"
    }
   },
   "source": [
    "__Advanced indexing, ranges__"
   ]
  },
  {
   "cell_type": "code",
   "execution_count": null,
   "id": "eef82db7",
   "metadata": {},
   "outputs": [],
   "source": [
    "l = []\n",
    "for i in range(20):\n",
    "    l.append(2*i + 1)\n",
    "l"
   ]
  },
  {
   "cell_type": "code",
   "execution_count": null,
   "id": "ecad3d5e",
   "metadata": {},
   "outputs": [],
   "source": [
    "l[2:5]"
   ]
  },
  {
   "cell_type": "code",
   "execution_count": null,
   "id": "21d03b20",
   "metadata": {},
   "outputs": [],
   "source": [
    "l[:3], l[-4:]"
   ]
  },
  {
   "cell_type": "markdown",
   "id": "e867c7f7",
   "metadata": {},
   "source": [
    "This can be used for sliding windows:"
   ]
  },
  {
   "cell_type": "code",
   "execution_count": null,
   "id": "2ba44480",
   "metadata": {},
   "outputs": [],
   "source": [
    "for i in range(10):\n",
    "    print(l[i:i+3])"
   ]
  },
  {
   "cell_type": "markdown",
   "id": "b5d26c4b",
   "metadata": {},
   "source": [
    "Step argument:"
   ]
  },
  {
   "cell_type": "code",
   "execution_count": null,
   "id": "df88c9cf",
   "metadata": {},
   "outputs": [],
   "source": [
    "l[2:10:3] "
   ]
  },
  {
   "cell_type": "markdown",
   "id": "75dfbe71",
   "metadata": {
    "slideshow": {
     "slide_type": "subslide"
    }
   },
   "source": [
    "Reversing a list:"
   ]
  },
  {
   "cell_type": "code",
   "execution_count": null,
   "id": "80f59e9b",
   "metadata": {},
   "outputs": [],
   "source": [
    "l[::-1]"
   ]
  },
  {
   "cell_type": "markdown",
   "id": "92e99708",
   "metadata": {},
   "source": [
    "New object"
   ]
  },
  {
   "cell_type": "code",
   "execution_count": null,
   "id": "fc4835d6",
   "metadata": {},
   "outputs": [],
   "source": [
    "l[:3] is l"
   ]
  },
  {
   "cell_type": "code",
   "execution_count": null,
   "id": "866dd075",
   "metadata": {},
   "outputs": [],
   "source": [
    "l[:] is l, l[:] == l"
   ]
  },
  {
   "cell_type": "markdown",
   "id": "40fb4382",
   "metadata": {
    "slideshow": {
     "slide_type": "subslide"
    }
   },
   "source": [
    "Lists are __mutable__, elements can be added or changed:"
   ]
  },
  {
   "cell_type": "code",
   "execution_count": null,
   "id": "087cfce9",
   "metadata": {},
   "outputs": [],
   "source": [
    "l = []\n",
    "old_id = id(l)\n",
    "\n",
    "for element in range(1, 3):\n",
    "    l.append(element)\n",
    "    print(id(l) == old_id)\n",
    "l"
   ]
  },
  {
   "cell_type": "markdown",
   "id": "15dcb7a6",
   "metadata": {},
   "source": [
    "op= performs reference assignment without creating a new object (similar to shallow copy):"
   ]
  },
  {
   "cell_type": "code",
   "execution_count": null,
   "id": "1de75416",
   "metadata": {},
   "outputs": [],
   "source": [
    "l = [1 ,2]\n",
    "l2 = l\n",
    "print(l is l2)\n",
    "\n",
    "l2.append(42)\n",
    "l"
   ]
  },
  {
   "cell_type": "code",
   "execution_count": null,
   "id": "4ba7f6e2",
   "metadata": {},
   "outputs": [],
   "source": [
    "l.copy() is l"
   ]
  },
  {
   "cell_type": "markdown",
   "id": "91d96a37",
   "metadata": {
    "slideshow": {
     "slide_type": "subslide"
    }
   },
   "source": [
    "elements don't need to be of the same type"
   ]
  },
  {
   "cell_type": "code",
   "execution_count": null,
   "id": "b903ede7",
   "metadata": {},
   "outputs": [],
   "source": [
    "l = [1, -1, \"foo\", 2, \"bar\"]\n",
    "l"
   ]
  },
  {
   "cell_type": "markdown",
   "id": "e4971507",
   "metadata": {
    "slideshow": {
     "slide_type": "subslide"
    }
   },
   "source": [
    "__Sorting lists__\n",
    "\n",
    "Lists can be sorted using the built-in `sorted` function which returns a new list object."
   ]
  },
  {
   "cell_type": "code",
   "execution_count": null,
   "id": "d0fdc86e",
   "metadata": {},
   "outputs": [],
   "source": [
    "l = [3, -1, 2, 11]\n",
    "\n",
    "for e in sorted(l):\n",
    "    print(e)\n",
    "    \n",
    "l"
   ]
  },
  {
   "cell_type": "code",
   "execution_count": null,
   "id": "c1021809",
   "metadata": {},
   "outputs": [],
   "source": [
    "l is sorted(l)"
   ]
  },
  {
   "cell_type": "markdown",
   "id": "8831969b",
   "metadata": {},
   "source": [
    "Inplace version of sort:"
   ]
  },
  {
   "cell_type": "code",
   "execution_count": null,
   "id": "b5f186fc",
   "metadata": {},
   "outputs": [],
   "source": [
    "l = [3, -1, 2, 11]\n",
    "l.sort()\n",
    "l"
   ]
  },
  {
   "cell_type": "code",
   "execution_count": null,
   "id": "ceddc171",
   "metadata": {},
   "outputs": [],
   "source": [
    "l1 = [3, -1, 2]\n",
    "l2 = sorted(l1)\n",
    "print(f\"{(l1 is l2) = }\")\n",
    "print(f\"{l1 = }\")\n",
    "print(f\"{l2 = }\")"
   ]
  },
  {
   "cell_type": "markdown",
   "id": "5d5f029d",
   "metadata": {
    "slideshow": {
     "slide_type": "subslide"
    }
   },
   "source": [
    "The sorting key can be specified using the `key` argument:"
   ]
  },
  {
   "cell_type": "code",
   "execution_count": null,
   "id": "cc777726",
   "metadata": {},
   "outputs": [],
   "source": [
    "shopping_list = [\n",
    "    [\"apple\", 5],\n",
    "    [\"pear\", 2],\n",
    "    [\"milk\", 1],\n",
    "    [\"bread\", 3],\n",
    "]\n",
    "\n",
    "for product in sorted(shopping_list, key=lambda x: -x[1]):\n",
    "    print(product)"
   ]
  },
  {
   "cell_type": "code",
   "execution_count": null,
   "id": "cd7f911f",
   "metadata": {},
   "outputs": [],
   "source": [
    "sorted(shopping_list, key=lambda x: -x[1])"
   ]
  },
  {
   "cell_type": "markdown",
   "id": "f448b3a3",
   "metadata": {
    "slideshow": {
     "slide_type": "subslide"
    }
   },
   "source": [
    "## tuple\n",
    "\n",
    "Tuples are an immutable sequences:"
   ]
  },
  {
   "cell_type": "code",
   "execution_count": null,
   "id": "ac44a840",
   "metadata": {},
   "outputs": [],
   "source": [
    "t = ()  # empty tuple\n",
    "# t = tuple()\n",
    "print(f\"{type(t) = }\")\n",
    "print(f\"{len(t) = }\")\n",
    "print(f\"{t = }\")"
   ]
  },
  {
   "cell_type": "code",
   "execution_count": null,
   "id": "adf48056",
   "metadata": {},
   "outputs": [],
   "source": [
    "t = (1, 2, 3, \"foo\")\n",
    "print(f\"{type(t) = }\")\n",
    "print(f\"{len(t) = }\")\n",
    "print(f\"{t = }\")"
   ]
  },
  {
   "cell_type": "markdown",
   "id": "453d1308",
   "metadata": {
    "slideshow": {
     "slide_type": "subslide"
    }
   },
   "source": [
    "Tuples can be indexed the same way as lists:"
   ]
  },
  {
   "cell_type": "code",
   "execution_count": null,
   "id": "bfc9f790",
   "metadata": {},
   "outputs": [],
   "source": [
    "t[1], t[-1], t[:3]"
   ]
  },
  {
   "cell_type": "markdown",
   "id": "224dcdb3",
   "metadata": {},
   "source": [
    "Tuples with one element can be defined with:"
   ]
  },
  {
   "cell_type": "code",
   "execution_count": null,
   "id": "23371e65",
   "metadata": {},
   "outputs": [],
   "source": [
    "t = (2,)\n",
    "type(t), len(t)"
   ]
  },
  {
   "cell_type": "markdown",
   "id": "eac54764",
   "metadata": {
    "slideshow": {
     "slide_type": "subslide"
    }
   },
   "source": [
    "Tuples contain immutable references, however, the underlying objects may be mutable such as lists"
   ]
  },
  {
   "cell_type": "code",
   "execution_count": null,
   "id": "60d8984e",
   "metadata": {},
   "outputs": [],
   "source": [
    "t = ([1, 2, 3], \"foo\")\n",
    "# t[0]= \"bar\"  # raises TypeError"
   ]
  },
  {
   "cell_type": "code",
   "execution_count": null,
   "id": "3e5abb9a",
   "metadata": {
    "slideshow": {
     "slide_type": "subslide"
    }
   },
   "outputs": [],
   "source": [
    "t = ([1, 2, 3], \"foo\")\n",
    "\n",
    "# save the id of the first element of the tuple (the list)\n",
    "old_id = id(t[0])\n",
    "\n",
    "# change an element of the list (not the tuple!)\n",
    "t[0][1] = 11\n",
    "t[0].append(13)\n",
    "\n",
    "# did the id of the list change?\n",
    "print(id(t[0]) == old_id)\n",
    "t"
   ]
  },
  {
   "cell_type": "markdown",
   "id": "1a5b2a70",
   "metadata": {},
   "source": [
    "__Memory footprint__ of lists and tuples\n",
    "\n",
    "Note that [`sys.getsizeof`](https://docs.python.org/3/library/sys.html#sys.getsizeof) is only guaranteed to return the correct size for built-in types."
   ]
  },
  {
   "cell_type": "code",
   "execution_count": null,
   "id": "24269eed",
   "metadata": {},
   "outputs": [],
   "source": [
    "import sys\n",
    "\n",
    "print(sys.getsizeof(list(range(10000))))\n",
    "print(sys.getsizeof(tuple(range(10000))))\n",
    "sys.getsizeof((2, 3)), sys.getsizeof([2, 3])"
   ]
  },
  {
   "cell_type": "markdown",
   "id": "fbbcdaf1",
   "metadata": {},
   "source": [
    "Very large integers use more memory than small ones:"
   ]
  },
  {
   "cell_type": "code",
   "execution_count": null,
   "id": "781be634",
   "metadata": {},
   "outputs": [],
   "source": [
    "sys.getsizeof(2), sys.getsizeof(2**70)"
   ]
  },
  {
   "cell_type": "markdown",
   "id": "a6100e3a",
   "metadata": {
    "slideshow": {
     "slide_type": "subslide"
    }
   },
   "source": [
    "# Strings\n",
    "\n",
    "- Strings are **immutable** sequences of Unicode code points\n",
    "- These code points range from 0 to 0x10FFF\n",
    "- No separate character type. Some functions can only be used on characters a.k.a strings of length 1\n",
    "- Strings can be constructed in various ways"
   ]
  },
  {
   "cell_type": "code",
   "execution_count": null,
   "id": "1b449cce",
   "metadata": {},
   "outputs": [],
   "source": [
    "single = 'ab\\'c'\n",
    "double = \"ab\\\"c\"\n",
    "print(single, double)\n",
    "multiline = \"\"\"\n",
    "sdfajfklasj;\n",
    "sdfsdfs\n",
    "sdfsdf\n",
    "\"\"\"\n",
    "single == double"
   ]
  },
  {
   "cell_type": "markdown",
   "id": "e4c8bd26",
   "metadata": {},
   "source": [
    "Newlines in multiline strings are kept:"
   ]
  },
  {
   "cell_type": "code",
   "execution_count": null,
   "id": "55d3a191",
   "metadata": {},
   "outputs": [],
   "source": [
    "print(multiline)"
   ]
  },
  {
   "cell_type": "markdown",
   "id": "f6ee3017",
   "metadata": {
    "slideshow": {
     "slide_type": "subslide"
    }
   },
   "source": [
    "Immutability makes it impossible to change a string (unlike C-style string or C++'s `std::string`)"
   ]
  },
  {
   "cell_type": "code",
   "execution_count": null,
   "id": "c61f762d",
   "metadata": {},
   "outputs": [],
   "source": [
    "s = \"abc\"\n",
    "\n",
    "# s[1] = \"c\"  # TypeError"
   ]
  },
  {
   "cell_type": "markdown",
   "id": "d6fa6a20",
   "metadata": {
    "slideshow": {
     "slide_type": "subslide"
    }
   },
   "source": [
    "All string operations create new objects:"
   ]
  },
  {
   "cell_type": "code",
   "execution_count": null,
   "id": "e2cda403",
   "metadata": {},
   "outputs": [],
   "source": [
    "s = \"abc\"\n",
    "old_id = id(s)\n",
    "s += \"def\"\n",
    "id(s) == old_id"
   ]
  },
  {
   "cell_type": "markdown",
   "id": "e3a17cfa",
   "metadata": {},
   "source": [
    "Strings support most operations available for lists such as __advanced indexing__:"
   ]
  },
  {
   "cell_type": "code",
   "execution_count": null,
   "id": "ef1658c2",
   "metadata": {},
   "outputs": [],
   "source": [
    "s = \"abcdefghijkl\"\n",
    "s[::2]"
   ]
  },
  {
   "cell_type": "markdown",
   "id": "b41233f8",
   "metadata": {
    "slideshow": {
     "slide_type": "slide"
    }
   },
   "source": [
    "## String operations\n",
    "\n",
    "Large variety of basic string manipulation: lower, upper, title"
   ]
  },
  {
   "cell_type": "code",
   "execution_count": null,
   "id": "ca49b471",
   "metadata": {
    "slideshow": {
     "slide_type": "subslide"
    }
   },
   "outputs": [],
   "source": [
    "\"abC\".upper(), \"ABC\".lower(), \"abc def\".title()"
   ]
  },
  {
   "cell_type": "markdown",
   "id": "f91c4f6a",
   "metadata": {},
   "source": [
    "Concatenation with `+`:"
   ]
  },
  {
   "cell_type": "code",
   "execution_count": null,
   "id": "dd864eb4",
   "metadata": {},
   "outputs": [],
   "source": [
    "s = \"\\tabc  \\n\"\n",
    "print(\"<START>\" + s + \"<STOP>\")"
   ]
  },
  {
   "cell_type": "code",
   "execution_count": null,
   "id": "9fba1129",
   "metadata": {
    "slideshow": {
     "slide_type": "subslide"
    }
   },
   "outputs": [],
   "source": [
    "s = \"\\tabc  \\n\"\n",
    "s.strip()"
   ]
  },
  {
   "cell_type": "code",
   "execution_count": null,
   "id": "2aee8599",
   "metadata": {},
   "outputs": [],
   "source": [
    "s.rstrip()"
   ]
  },
  {
   "cell_type": "code",
   "execution_count": null,
   "id": "c0636de3",
   "metadata": {},
   "outputs": [],
   "source": [
    "s.lstrip()"
   ]
  },
  {
   "cell_type": "code",
   "execution_count": null,
   "id": "15ed08e0",
   "metadata": {},
   "outputs": [],
   "source": [
    "\"abca\".strip(\"ba\")"
   ]
  },
  {
   "cell_type": "markdown",
   "id": "1212d3ab",
   "metadata": {
    "slideshow": {
     "slide_type": "subslide"
    }
   },
   "source": [
    "since each function returns a new string, they can be chained after another"
   ]
  },
  {
   "cell_type": "code",
   "execution_count": null,
   "id": "c219584d",
   "metadata": {},
   "outputs": [],
   "source": [
    "\" abcd abc\".strip().rstrip(\"c\").lstrip(\"ab\")"
   ]
  },
  {
   "cell_type": "markdown",
   "id": "6baad3f9",
   "metadata": {
    "slideshow": {
     "slide_type": "subslide"
    }
   },
   "source": [
    "__Binary predicates (i.e. yes-no questions)__"
   ]
  },
  {
   "cell_type": "code",
   "execution_count": null,
   "id": "93899875",
   "metadata": {},
   "outputs": [],
   "source": [
    "\"abc\".startswith(\"ab\"), \"abc\".endswith(\"cd\")  # \"abc\"[:2] == \"ab\""
   ]
  },
  {
   "cell_type": "markdown",
   "id": "5d068f64",
   "metadata": {},
   "source": [
    "`startswith` and `endswith` are in theory faster and more idiomatic than comparing with a substring:"
   ]
  },
  {
   "cell_type": "code",
   "execution_count": null,
   "id": "1abce355",
   "metadata": {},
   "outputs": [],
   "source": [
    "%%timeit -n 1000\n",
    "\n",
    "\"abcsdfsfsdfadadasdasdasfasdasdfadsfaf\"[:2] == \"absdfsfsfsd\""
   ]
  },
  {
   "cell_type": "code",
   "execution_count": null,
   "id": "49af004b",
   "metadata": {},
   "outputs": [],
   "source": [
    "%%timeit -n 1000\n",
    "\n",
    "\"abcsdfsfsdfadadasdasdasfasdasdfadsfaf\".startswith(\"absdfsdfsf\")"
   ]
  },
  {
   "cell_type": "code",
   "execution_count": null,
   "id": "26a7456a",
   "metadata": {},
   "outputs": [],
   "source": [
    "\"abc\".istitle(), \"Abc\".istitle()"
   ]
  },
  {
   "cell_type": "code",
   "execution_count": null,
   "id": "4bb5a3e5",
   "metadata": {
    "slideshow": {
     "slide_type": "subslide"
    }
   },
   "outputs": [],
   "source": [
    "\"  \\t\\n\".isspace()"
   ]
  },
  {
   "cell_type": "code",
   "execution_count": null,
   "id": "4e70016c",
   "metadata": {},
   "outputs": [],
   "source": [
    "\"989\".isdigit(), \"1.5\".isdigit()"
   ]
  },
  {
   "cell_type": "markdown",
   "id": "ed6589ab",
   "metadata": {
    "slideshow": {
     "slide_type": "subslide"
    }
   },
   "source": [
    "__`split`__"
   ]
  },
  {
   "cell_type": "code",
   "execution_count": null,
   "id": "d32ec2d7",
   "metadata": {},
   "outputs": [],
   "source": [
    "s = \"the quick brown fox jumps over the lazy dog\"\n",
    "words = s.split()\n",
    "words"
   ]
  },
  {
   "cell_type": "code",
   "execution_count": null,
   "id": "853bf89f",
   "metadata": {},
   "outputs": [],
   "source": [
    "s = \"R.E.M.\"\n",
    "s.split(\".\")"
   ]
  },
  {
   "cell_type": "markdown",
   "id": "273964fc",
   "metadata": {},
   "source": [
    "__`maxsplit` and `partition`__"
   ]
  },
  {
   "cell_type": "code",
   "execution_count": null,
   "id": "ba41ee8f",
   "metadata": {},
   "outputs": [],
   "source": [
    "config = \"name=namewith=sign\"\n",
    "\n",
    "config.split(\"=\", maxsplit=1)"
   ]
  },
  {
   "cell_type": "code",
   "execution_count": null,
   "id": "c360a710",
   "metadata": {},
   "outputs": [],
   "source": [
    "\"name=namewith=sign\".partition(\"=\")"
   ]
  },
  {
   "cell_type": "code",
   "execution_count": null,
   "id": "c28233bd",
   "metadata": {},
   "outputs": [],
   "source": [
    "\"batch_size: 12\".partition(\":\")"
   ]
  },
  {
   "cell_type": "markdown",
   "id": "634805bd",
   "metadata": {},
   "source": [
    "__`join`__"
   ]
  },
  {
   "cell_type": "code",
   "execution_count": null,
   "id": "1a6a6ac8",
   "metadata": {
    "slideshow": {
     "slide_type": "subslide"
    }
   },
   "outputs": [],
   "source": [
    "\"-\".join(words)"
   ]
  },
  {
   "cell_type": "markdown",
   "id": "a5a2da52",
   "metadata": {},
   "source": [
    "use explicit token separators"
   ]
  },
  {
   "cell_type": "code",
   "execution_count": null,
   "id": "cc1d6c32",
   "metadata": {},
   "outputs": [],
   "source": [
    "\" <W> \".join(words)"
   ]
  },
  {
   "cell_type": "code",
   "execution_count": null,
   "id": "9e3cad54",
   "metadata": {},
   "outputs": [],
   "source": [
    "print(\"\\n\".join(words))"
   ]
  },
  {
   "cell_type": "markdown",
   "id": "c63b609f",
   "metadata": {
    "slideshow": {
     "slide_type": "slide"
    }
   },
   "source": [
    "## String formatting\n",
    "\n",
    "Python features several string formatting options."
   ]
  },
  {
   "cell_type": "markdown",
   "id": "ac0bfedd",
   "metadata": {
    "slideshow": {
     "slide_type": "subslide"
    }
   },
   "source": [
    "__f-strings or string interpolation__\n",
    "\n",
    "This is the current **recommended** way.\n",
    "\n",
    "f-strings were added in Python 3.6 in [PEP498](https://www.python.org/dev/peps/pep-0498/)"
   ]
  },
  {
   "cell_type": "code",
   "execution_count": null,
   "id": "540fc860",
   "metadata": {},
   "outputs": [],
   "source": [
    "name = \"John\"\n",
    "age = 42\n",
    "\n",
    "print(f\"My name is {name} and I'm {age} years old\")"
   ]
  },
  {
   "cell_type": "markdown",
   "id": "4222e7e4",
   "metadata": {},
   "source": [
    "Not just variables, any expressions can be evaluated in f-strings:"
   ]
  },
  {
   "cell_type": "code",
   "execution_count": null,
   "id": "df7afc4f",
   "metadata": {},
   "outputs": [],
   "source": [
    "s = \"abc\"\n",
    "f\"Length of string: {len(s)}, contents: {s}\""
   ]
  },
  {
   "cell_type": "markdown",
   "id": "a4260282",
   "metadata": {},
   "source": [
    "But you shouldn't go overboard, it hurts readability:"
   ]
  },
  {
   "cell_type": "code",
   "execution_count": null,
   "id": "44d6d3df",
   "metadata": {},
   "outputs": [],
   "source": [
    "s = \"\\t\\nABC with whitespaces   ===\"\n",
    "f\"Cleaned string: {s.rstrip('=').strip().lower()}\""
   ]
  },
  {
   "cell_type": "markdown",
   "id": "2d8ab415",
   "metadata": {},
   "source": [
    "it's better to do this in 2 steps:"
   ]
  },
  {
   "cell_type": "code",
   "execution_count": null,
   "id": "38471e76",
   "metadata": {},
   "outputs": [],
   "source": [
    "s = \"\\t\\nABC with whitespaces   ===\"\n",
    "s_cleaned = s.rstrip('=').strip().lower()\n",
    "f\"Cleaned string: {s_cleaned}\""
   ]
  },
  {
   "cell_type": "markdown",
   "id": "4344975c",
   "metadata": {},
   "source": [
    "Self-documenting support was added in Python 3.8:"
   ]
  },
  {
   "cell_type": "code",
   "execution_count": null,
   "id": "352e79b8",
   "metadata": {},
   "outputs": [],
   "source": [
    "s1 = \"abc\"\n",
    "s2 = \"aBc\"\n",
    "\n",
    "print(f\"{s1 = }\")\n",
    "print(f\"{s2 = }\")\n",
    "print(f\"{(s1 == s2) = }\")\n",
    "print(f\"{(s1.lower() == s2.lower()) = }\")"
   ]
  },
  {
   "cell_type": "markdown",
   "id": "21af68b9",
   "metadata": {
    "slideshow": {
     "slide_type": "subslide"
    }
   },
   "source": [
    "__`str.format`__\n",
    "\n",
    "- non-str objects are automatically cast to str\n",
    "  - under the hood: the object's `__format__` method is called if it exists, otherwise its `__str__` is called"
   ]
  },
  {
   "cell_type": "code",
   "execution_count": null,
   "id": "e529e727",
   "metadata": {},
   "outputs": [],
   "source": [
    "name = \"John\"\n",
    "age = 25\n",
    "\n",
    "print(\"My name is {0} and I'm {1} years old. I turned {1} last December\".format(name, age))\n",
    "\n",
    "print(\"My name is {} and I'm {} years old.\".format(name, age))\n",
    "# print(\"My name is {} and I'm {} years old. I turned {} last December\".format(name, age))  # raises IndexError\n",
    "print(\"My name is {name} and I'm {age} years old. I turned {age} last December\".format(name=name, age=age))"
   ]
  },
  {
   "cell_type": "markdown",
   "id": "7ad29e01",
   "metadata": {
    "slideshow": {
     "slide_type": "skip"
    }
   },
   "source": [
    "[Format specification mini language](https://docs.python.org/3/library/string.html#formatspec)"
   ]
  },
  {
   "cell_type": "markdown",
   "id": "5a9d7ddd",
   "metadata": {
    "slideshow": {
     "slide_type": "subslide"
    }
   },
   "source": [
    "__% operator__\n",
    "\n",
    "- an old but still somewhat popular way of formatting strings\n",
    "- note that the arguments need to be parenthesized (make it a tuple)"
   ]
  },
  {
   "cell_type": "code",
   "execution_count": null,
   "id": "50ed1d7f",
   "metadata": {},
   "outputs": [],
   "source": [
    "print(\"My name is %s and I'm %d years old\" % (name, age))"
   ]
  },
  {
   "cell_type": "markdown",
   "id": "a42b11b0",
   "metadata": {
    "slideshow": {
     "slide_type": "subslide"
    }
   },
   "source": [
    "# dictionary\n",
    "\n",
    "Basic and only built-in map type that maps keys to values.\n",
    "\n",
    "Dictionaries can be defined in a number of ways:"
   ]
  },
  {
   "cell_type": "code",
   "execution_count": null,
   "id": "729c6045",
   "metadata": {},
   "outputs": [],
   "source": [
    "d = {}  # empty dictionary  same as d = dict()\n",
    "d[\"apple\"] = 12\n",
    "d[\"plum\"] = 2\n",
    "d"
   ]
  },
  {
   "cell_type": "markdown",
   "id": "15dea2ab",
   "metadata": {},
   "source": [
    "Equivalent to:"
   ]
  },
  {
   "cell_type": "code",
   "execution_count": null,
   "id": "09229b11",
   "metadata": {},
   "outputs": [],
   "source": [
    "d = {\"apple\": 12, \"plum\": 2}\n",
    "d"
   ]
  },
  {
   "cell_type": "markdown",
   "id": "f20be9d3",
   "metadata": {},
   "source": [
    "Or:"
   ]
  },
  {
   "cell_type": "code",
   "execution_count": null,
   "id": "050a6c61",
   "metadata": {},
   "outputs": [],
   "source": [
    "d = dict(apple=12, plum=2)\n",
    "d"
   ]
  },
  {
   "cell_type": "markdown",
   "id": "54ae4d9f",
   "metadata": {
    "slideshow": {
     "slide_type": "subslide"
    }
   },
   "source": [
    "__removing keys__"
   ]
  },
  {
   "cell_type": "code",
   "execution_count": null,
   "id": "d1e2ebaf",
   "metadata": {},
   "outputs": [],
   "source": [
    "del d[\"apple\"]\n",
    "d"
   ]
  },
  {
   "cell_type": "markdown",
   "id": "8241b4d7",
   "metadata": {
    "slideshow": {
     "slide_type": "subslide"
    }
   },
   "source": [
    "__Iterating dictionaries__\n",
    "\n",
    "Keys and values can be iterated separately or together.\n",
    "\n",
    "Iterating keys:"
   ]
  },
  {
   "cell_type": "code",
   "execution_count": null,
   "id": "d419a1c9",
   "metadata": {},
   "outputs": [],
   "source": [
    "d = {\"apple\": 12, \"plum\": 2}\n",
    "for key in d.keys():  # same as for key in d:\n",
    "    print(key, d[key])"
   ]
  },
  {
   "cell_type": "markdown",
   "id": "8f29e020",
   "metadata": {
    "slideshow": {
     "slide_type": "fragment"
    }
   },
   "source": [
    "Iterating values:"
   ]
  },
  {
   "cell_type": "code",
   "execution_count": null,
   "id": "969fbba9",
   "metadata": {},
   "outputs": [],
   "source": [
    "for value in d.values():\n",
    "    print(value)"
   ]
  },
  {
   "cell_type": "markdown",
   "id": "d6ec67e4",
   "metadata": {
    "slideshow": {
     "slide_type": "subslide"
    }
   },
   "source": [
    "Iterating both:"
   ]
  },
  {
   "cell_type": "code",
   "execution_count": null,
   "id": "0126f29b",
   "metadata": {},
   "outputs": [],
   "source": [
    "for key, value in d.items():\n",
    "    print(key, value)"
   ]
  },
  {
   "cell_type": "code",
   "execution_count": null,
   "id": "b5fdf11d",
   "metadata": {},
   "outputs": [],
   "source": [
    "for pair in d.items():\n",
    "    print(type(pair), pair)"
   ]
  },
  {
   "cell_type": "markdown",
   "id": "cf92e3d7",
   "metadata": {
    "slideshow": {
     "slide_type": "subslide"
    }
   },
   "source": [
    "__Under the hood__\n",
    "\n",
    "Dictionaries are hash tables (same as C++'s `std::unordered_map`).\n",
    "- Constraints on key values: they must be hashable i.e. they cannot be or contain mutable objects\n",
    "- Keys can be mixed type."
   ]
  },
  {
   "cell_type": "code",
   "execution_count": null,
   "id": "31a0468b",
   "metadata": {},
   "outputs": [],
   "source": [
    "d = {}\n",
    "d[1] = \"a\"  # numeric types are immutable\n",
    "d[3+2j] = \"b\"\n",
    "d[\"cde\"] = 1.0\n",
    "d"
   ]
  },
  {
   "cell_type": "markdown",
   "id": "48b7143a",
   "metadata": {
    "slideshow": {
     "slide_type": "subslide"
    }
   },
   "source": [
    "- tuples are immutable too"
   ]
  },
  {
   "cell_type": "code",
   "execution_count": null,
   "id": "ac1364aa",
   "metadata": {},
   "outputs": [],
   "source": [
    "d[(\"apple\", 1)] = -2\n",
    "d"
   ]
  },
  {
   "cell_type": "markdown",
   "id": "016ffd09",
   "metadata": {
    "slideshow": {
     "slide_type": "subslide"
    }
   },
   "source": [
    "- however lists are not"
   ]
  },
  {
   "cell_type": "code",
   "execution_count": null,
   "id": "221bc64f",
   "metadata": {},
   "outputs": [],
   "source": [
    "# d[[\"apple\", 1]] = 12  # raises TypeError"
   ]
  },
  {
   "cell_type": "markdown",
   "id": "cbd55d16",
   "metadata": {
    "slideshow": {
     "slide_type": "skip"
    }
   },
   "source": [
    "__Q. Can these be dictionary keys?__\n",
    "\n",
    "Complex keys like these are **not recommeneded**"
   ]
  },
  {
   "cell_type": "code",
   "execution_count": null,
   "id": "202a80dd",
   "metadata": {
    "slideshow": {
     "slide_type": "skip"
    }
   },
   "outputs": [],
   "source": [
    "key1 = (2, (3, 4))\n",
    "key2 = (2, [], (3, 4))\n",
    "\n",
    "d = {}\n",
    "d[key1] = 1\n",
    "d[key2] = 2\n",
    "d"
   ]
  },
  {
   "cell_type": "markdown",
   "id": "60d364dd",
   "metadata": {},
   "source": [
    "__Dictionaries preserve insertion order__"
   ]
  },
  {
   "cell_type": "code",
   "execution_count": null,
   "id": "4be37e09",
   "metadata": {},
   "outputs": [],
   "source": [
    "d1 = {}\n",
    "d1['apple'] = 12\n",
    "d1['plum'] = 3\n",
    "for key, value in d1.items():\n",
    "    print(key, value)"
   ]
  },
  {
   "cell_type": "code",
   "execution_count": null,
   "id": "70e9f184",
   "metadata": {},
   "outputs": [],
   "source": [
    "d2 = {}\n",
    "d2['plum'] = 3\n",
    "d2['apple'] = 12\n",
    "for key, value in d2.items():\n",
    "    print(key, value)"
   ]
  },
  {
   "cell_type": "markdown",
   "id": "b257beaf",
   "metadata": {},
   "source": [
    "Regardless of insertion order `d1` and `d2` are different objects with the same content:"
   ]
  },
  {
   "cell_type": "code",
   "execution_count": null,
   "id": "77d5ddd9",
   "metadata": {},
   "outputs": [],
   "source": [
    "d1 == d2, d1 is d2"
   ]
  },
  {
   "cell_type": "markdown",
   "id": "34cb1f00",
   "metadata": {
    "slideshow": {
     "slide_type": "subslide"
    }
   },
   "source": [
    "# set\n",
    "\n",
    "- Collection of unique, hashable elements\n",
    "- Implements basic set operations (intersection, union, difference)\n",
    "- Sets are mutable"
   ]
  },
  {
   "cell_type": "code",
   "execution_count": null,
   "id": "ed403df6",
   "metadata": {},
   "outputs": [],
   "source": [
    "s = set()\n",
    "s.add(2)\n",
    "s.add(3)\n",
    "s.add(2)\n",
    "# s = {2, 3, 2}\n",
    "s"
   ]
  },
  {
   "cell_type": "code",
   "execution_count": null,
   "id": "0ad26655",
   "metadata": {},
   "outputs": [],
   "source": [
    "s = {2, 3, 2}  # d = {'a': 2}\n",
    "type(s), s"
   ]
  },
  {
   "cell_type": "code",
   "execution_count": null,
   "id": "e6c211a5",
   "metadata": {},
   "outputs": [],
   "source": [
    "# s = {[1, 2], 2, 3}"
   ]
  },
  {
   "cell_type": "code",
   "execution_count": null,
   "id": "066aed12",
   "metadata": {},
   "outputs": [],
   "source": [
    "s = {2, 3}\n",
    "old_id = id(s)\n",
    "s.add(10)\n",
    "s, old_id == id(s)"
   ]
  },
  {
   "cell_type": "markdown",
   "id": "03935c4f",
   "metadata": {
    "slideshow": {
     "slide_type": "subslide"
    }
   },
   "source": [
    "__Deleting elements__"
   ]
  },
  {
   "cell_type": "code",
   "execution_count": null,
   "id": "b81ed72a",
   "metadata": {},
   "outputs": [],
   "source": [
    "s.add(2)\n",
    "s.remove(2)\n",
    "# s.remove(2)  # raises KeyError, since we already removed this element\n",
    "s.discard(2)  # removes if present, does not raise exception"
   ]
  },
  {
   "cell_type": "markdown",
   "id": "f5f1c9bd",
   "metadata": {
    "slideshow": {
     "slide_type": "subslide"
    }
   },
   "source": [
    "## frozenset\n",
    "\n",
    "Immutable counterpart of set. Rarely used."
   ]
  },
  {
   "cell_type": "code",
   "execution_count": null,
   "id": "7a039462",
   "metadata": {},
   "outputs": [],
   "source": [
    "fs = frozenset([1, 2])\n",
    "# fs.add(2)  # raises AttributeError"
   ]
  },
  {
   "cell_type": "code",
   "execution_count": null,
   "id": "422e6931",
   "metadata": {},
   "outputs": [],
   "source": [
    "fs = frozenset([1, 2])\n",
    "s = {1, 2}\n",
    "\n",
    "d = dict()\n",
    "d[fs] = 1\n",
    "# d[s] = 2  # raises TypeError\n",
    "d"
   ]
  },
  {
   "cell_type": "markdown",
   "id": "9f9ffaf3",
   "metadata": {
    "slideshow": {
     "slide_type": "subslide"
    }
   },
   "source": [
    "## set operations\n",
    "\n",
    "- implemented as\n",
    "  1. methods\n",
    "  2. overloaded operators"
   ]
  },
  {
   "cell_type": "code",
   "execution_count": null,
   "id": "7ad3d394",
   "metadata": {},
   "outputs": [],
   "source": [
    "s1 = {1, 2, 3, 4, 5}\n",
    "s2 = {2, 5, 6, 7}\n",
    "\n",
    "s1 & s2  # s1.intersection(s2) or s2.intersection(s1)"
   ]
  },
  {
   "cell_type": "code",
   "execution_count": null,
   "id": "fe344713",
   "metadata": {},
   "outputs": [],
   "source": [
    "s1 | s2  # s1.union(s2) OR s2.union(s1)"
   ]
  },
  {
   "cell_type": "code",
   "execution_count": null,
   "id": "4e67d270",
   "metadata": {},
   "outputs": [],
   "source": [
    "s1 - s2, s2 - s1  # s1.difference(s2), s2.difference(s1)"
   ]
  },
  {
   "cell_type": "markdown",
   "id": "4501973a",
   "metadata": {
    "slideshow": {
     "slide_type": "subslide"
    }
   },
   "source": [
    "These operations return new sets"
   ]
  },
  {
   "cell_type": "code",
   "execution_count": null,
   "id": "d7c45072",
   "metadata": {},
   "outputs": [],
   "source": [
    "s3 = s1 & s2\n",
    "type(s3), s3 is s1, s3 is s2"
   ]
  },
  {
   "cell_type": "markdown",
   "id": "96d193c7",
   "metadata": {},
   "source": [
    "Subset testing return a boolean"
   ]
  },
  {
   "cell_type": "code",
   "execution_count": null,
   "id": "099f701e",
   "metadata": {},
   "outputs": [],
   "source": [
    "s1 < (s2 | s1)  # s1.issubset(s2) OR s2.issuperset(s1)"
   ]
  },
  {
   "cell_type": "markdown",
   "id": "f6fd00c3",
   "metadata": {
    "slideshow": {
     "slide_type": "subslide"
    }
   },
   "source": [
    "## Useful set properties\n",
    "\n",
    "Creating a set is a convenient way of getting the unique elements of a sequence"
   ]
  },
  {
   "cell_type": "code",
   "execution_count": null,
   "id": "b994520e",
   "metadata": {},
   "outputs": [],
   "source": [
    "l = [1, 2, 3, -1, 1, 2, 1, 0]\n",
    "uniq = set(l)\n",
    "uniq"
   ]
  },
  {
   "cell_type": "markdown",
   "id": "ca7b1dbd",
   "metadata": {},
   "source": [
    "## Under the hood\n",
    "\n",
    "- sets and dictionaries provide O(1) lookup\n",
    "- in contrast lists provide O(n) lookup"
   ]
  },
  {
   "cell_type": "code",
   "execution_count": null,
   "id": "59b45db5",
   "metadata": {},
   "outputs": [],
   "source": [
    "import random\n",
    "\n",
    "# let's define our alphabet\n",
    "letters = \"abcdef\"\n",
    "# we generate string of length 1 to 5\n",
    "word_len = [1, 2, 3, 4, 5]\n",
    "# we generate 10000 examples\n",
    "N = 10000\n",
    "samples = []\n",
    "\n",
    "for i in range(N):\n",
    "    word = []\n",
    "    # sample a word length\n",
    "    this_len = random.choice(word_len)\n",
    "    for j in range(this_len):\n",
    "        # sample a character from the alphabet and add it to the 'word'\n",
    "        word.append(random.choice(letters))\n",
    "    samples.append(\"\".join(word))\n",
    "    \n",
    "samples = list(set(samples))"
   ]
  },
  {
   "cell_type": "code",
   "execution_count": null,
   "id": "d24de23f",
   "metadata": {},
   "outputs": [],
   "source": [
    "len(samples)"
   ]
  },
  {
   "cell_type": "markdown",
   "id": "ea39c52d",
   "metadata": {},
   "source": [
    "__list lookup__"
   ]
  },
  {
   "cell_type": "code",
   "execution_count": null,
   "id": "565c2082",
   "metadata": {},
   "outputs": [],
   "source": [
    "%%timeit\n",
    "\n",
    "word = []\n",
    "for j in range(random.choice(word_len)):\n",
    "    word.append(random.choice(letters))\n",
    "word = \"\".join(word)\n",
    "\n",
    "word in samples"
   ]
  },
  {
   "cell_type": "markdown",
   "id": "9b643535",
   "metadata": {},
   "source": [
    "__set lookup__"
   ]
  },
  {
   "cell_type": "code",
   "execution_count": null,
   "id": "0e9ad0ab",
   "metadata": {},
   "outputs": [],
   "source": [
    "samples_set = set(samples)\n",
    "len(samples_set), len(samples)"
   ]
  },
  {
   "cell_type": "code",
   "execution_count": null,
   "id": "50036f16",
   "metadata": {},
   "outputs": [],
   "source": [
    "%%timeit\n",
    "\n",
    "word = []\n",
    "for j in range(random.choice(word_len)):\n",
    "    word.append(random.choice(letters))\n",
    "word = \"\".join(word)\n",
    "\n",
    "word in samples_set"
   ]
  },
  {
   "cell_type": "markdown",
   "id": "21269971",
   "metadata": {
    "slideshow": {
     "slide_type": "slide"
    }
   },
   "source": [
    "# Miscellaneous"
   ]
  },
  {
   "cell_type": "markdown",
   "id": "10fe50e6",
   "metadata": {},
   "source": [
    "## Variable number of function arguments\n",
    "\n",
    "__`args` and `kwargs`__\n",
    "\n",
    "- both positional and keyword arguments can be captured in arbitrary numbers using the `*` and `**` operators\n",
    "- positional arguments are captured in a tuple"
   ]
  },
  {
   "cell_type": "code",
   "execution_count": null,
   "id": "5f01495f",
   "metadata": {},
   "outputs": [],
   "source": [
    "def arbitrary_positional_f(*args):\n",
    "    print(type(args), len(args))\n",
    "    for arg in args:\n",
    "        print(arg)\n",
    "        \n",
    "arbitrary_positional_f(1, 2, -1, \"aaa\", \"444\")\n",
    "arbitrary_positional_f()\n",
    "arbitrary_positional_f(1, 2, arg=-1)  # raises TypeError"
   ]
  },
  {
   "cell_type": "markdown",
   "id": "bc3eb756",
   "metadata": {},
   "source": [
    "Keyword arguments are captured in a dictionary:"
   ]
  },
  {
   "cell_type": "code",
   "execution_count": null,
   "id": "2aaece96",
   "metadata": {},
   "outputs": [],
   "source": [
    "def arbitrary_keyword_f(**kwargs):\n",
    "    print(type(kwargs), len(kwargs))\n",
    "    for argname, value in kwargs.items():\n",
    "        print(argname, value)\n",
    "        \n",
    "arbitrary_keyword_f(arg1=1, arg2=12)\n",
    "arbitrary_keyword_f(12, arg=12)  # TypeError"
   ]
  },
  {
   "cell_type": "markdown",
   "id": "52eb4fbf",
   "metadata": {},
   "source": [
    "We usually capture both:"
   ]
  },
  {
   "cell_type": "code",
   "execution_count": null,
   "id": "cbdd5df6",
   "metadata": {},
   "outputs": [],
   "source": [
    "def arbitrary_arg_f(*args, **kwargs):\n",
    "    if args:\n",
    "        print(\"Positional arguments\")\n",
    "        for arg in args:\n",
    "            print(arg)\n",
    "    else:\n",
    "        print(\"No positional arguments\")\n",
    "        \n",
    "    if kwargs:\n",
    "        print(\"Keyword arguments\")\n",
    "        for argname, value in kwargs.items():\n",
    "            print(argname, value)\n",
    "    else:\n",
    "        print(\"No keyword arguments\")\n",
    "print(\"Empty argument list\")        \n",
    "arbitrary_arg_f()\n",
    "print(\"\\n\\nNon-Empty argument list\")        \n",
    "arbitrary_arg_f(12, -2, param1=\"foo\")"
   ]
  },
  {
   "cell_type": "markdown",
   "id": "fe76a12a",
   "metadata": {
    "slideshow": {
     "slide_type": "subslide"
    }
   },
   "source": [
    "## Lambda expressions\n",
    "\n",
    "- Unnamed functions\n",
    "- May take parameters\n",
    "- Can access local scope"
   ]
  },
  {
   "cell_type": "code",
   "execution_count": null,
   "id": "dda01501",
   "metadata": {},
   "outputs": [],
   "source": [
    "words = [\"Plum\", \"pear\", \"Apple\", \"peach\"]\n",
    "sorted(words)"
   ]
  },
  {
   "cell_type": "markdown",
   "id": "5ccf0652",
   "metadata": {},
   "source": [
    "Let's sort this in a case insensitive way:"
   ]
  },
  {
   "cell_type": "code",
   "execution_count": null,
   "id": "9fea9e46",
   "metadata": {},
   "outputs": [],
   "source": [
    "def foo(w):\n",
    "    return w.lower()\n",
    "\n",
    "sorted(words, key=foo)\n",
    "sorted(words, key=lambda w: w.lower())"
   ]
  },
  {
   "cell_type": "code",
   "execution_count": null,
   "id": "e7bfae6e",
   "metadata": {},
   "outputs": [],
   "source": [
    "sorted([1, -1, 0, 4, -5], key=abs)"
   ]
  },
  {
   "cell_type": "markdown",
   "id": "21c97824",
   "metadata": {},
   "source": [
    "Let's sort them by word length AND alphabetically (case insensitive).\n",
    "\n",
    "We use the fact that tuples are compared elementwise:"
   ]
  },
  {
   "cell_type": "code",
   "execution_count": null,
   "id": "9cf030cb",
   "metadata": {},
   "outputs": [],
   "source": [
    "(2, \"b\") < (3, \"a\")"
   ]
  },
  {
   "cell_type": "code",
   "execution_count": null,
   "id": "02f771d0",
   "metadata": {},
   "outputs": [],
   "source": [
    "(2, \"b\") < (2, \"a\", \"a\")"
   ]
  },
  {
   "cell_type": "markdown",
   "id": "eb9d77bd",
   "metadata": {},
   "source": [
    "We need two keys: the lengths and the lowercase word form:"
   ]
  },
  {
   "cell_type": "code",
   "execution_count": null,
   "id": "0382180e",
   "metadata": {},
   "outputs": [],
   "source": [
    "sorted(words, key=lambda w: (len(w), w.lower()))"
   ]
  },
  {
   "cell_type": "markdown",
   "id": "02813c8b",
   "metadata": {},
   "source": [
    "# Type hints\n",
    "\n",
    "Introduced in Python 3.5 in 2014, type hints are _optional_ type annotations mainly used for function arguments."
   ]
  },
  {
   "cell_type": "code",
   "execution_count": null,
   "id": "e7750826",
   "metadata": {},
   "outputs": [],
   "source": [
    "def create_introduction(name: str, age: int) -> str:\n",
    "    return f\"Hello, my name is {name} and I'm {age} years old.\"\n",
    "\n",
    "create_introduction(\"John\", 22)"
   ]
  },
  {
   "cell_type": "markdown",
   "id": "69010acc",
   "metadata": {},
   "source": [
    "Type hints **do not** provide runtime checking:"
   ]
  },
  {
   "cell_type": "code",
   "execution_count": null,
   "id": "05960248",
   "metadata": {},
   "outputs": [],
   "source": [
    "create_introduction(\"John\", \"Peter\")"
   ]
  },
  {
   "cell_type": "markdown",
   "id": "b6d8bea6",
   "metadata": {},
   "source": [
    "There is some support for static type checking in notebooks but type hints shine in modules.\n",
    "\n",
    "DEMO."
   ]
  },
  {
   "cell_type": "markdown",
   "id": "fd3758f8",
   "metadata": {
    "slideshow": {
     "slide_type": "slide"
    }
   },
   "source": [
    "# Zen of Python"
   ]
  },
  {
   "cell_type": "code",
   "execution_count": null,
   "id": "3c9e6231",
   "metadata": {},
   "outputs": [],
   "source": [
    "import this"
   ]
  },
  {
   "cell_type": "markdown",
   "id": "ed12ff37",
   "metadata": {
    "collapsed": true,
    "slideshow": {
     "slide_type": "skip"
    }
   },
   "source": [
    "# Suggested reading\n",
    "\n",
    "- [A4 page printable PEP8 cheat sheet](https://www.kbsoftware.co.uk/docs/_downloads/pep8_cheat.pdf)\n",
    "- [Introduction to character encodings](https://www.joelonsoftware.com/2003/10/08/the-absolute-minimum-every-software-developer-absolutely-positively-must-know-about-unicode-and-character-sets-no-excuses/) by Joel Spolsky, co-founder of Stack Overflow\n",
    "- [Time complexity of various operations under CPython](https://wiki.python.org/moin/TimeComplexity)\n",
    "- [String formatting mini language](https://docs.python.org/3/library/string.html#formatspec)\n",
    "\n",
    "# Reference\n",
    "\n",
    "- [Official documentation of built-in types](https://docs.python.org/3/library/stdtypes.html)"
   ]
  },
  {
   "cell_type": "code",
   "execution_count": null,
   "id": "81a3e509",
   "metadata": {
    "slideshow": {
     "slide_type": "skip"
    }
   },
   "outputs": [],
   "source": []
  }
 ],
 "metadata": {
  "kernelspec": {
   "display_name": "Python 3 (ipykernel)",
   "language": "python",
   "name": "python3"
  },
  "language_info": {
   "codemirror_mode": {
    "name": "ipython",
    "version": 3
   },
   "file_extension": ".py",
   "mimetype": "text/x-python",
   "name": "python",
   "nbconvert_exporter": "python",
   "pygments_lexer": "ipython3",
   "version": "3.8.5"
  },
  "toc": {
   "base_numbering": 1,
   "nav_menu": {},
   "number_sections": true,
   "sideBar": true,
   "skip_h1_title": false,
   "title_cell": "Table of Contents",
   "title_sidebar": "Contents",
   "toc_cell": false,
   "toc_position": {
    "height": "calc(100% - 180px)",
    "left": "10px",
    "top": "150px",
    "width": "384px"
   },
   "toc_section_display": true,
   "toc_window_display": true
  }
 },
 "nbformat": 4,
 "nbformat_minor": 5
}
